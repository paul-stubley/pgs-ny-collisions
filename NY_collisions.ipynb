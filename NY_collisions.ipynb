{
 "cells": [
  {
   "cell_type": "code",
   "execution_count": 54,
   "metadata": {},
   "outputs": [],
   "source": [
    "import geopandas as gpd\n",
    "import pandas as pd\n",
    "from shapely.geometry import MultiPolygon\n",
    "import plotly.express as px\n"
   ]
  },
  {
   "cell_type": "code",
   "execution_count": null,
   "metadata": {},
   "outputs": [],
   "source": [
    "# Attempt to refactor plot function:\n",
    "\n",
    "def create_plot(plot_func, args):\n",
    "    fig = plot_func(args[0]\n",
    "                        , lat='LATITUDE'\n",
    "                        , lon='LONGITUDE')\n",
    "                        , center=dict(lat=40.71, lon=-74)\n",
    "                        , zoom=8.9\n",
    "                        , mapbox_style=\"open-street-map\"\n",
    "                        , *args[1:])\n",
    "    return fig"
   ]
  },
  {
   "cell_type": "code",
   "execution_count": 110,
   "metadata": {},
   "outputs": [],
   "source": [
    "collisions = gpd.read_file(\"data/nypd-motor-vehicle-collisions_head.csv\")"
   ]
  },
  {
   "cell_type": "code",
   "execution_count": 111,
   "metadata": {},
   "outputs": [
    {
     "data": {
      "text/plain": [
       "(9999, 30)"
      ]
     },
     "execution_count": 111,
     "metadata": {},
     "output_type": "execute_result"
    }
   ],
   "source": [
    "collisions.shape"
   ]
  },
  {
   "cell_type": "code",
   "execution_count": 112,
   "metadata": {},
   "outputs": [
    {
     "data": {
      "text/plain": [
       "(9148, 30)"
      ]
     },
     "execution_count": 112,
     "metadata": {},
     "output_type": "execute_result"
    }
   ],
   "source": [
    "# Remove rows with unknown Lat or Long\n",
    "collisions = collisions[collisions.LATITUDE !=\"\"]\n",
    "collisions = collisions[collisions.LONGITUDE!=\"\"]\n",
    "collisions.rename(columns={'LATITUDE':'latitude','LONGITUDE':'longitude'}, inplace=True)\n",
    "\n",
    "collisions.shape\n",
    "\n",
    "## More general way of doing this:\n",
    "# collisions.replace('',float(\"NaN\"),inplace=True)\n",
    "# collisions.dropna(subset=['LONGITUDE','LATITUDE'],inplace=True)"
   ]
  },
  {
   "cell_type": "code",
   "execution_count": 123,
   "metadata": {},
   "outputs": [
    {
     "name": "stderr",
     "output_type": "stream",
     "text": [
      "/Users/paulgstubley/Library/Python/3.7/lib/python/site-packages/pyproj/crs/crs.py:53: FutureWarning:\n",
      "\n",
      "'+init=<authority>:<code>' syntax is deprecated. '<authority>:<code>' is the preferred initialization method. When making the change, be mindful of axis order changes: https://pyproj4.github.io/pyproj/stable/gotchas.html#axis-order-changes-in-proj-6\n",
      "\n"
     ]
    },
    {
     "data": {
      "text/html": [
       "<div>\n",
       "<style scoped>\n",
       "    .dataframe tbody tr th:only-of-type {\n",
       "        vertical-align: middle;\n",
       "    }\n",
       "\n",
       "    .dataframe tbody tr th {\n",
       "        vertical-align: top;\n",
       "    }\n",
       "\n",
       "    .dataframe thead th {\n",
       "        text-align: right;\n",
       "    }\n",
       "</style>\n",
       "<table border=\"1\" class=\"dataframe\">\n",
       "  <thead>\n",
       "    <tr style=\"text-align: right;\">\n",
       "      <th></th>\n",
       "      <th>ACCIDENT DATE</th>\n",
       "      <th>ACCIDENT TIME</th>\n",
       "      <th>BOROUGH</th>\n",
       "      <th>ZIP CODE</th>\n",
       "      <th>latitude</th>\n",
       "      <th>longitude</th>\n",
       "      <th>LOCATION</th>\n",
       "      <th>ON STREET NAME</th>\n",
       "      <th>CROSS STREET NAME</th>\n",
       "      <th>OFF STREET NAME</th>\n",
       "      <th>...</th>\n",
       "      <th>CONTRIBUTING FACTOR VEHICLE 3</th>\n",
       "      <th>CONTRIBUTING FACTOR VEHICLE 4</th>\n",
       "      <th>CONTRIBUTING FACTOR VEHICLE 5</th>\n",
       "      <th>COLLISION_ID</th>\n",
       "      <th>VEHICLE TYPE CODE 1</th>\n",
       "      <th>VEHICLE TYPE CODE 2</th>\n",
       "      <th>VEHICLE TYPE CODE 3</th>\n",
       "      <th>VEHICLE TYPE CODE 4</th>\n",
       "      <th>VEHICLE TYPE CODE 5</th>\n",
       "      <th>geometry</th>\n",
       "    </tr>\n",
       "  </thead>\n",
       "  <tbody>\n",
       "    <tr>\n",
       "      <th>0</th>\n",
       "      <td>2019-08-05T00:00:00.000</td>\n",
       "      <td>16:30</td>\n",
       "      <td>QUEENS</td>\n",
       "      <td>11434</td>\n",
       "      <td>40.6760520</td>\n",
       "      <td>-73.7901840</td>\n",
       "      <td>{'type': 'Point', 'coordinates': [-73.790184, ...</td>\n",
       "      <td></td>\n",
       "      <td></td>\n",
       "      <td>150-08    123 AVENUE</td>\n",
       "      <td>...</td>\n",
       "      <td></td>\n",
       "      <td></td>\n",
       "      <td></td>\n",
       "      <td>4184637</td>\n",
       "      <td>Sedan</td>\n",
       "      <td>Pick-up Truck</td>\n",
       "      <td></td>\n",
       "      <td></td>\n",
       "      <td></td>\n",
       "      <td>POINT (1042448.797 185650.083)</td>\n",
       "    </tr>\n",
       "    <tr>\n",
       "      <th>1</th>\n",
       "      <td>2019-08-27T00:00:00.000</td>\n",
       "      <td>16:02</td>\n",
       "      <td>BROOKLYN</td>\n",
       "      <td>11225</td>\n",
       "      <td>40.6577800</td>\n",
       "      <td>-73.9510960</td>\n",
       "      <td>{'type': 'Point', 'coordinates': [-73.951096, ...</td>\n",
       "      <td></td>\n",
       "      <td></td>\n",
       "      <td>288       HAWTHORNE STREET</td>\n",
       "      <td>...</td>\n",
       "      <td></td>\n",
       "      <td></td>\n",
       "      <td></td>\n",
       "      <td>4195773</td>\n",
       "      <td>Station Wagon/Sport Utility Vehicle</td>\n",
       "      <td>Station Wagon/Sport Utility Vehicle</td>\n",
       "      <td></td>\n",
       "      <td></td>\n",
       "      <td></td>\n",
       "      <td>POINT (997818.728 178927.165)</td>\n",
       "    </tr>\n",
       "    <tr>\n",
       "      <th>2</th>\n",
       "      <td>2019-08-15T00:00:00.000</td>\n",
       "      <td>17:57</td>\n",
       "      <td>MANHATTAN</td>\n",
       "      <td>10002</td>\n",
       "      <td>40.7181430</td>\n",
       "      <td>-73.9938350</td>\n",
       "      <td>{'type': 'Point', 'coordinates': [-73.993835, ...</td>\n",
       "      <td>CHRYSTIE STREET</td>\n",
       "      <td>GRAND STREET</td>\n",
       "      <td></td>\n",
       "      <td>...</td>\n",
       "      <td></td>\n",
       "      <td></td>\n",
       "      <td></td>\n",
       "      <td>4202457</td>\n",
       "      <td>Sedan</td>\n",
       "      <td></td>\n",
       "      <td></td>\n",
       "      <td></td>\n",
       "      <td></td>\n",
       "      <td>POINT (985958.971 200915.441)</td>\n",
       "    </tr>\n",
       "    <tr>\n",
       "      <th>3</th>\n",
       "      <td>2019-08-30T00:00:00.000</td>\n",
       "      <td>21:53</td>\n",
       "      <td>BRONX</td>\n",
       "      <td>10460</td>\n",
       "      <td>40.8405340</td>\n",
       "      <td>-73.8666100</td>\n",
       "      <td>{'type': 'Point', 'coordinates': [-73.86661, 4...</td>\n",
       "      <td></td>\n",
       "      <td></td>\n",
       "      <td>1837      EAST TREMONT AVENUE</td>\n",
       "      <td>...</td>\n",
       "      <td></td>\n",
       "      <td></td>\n",
       "      <td></td>\n",
       "      <td>4198749</td>\n",
       "      <td>Taxi</td>\n",
       "      <td>Station Wagon/Sport Utility Vehicle</td>\n",
       "      <td></td>\n",
       "      <td></td>\n",
       "      <td></td>\n",
       "      <td>POINT (1021158.508 245534.669)</td>\n",
       "    </tr>\n",
       "    <tr>\n",
       "      <th>4</th>\n",
       "      <td>2019-08-06T00:00:00.000</td>\n",
       "      <td>9:45</td>\n",
       "      <td>MANHATTAN</td>\n",
       "      <td>10016</td>\n",
       "      <td>40.7454400</td>\n",
       "      <td>-73.9754000</td>\n",
       "      <td>{'type': 'Point', 'coordinates': [-73.9754, 40...</td>\n",
       "      <td>EAST 35 STREET</td>\n",
       "      <td>2 AVENUE</td>\n",
       "      <td></td>\n",
       "      <td>...</td>\n",
       "      <td></td>\n",
       "      <td></td>\n",
       "      <td></td>\n",
       "      <td>4183798</td>\n",
       "      <td>Station Wagon/Sport Utility Vehicle</td>\n",
       "      <td>Bike</td>\n",
       "      <td></td>\n",
       "      <td></td>\n",
       "      <td></td>\n",
       "      <td>POINT (991066.459 210861.489)</td>\n",
       "    </tr>\n",
       "  </tbody>\n",
       "</table>\n",
       "<p>5 rows × 30 columns</p>\n",
       "</div>"
      ],
      "text/plain": [
       "             ACCIDENT DATE ACCIDENT TIME    BOROUGH ZIP CODE    latitude  \\\n",
       "0  2019-08-05T00:00:00.000         16:30     QUEENS    11434  40.6760520   \n",
       "1  2019-08-27T00:00:00.000         16:02   BROOKLYN    11225  40.6577800   \n",
       "2  2019-08-15T00:00:00.000         17:57  MANHATTAN    10002  40.7181430   \n",
       "3  2019-08-30T00:00:00.000         21:53      BRONX    10460  40.8405340   \n",
       "4  2019-08-06T00:00:00.000          9:45  MANHATTAN    10016  40.7454400   \n",
       "\n",
       "     longitude                                           LOCATION  \\\n",
       "0  -73.7901840  {'type': 'Point', 'coordinates': [-73.790184, ...   \n",
       "1  -73.9510960  {'type': 'Point', 'coordinates': [-73.951096, ...   \n",
       "2  -73.9938350  {'type': 'Point', 'coordinates': [-73.993835, ...   \n",
       "3  -73.8666100  {'type': 'Point', 'coordinates': [-73.86661, 4...   \n",
       "4  -73.9754000  {'type': 'Point', 'coordinates': [-73.9754, 40...   \n",
       "\n",
       "                     ON STREET NAME CROSS STREET NAME  \\\n",
       "0                                                       \n",
       "1                                                       \n",
       "2  CHRYSTIE STREET                       GRAND STREET   \n",
       "3                                                       \n",
       "4  EAST 35 STREET                            2 AVENUE   \n",
       "\n",
       "                            OFF STREET NAME  ...  \\\n",
       "0  150-08    123 AVENUE                      ...   \n",
       "1  288       HAWTHORNE STREET                ...   \n",
       "2                                            ...   \n",
       "3  1837      EAST TREMONT AVENUE             ...   \n",
       "4                                            ...   \n",
       "\n",
       "  CONTRIBUTING FACTOR VEHICLE 3 CONTRIBUTING FACTOR VEHICLE 4  \\\n",
       "0                                                               \n",
       "1                                                               \n",
       "2                                                               \n",
       "3                                                               \n",
       "4                                                               \n",
       "\n",
       "  CONTRIBUTING FACTOR VEHICLE 5 COLLISION_ID  \\\n",
       "0                                    4184637   \n",
       "1                                    4195773   \n",
       "2                                    4202457   \n",
       "3                                    4198749   \n",
       "4                                    4183798   \n",
       "\n",
       "                   VEHICLE TYPE CODE 1                  VEHICLE TYPE CODE 2  \\\n",
       "0                                Sedan                        Pick-up Truck   \n",
       "1  Station Wagon/Sport Utility Vehicle  Station Wagon/Sport Utility Vehicle   \n",
       "2                                Sedan                                        \n",
       "3                                 Taxi  Station Wagon/Sport Utility Vehicle   \n",
       "4  Station Wagon/Sport Utility Vehicle                                 Bike   \n",
       "\n",
       "  VEHICLE TYPE CODE 3 VEHICLE TYPE CODE 4 VEHICLE TYPE CODE 5  \\\n",
       "0                                                               \n",
       "1                                                               \n",
       "2                                                               \n",
       "3                                                               \n",
       "4                                                               \n",
       "\n",
       "                         geometry  \n",
       "0  POINT (1042448.797 185650.083)  \n",
       "1   POINT (997818.728 178927.165)  \n",
       "2   POINT (985958.971 200915.441)  \n",
       "3  POINT (1021158.508 245534.669)  \n",
       "4   POINT (991066.459 210861.489)  \n",
       "\n",
       "[5 rows x 30 columns]"
      ]
     },
     "execution_count": 123,
     "metadata": {},
     "output_type": "execute_result"
    }
   ],
   "source": [
    "collisions.geometry = gpd.points_from_xy(collisions.longitude.astype(float), collisions.latitude.astype(float))\n",
    "collisions.crs = {'init': 'epsg:4326'}    # Plain lat/long is 4326\n",
    "collisions = collisions.to_crs(epsg=2263) # Move to the CRS of the hosital data (geometry column changes, lat/long don't)\n",
    "collisions.head()"
   ]
  },
  {
   "cell_type": "code",
   "execution_count": 124,
   "metadata": {},
   "outputs": [
    {
     "ename": "ValueError",
     "evalue": "Value of 'lat' is not the name of a column in 'data_frame'. Expected one of ['ACCIDENT DATE', 'ACCIDENT TIME', 'BOROUGH', 'ZIP CODE', 'latitude', 'longitude', 'LOCATION', 'ON STREET NAME', 'CROSS STREET NAME', 'OFF STREET NAME', 'NUMBER OF PERSONS INJURED', 'NUMBER OF PERSONS KILLED', 'NUMBER OF PEDESTRIANS INJURED', 'NUMBER OF PEDESTRIANS KILLED', 'NUMBER OF CYCLIST INJURED', 'NUMBER OF CYCLIST KILLED', 'NUMBER OF MOTORIST INJURED', 'NUMBER OF MOTORIST KILLED', 'CONTRIBUTING FACTOR VEHICLE 1', 'CONTRIBUTING FACTOR VEHICLE 2', 'CONTRIBUTING FACTOR VEHICLE 3', 'CONTRIBUTING FACTOR VEHICLE 4', 'CONTRIBUTING FACTOR VEHICLE 5', 'COLLISION_ID', 'VEHICLE TYPE CODE 1', 'VEHICLE TYPE CODE 2', 'VEHICLE TYPE CODE 3', 'VEHICLE TYPE CODE 4', 'VEHICLE TYPE CODE 5', 'geometry'] but received: LATITUDE",
     "output_type": "error",
     "traceback": [
      "\u001b[0;31m---------------------------------------------------------------------------\u001b[0m",
      "\u001b[0;31mValueError\u001b[0m                                Traceback (most recent call last)",
      "\u001b[0;32m<ipython-input-124-f005fb49cd98>\u001b[0m in \u001b[0;36m<module>\u001b[0;34m\u001b[0m\n\u001b[1;32m      6\u001b[0m                         \u001b[0;34m,\u001b[0m \u001b[0mzoom\u001b[0m\u001b[0;34m=\u001b[0m\u001b[0;36m8.9\u001b[0m\u001b[0;34m\u001b[0m\u001b[0;34m\u001b[0m\u001b[0m\n\u001b[1;32m      7\u001b[0m                         \u001b[0;34m,\u001b[0m \u001b[0mmapbox_style\u001b[0m\u001b[0;34m=\u001b[0m\u001b[0;34m\"open-street-map\"\u001b[0m\u001b[0;34m\u001b[0m\u001b[0;34m\u001b[0m\u001b[0m\n\u001b[0;32m----> 8\u001b[0;31m                         \u001b[0;34m,\u001b[0m \u001b[0mrange_color\u001b[0m\u001b[0;34m=\u001b[0m\u001b[0;34m(\u001b[0m\u001b[0;36m0\u001b[0m\u001b[0;34m,\u001b[0m\u001b[0;36m5\u001b[0m\u001b[0;34m)\u001b[0m\u001b[0;34m\u001b[0m\u001b[0;34m\u001b[0m\u001b[0m\n\u001b[0m\u001b[1;32m      9\u001b[0m                        )\n\u001b[1;32m     10\u001b[0m \u001b[0mfig\u001b[0m\u001b[0;34m.\u001b[0m\u001b[0mshow\u001b[0m\u001b[0;34m(\u001b[0m\u001b[0;34m)\u001b[0m\u001b[0;34m\u001b[0m\u001b[0;34m\u001b[0m\u001b[0m\n",
      "\u001b[0;32m~/Library/Python/3.7/lib/python/site-packages/plotly/express/_chart_types.py\u001b[0m in \u001b[0;36mdensity_mapbox\u001b[0;34m(data_frame, lat, lon, z, hover_name, hover_data, custom_data, animation_frame, animation_group, category_orders, labels, color_continuous_scale, range_color, color_continuous_midpoint, opacity, zoom, center, mapbox_style, radius, title, template, width, height)\u001b[0m\n\u001b[1;32m   1115\u001b[0m     \"\"\"\n\u001b[1;32m   1116\u001b[0m     return make_figure(\n\u001b[0;32m-> 1117\u001b[0;31m         \u001b[0margs\u001b[0m\u001b[0;34m=\u001b[0m\u001b[0mlocals\u001b[0m\u001b[0;34m(\u001b[0m\u001b[0;34m)\u001b[0m\u001b[0;34m,\u001b[0m \u001b[0mconstructor\u001b[0m\u001b[0;34m=\u001b[0m\u001b[0mgo\u001b[0m\u001b[0;34m.\u001b[0m\u001b[0mDensitymapbox\u001b[0m\u001b[0;34m,\u001b[0m \u001b[0mtrace_patch\u001b[0m\u001b[0;34m=\u001b[0m\u001b[0mdict\u001b[0m\u001b[0;34m(\u001b[0m\u001b[0mradius\u001b[0m\u001b[0;34m=\u001b[0m\u001b[0mradius\u001b[0m\u001b[0;34m)\u001b[0m\u001b[0;34m\u001b[0m\u001b[0;34m\u001b[0m\u001b[0m\n\u001b[0m\u001b[1;32m   1118\u001b[0m     )\n\u001b[1;32m   1119\u001b[0m \u001b[0;34m\u001b[0m\u001b[0m\n",
      "\u001b[0;32m~/Library/Python/3.7/lib/python/site-packages/plotly/express/_core.py\u001b[0m in \u001b[0;36mmake_figure\u001b[0;34m(args, constructor, trace_patch, layout_patch)\u001b[0m\n\u001b[1;32m   1753\u001b[0m     \u001b[0mapply_default_cascade\u001b[0m\u001b[0;34m(\u001b[0m\u001b[0margs\u001b[0m\u001b[0;34m)\u001b[0m\u001b[0;34m\u001b[0m\u001b[0;34m\u001b[0m\u001b[0m\n\u001b[1;32m   1754\u001b[0m \u001b[0;34m\u001b[0m\u001b[0m\n\u001b[0;32m-> 1755\u001b[0;31m     \u001b[0margs\u001b[0m \u001b[0;34m=\u001b[0m \u001b[0mbuild_dataframe\u001b[0m\u001b[0;34m(\u001b[0m\u001b[0margs\u001b[0m\u001b[0;34m,\u001b[0m \u001b[0mconstructor\u001b[0m\u001b[0;34m)\u001b[0m\u001b[0;34m\u001b[0m\u001b[0;34m\u001b[0m\u001b[0m\n\u001b[0m\u001b[1;32m   1756\u001b[0m     \u001b[0;32mif\u001b[0m \u001b[0mconstructor\u001b[0m \u001b[0;32min\u001b[0m \u001b[0;34m[\u001b[0m\u001b[0mgo\u001b[0m\u001b[0;34m.\u001b[0m\u001b[0mTreemap\u001b[0m\u001b[0;34m,\u001b[0m \u001b[0mgo\u001b[0m\u001b[0;34m.\u001b[0m\u001b[0mSunburst\u001b[0m\u001b[0;34m]\u001b[0m \u001b[0;32mand\u001b[0m \u001b[0margs\u001b[0m\u001b[0;34m[\u001b[0m\u001b[0;34m\"path\"\u001b[0m\u001b[0;34m]\u001b[0m \u001b[0;32mis\u001b[0m \u001b[0;32mnot\u001b[0m \u001b[0;32mNone\u001b[0m\u001b[0;34m:\u001b[0m\u001b[0;34m\u001b[0m\u001b[0;34m\u001b[0m\u001b[0m\n\u001b[1;32m   1757\u001b[0m         \u001b[0margs\u001b[0m \u001b[0;34m=\u001b[0m \u001b[0mprocess_dataframe_hierarchy\u001b[0m\u001b[0;34m(\u001b[0m\u001b[0margs\u001b[0m\u001b[0;34m)\u001b[0m\u001b[0;34m\u001b[0m\u001b[0;34m\u001b[0m\u001b[0m\n",
      "\u001b[0;32m~/Library/Python/3.7/lib/python/site-packages/plotly/express/_core.py\u001b[0m in \u001b[0;36mbuild_dataframe\u001b[0;34m(args, constructor)\u001b[0m\n\u001b[1;32m   1311\u001b[0m \u001b[0;34m\u001b[0m\u001b[0m\n\u001b[1;32m   1312\u001b[0m     df_output, wide_id_vars = process_args_into_dataframe(\n\u001b[0;32m-> 1313\u001b[0;31m         \u001b[0margs\u001b[0m\u001b[0;34m,\u001b[0m \u001b[0mwide_mode\u001b[0m\u001b[0;34m,\u001b[0m \u001b[0mvar_name\u001b[0m\u001b[0;34m,\u001b[0m \u001b[0mvalue_name\u001b[0m\u001b[0;34m\u001b[0m\u001b[0;34m\u001b[0m\u001b[0m\n\u001b[0m\u001b[1;32m   1314\u001b[0m     )\n\u001b[1;32m   1315\u001b[0m \u001b[0;34m\u001b[0m\u001b[0m\n",
      "\u001b[0;32m~/Library/Python/3.7/lib/python/site-packages/plotly/express/_core.py\u001b[0m in \u001b[0;36mprocess_args_into_dataframe\u001b[0;34m(args, wide_mode, var_name, value_name)\u001b[0m\n\u001b[1;32m   1117\u001b[0m                         \u001b[0;32mif\u001b[0m \u001b[0margument\u001b[0m \u001b[0;34m==\u001b[0m \u001b[0;34m\"index\"\u001b[0m\u001b[0;34m:\u001b[0m\u001b[0;34m\u001b[0m\u001b[0;34m\u001b[0m\u001b[0m\n\u001b[1;32m   1118\u001b[0m                             \u001b[0merr_msg\u001b[0m \u001b[0;34m+=\u001b[0m \u001b[0;34m\"\\n To use the index, pass it in directly as `df.index`.\"\u001b[0m\u001b[0;34m\u001b[0m\u001b[0;34m\u001b[0m\u001b[0m\n\u001b[0;32m-> 1119\u001b[0;31m                         \u001b[0;32mraise\u001b[0m \u001b[0mValueError\u001b[0m\u001b[0;34m(\u001b[0m\u001b[0merr_msg\u001b[0m\u001b[0;34m)\u001b[0m\u001b[0;34m\u001b[0m\u001b[0;34m\u001b[0m\u001b[0m\n\u001b[0m\u001b[1;32m   1120\u001b[0m                 \u001b[0;32melif\u001b[0m \u001b[0mlength\u001b[0m \u001b[0;32mand\u001b[0m \u001b[0mlen\u001b[0m\u001b[0;34m(\u001b[0m\u001b[0mdf_input\u001b[0m\u001b[0;34m[\u001b[0m\u001b[0margument\u001b[0m\u001b[0;34m]\u001b[0m\u001b[0;34m)\u001b[0m \u001b[0;34m!=\u001b[0m \u001b[0mlength\u001b[0m\u001b[0;34m:\u001b[0m\u001b[0;34m\u001b[0m\u001b[0;34m\u001b[0m\u001b[0m\n\u001b[1;32m   1121\u001b[0m                     raise ValueError(\n",
      "\u001b[0;31mValueError\u001b[0m: Value of 'lat' is not the name of a column in 'data_frame'. Expected one of ['ACCIDENT DATE', 'ACCIDENT TIME', 'BOROUGH', 'ZIP CODE', 'latitude', 'longitude', 'LOCATION', 'ON STREET NAME', 'CROSS STREET NAME', 'OFF STREET NAME', 'NUMBER OF PERSONS INJURED', 'NUMBER OF PERSONS KILLED', 'NUMBER OF PEDESTRIANS INJURED', 'NUMBER OF PEDESTRIANS KILLED', 'NUMBER OF CYCLIST INJURED', 'NUMBER OF CYCLIST KILLED', 'NUMBER OF MOTORIST INJURED', 'NUMBER OF MOTORIST KILLED', 'CONTRIBUTING FACTOR VEHICLE 1', 'CONTRIBUTING FACTOR VEHICLE 2', 'CONTRIBUTING FACTOR VEHICLE 3', 'CONTRIBUTING FACTOR VEHICLE 4', 'CONTRIBUTING FACTOR VEHICLE 5', 'COLLISION_ID', 'VEHICLE TYPE CODE 1', 'VEHICLE TYPE CODE 2', 'VEHICLE TYPE CODE 3', 'VEHICLE TYPE CODE 4', 'VEHICLE TYPE CODE 5', 'geometry'] but received: LATITUDE"
     ]
    }
   ],
   "source": [
    "fig = px.density_mapbox(collisions\n",
    "                        , lat='LATITUDE'\n",
    "                        , lon='LONGITUDE'\n",
    "                        , radius=8\n",
    "                        , center=dict(lat=40.71, lon=-74)\n",
    "                        , zoom=8.9\n",
    "                        , mapbox_style=\"open-street-map\"\n",
    "                        , range_color=(0,5) \n",
    "                       )\n",
    "fig.show()"
   ]
  },
  {
   "cell_type": "code",
   "execution_count": 125,
   "metadata": {},
   "outputs": [
    {
     "data": {
      "text/html": [
       "<div>\n",
       "<style scoped>\n",
       "    .dataframe tbody tr th:only-of-type {\n",
       "        vertical-align: middle;\n",
       "    }\n",
       "\n",
       "    .dataframe tbody tr th {\n",
       "        vertical-align: top;\n",
       "    }\n",
       "\n",
       "    .dataframe thead th {\n",
       "        text-align: right;\n",
       "    }\n",
       "</style>\n",
       "<table border=\"1\" class=\"dataframe\">\n",
       "  <thead>\n",
       "    <tr style=\"text-align: right;\">\n",
       "      <th></th>\n",
       "      <th>id</th>\n",
       "      <th>name</th>\n",
       "      <th>address</th>\n",
       "      <th>zip</th>\n",
       "      <th>factype</th>\n",
       "      <th>facname</th>\n",
       "      <th>capacity</th>\n",
       "      <th>capname</th>\n",
       "      <th>bcode</th>\n",
       "      <th>xcoord</th>\n",
       "      <th>ycoord</th>\n",
       "      <th>latitude</th>\n",
       "      <th>longitude</th>\n",
       "      <th>geometry</th>\n",
       "    </tr>\n",
       "  </thead>\n",
       "  <tbody>\n",
       "    <tr>\n",
       "      <th>0</th>\n",
       "      <td>317000001H1178</td>\n",
       "      <td>BRONX-LEBANON HOSPITAL CENTER - CONCOURSE DIVI...</td>\n",
       "      <td>1650 Grand Concourse</td>\n",
       "      <td>10457</td>\n",
       "      <td>3102</td>\n",
       "      <td>Hospital</td>\n",
       "      <td>415</td>\n",
       "      <td>Beds</td>\n",
       "      <td>36005</td>\n",
       "      <td>1008872.0</td>\n",
       "      <td>246596.0</td>\n",
       "      <td>40.843490</td>\n",
       "      <td>-73.911010</td>\n",
       "      <td>POINT (1008872.000 246596.000)</td>\n",
       "    </tr>\n",
       "    <tr>\n",
       "      <th>1</th>\n",
       "      <td>317000001H1164</td>\n",
       "      <td>BRONX-LEBANON HOSPITAL CENTER - FULTON DIVISION</td>\n",
       "      <td>1276 Fulton Ave</td>\n",
       "      <td>10456</td>\n",
       "      <td>3102</td>\n",
       "      <td>Hospital</td>\n",
       "      <td>164</td>\n",
       "      <td>Beds</td>\n",
       "      <td>36005</td>\n",
       "      <td>1011044.0</td>\n",
       "      <td>242204.0</td>\n",
       "      <td>40.831429</td>\n",
       "      <td>-73.903178</td>\n",
       "      <td>POINT (1011044.000 242204.000)</td>\n",
       "    </tr>\n",
       "    <tr>\n",
       "      <th>2</th>\n",
       "      <td>317000011H1175</td>\n",
       "      <td>CALVARY HOSPITAL INC</td>\n",
       "      <td>1740-70 Eastchester Rd</td>\n",
       "      <td>10461</td>\n",
       "      <td>3102</td>\n",
       "      <td>Hospital</td>\n",
       "      <td>225</td>\n",
       "      <td>Beds</td>\n",
       "      <td>36005</td>\n",
       "      <td>1027505.0</td>\n",
       "      <td>248287.0</td>\n",
       "      <td>40.848060</td>\n",
       "      <td>-73.843656</td>\n",
       "      <td>POINT (1027505.000 248287.000)</td>\n",
       "    </tr>\n",
       "    <tr>\n",
       "      <th>3</th>\n",
       "      <td>317000002H1165</td>\n",
       "      <td>JACOBI MEDICAL CENTER</td>\n",
       "      <td>1400 Pelham Pkwy</td>\n",
       "      <td>10461</td>\n",
       "      <td>3102</td>\n",
       "      <td>Hospital</td>\n",
       "      <td>457</td>\n",
       "      <td>Beds</td>\n",
       "      <td>36005</td>\n",
       "      <td>1027042.0</td>\n",
       "      <td>251065.0</td>\n",
       "      <td>40.855687</td>\n",
       "      <td>-73.845311</td>\n",
       "      <td>POINT (1027042.000 251065.000)</td>\n",
       "    </tr>\n",
       "    <tr>\n",
       "      <th>4</th>\n",
       "      <td>317000008H1172</td>\n",
       "      <td>LINCOLN MEDICAL &amp; MENTAL HEALTH CENTER</td>\n",
       "      <td>234 E 149 St</td>\n",
       "      <td>10451</td>\n",
       "      <td>3102</td>\n",
       "      <td>Hospital</td>\n",
       "      <td>362</td>\n",
       "      <td>Beds</td>\n",
       "      <td>36005</td>\n",
       "      <td>1005154.0</td>\n",
       "      <td>236853.0</td>\n",
       "      <td>40.816758</td>\n",
       "      <td>-73.924478</td>\n",
       "      <td>POINT (1005154.000 236853.000)</td>\n",
       "    </tr>\n",
       "  </tbody>\n",
       "</table>\n",
       "</div>"
      ],
      "text/plain": [
       "               id                                               name  \\\n",
       "0  317000001H1178  BRONX-LEBANON HOSPITAL CENTER - CONCOURSE DIVI...   \n",
       "1  317000001H1164    BRONX-LEBANON HOSPITAL CENTER - FULTON DIVISION   \n",
       "2  317000011H1175                               CALVARY HOSPITAL INC   \n",
       "3  317000002H1165                              JACOBI MEDICAL CENTER   \n",
       "4  317000008H1172             LINCOLN MEDICAL & MENTAL HEALTH CENTER   \n",
       "\n",
       "                  address    zip factype   facname capacity capname  bcode  \\\n",
       "0    1650 Grand Concourse  10457    3102  Hospital      415    Beds  36005   \n",
       "1         1276 Fulton Ave  10456    3102  Hospital      164    Beds  36005   \n",
       "2  1740-70 Eastchester Rd  10461    3102  Hospital      225    Beds  36005   \n",
       "3        1400 Pelham Pkwy  10461    3102  Hospital      457    Beds  36005   \n",
       "4            234 E 149 St  10451    3102  Hospital      362    Beds  36005   \n",
       "\n",
       "      xcoord    ycoord   latitude  longitude                        geometry  \n",
       "0  1008872.0  246596.0  40.843490 -73.911010  POINT (1008872.000 246596.000)  \n",
       "1  1011044.0  242204.0  40.831429 -73.903178  POINT (1011044.000 242204.000)  \n",
       "2  1027505.0  248287.0  40.848060 -73.843656  POINT (1027505.000 248287.000)  \n",
       "3  1027042.0  251065.0  40.855687 -73.845311  POINT (1027042.000 251065.000)  \n",
       "4  1005154.0  236853.0  40.816758 -73.924478  POINT (1005154.000 236853.000)  "
      ]
     },
     "execution_count": 125,
     "metadata": {},
     "output_type": "execute_result"
    }
   ],
   "source": [
    "hospitals = gpd.read_file(\"data/hospitals/hospitals.shp\")\n",
    "hospitals.head()"
   ]
  },
  {
   "cell_type": "code",
   "execution_count": 126,
   "metadata": {},
   "outputs": [
    {
     "data": {
      "text/plain": [
       "<Projected CRS: EPSG:2263>\n",
       "Name: NAD83 / New York Long Island (ftUS)\n",
       "Axis Info [cartesian]:\n",
       "- X[east]: Easting (US survey foot)\n",
       "- Y[north]: Northing (US survey foot)\n",
       "Area of Use:\n",
       "- name: USA - New York - SPCS - Long Island\n",
       "- bounds: (-74.26, 40.47, -71.8, 41.3)\n",
       "Coordinate Operation:\n",
       "- name: SPCS83 New York Long Island zone (US Survey feet)\n",
       "- method: Lambert Conic Conformal (2SP)\n",
       "Datum: North American Datum 1983\n",
       "- Ellipsoid: GRS 1980\n",
       "- Prime Meridian: Greenwich"
      ]
     },
     "execution_count": 126,
     "metadata": {},
     "output_type": "execute_result"
    }
   ],
   "source": [
    "hospitals.crs"
   ]
  },
  {
   "cell_type": "code",
   "execution_count": null,
   "metadata": {},
   "outputs": [],
   "source": []
  },
  {
   "cell_type": "code",
   "execution_count": 127,
   "metadata": {},
   "outputs": [],
   "source": [
    "# Fill null capacities with median capacity\n",
    "hospitals = hospitals.fillna(hospitals.capacity.median())\n",
    "hospitals.capacity = hospitals.capacity.astype(float)\n",
    "hospitals.name     = hospitals.name.str.title()"
   ]
  },
  {
   "cell_type": "code",
   "execution_count": 128,
   "metadata": {},
   "outputs": [
    {
     "data": {
      "application/vnd.plotly.v1+json": {
       "config": {
        "plotlyServerURL": "https://plot.ly"
       },
       "data": [
        {
         "hovertemplate": "capacity=%{marker.color}<br>latitude=%{lat}<br>longitude=%{lon}<extra></extra>",
         "lat": [
          40.84348984739682,
          40.83142876488179,
          40.848059524296055,
          40.85568655396233,
          40.81675769880821,
          40.8498496292291,
          40.880828056610234,
          40.840707344128425,
          40.893517718763405,
          40.88048615007653,
          40.85337772916848,
          40.65491846463238,
          40.69057965481238,
          40.585645970507926,
          40.67843021053433,
          40.656686551383224,
          40.659574215904684,
          40.64667161679278,
          40.63950693380259,
          40.61873121403783,
          40.61391396173966,
          40.66782845166711,
          40.690002595723904,
          40.69043352049397,
          40.655089742874665,
          40.699488036608805,
          40.70420197722319,
          40.73874694182294,
          40.75760723115322,
          40.814123532751616,
          40.80299712174222,
          40.765108666479435,
          40.73771480651282,
          40.77365334626779,
          40.764374674631455,
          40.78505397397865,
          40.73332734064887,
          40.78987464729508,
          40.76969584616553,
          40.80569555361154,
          40.73188392497343,
          40.873227421595,
          40.840696082969366,
          40.764453245236844,
          40.710357701836905,
          40.73439514871634,
          40.742139177884276,
          40.76254627225295,
          40.74512101423679,
          40.75561323005755,
          40.72903352450227,
          40.7005057752842,
          40.75292723318126,
          40.76805542814507,
          40.747180508981685,
          40.7177364216317,
          40.59865531058224,
          40.635876540798016,
          40.62257417575695,
          40.60284640058876,
          40.58451612059963,
          40.516978800451795
         ],
         "legendgroup": "",
         "lon": [
          -73.9110103877187,
          -73.90317782803042,
          -73.84365561299151,
          -73.84531138280727,
          -73.92447845294292,
          -73.84610932136209,
          -73.87994733604533,
          -73.8484434844751,
          -73.86122475983386,
          -73.88108707078342,
          -73.89037489167946,
          -73.9123791741448,
          -73.97793163176702,
          -73.96486850038322,
          -73.93759250176674,
          -73.94383353874257,
          -73.93380403563673,
          -74.02122142087823,
          -73.99870645745953,
          -73.94297936911907,
          -73.9484978425456,
          -73.97913592381343,
          -73.99743259117099,
          -73.99725588378374,
          -73.94518999648369,
          -73.9427660419906,
          -73.91756211820649,
          -73.9753427823785,
          -73.95260272039623,
          -73.93976651076436,
          -73.94112025542181,
          -73.9527273412189,
          -74.00087325540062,
          -73.96085559969245,
          -73.95679987256894,
          -73.94496023523027,
          -73.98234480428712,
          -73.95326589972156,
          -73.98688765825308,
          -73.96147972367363,
          -73.98461112231631,
          -73.91294845848223,
          -73.94163622952348,
          -73.9541429039059,
          -74.00501014024093,
          -73.98300123444983,
          -73.97408207907505,
          -73.95573615593123,
          -73.88564131742412,
          -73.81687376203057,
          -73.85154781041423,
          -73.81632908384934,
          -73.70931586733064,
          -73.92484415217665,
          -73.8251651922932,
          -73.80567939252272,
          -73.75348752144086,
          -74.10556032526767,
          -74.07561522684486,
          -74.09195676300882,
          -74.08549793485295,
          -74.19614316989768
         ],
         "marker": {
          "color": [
           415,
           164,
           225,
           457,
           362,
           424,
           779,
           373.5,
           309,
           213,
           422,
           530,
           464,
           371,
           287,
           639,
           318,
           450,
           711,
           212,
           134,
           591,
           373.5,
           506,
           376,
           388,
           324,
           912,
           210,
           282,
           201,
           205,
           2,
           632,
           514,
           338,
           856,
           1171,
           514,
           478,
           69,
           201,
           995,
           862,
           180,
           225,
           844,
           40,
           545,
           299,
           312,
           431,
           1025,
           235,
           535,
           247,
           257,
           448,
           25,
           51,
           508,
           206
          ],
          "coloraxis": "coloraxis",
          "opacity": 0.9,
          "size": [
           415,
           164,
           225,
           457,
           362,
           424,
           779,
           373.5,
           309,
           213,
           422,
           530,
           464,
           371,
           287,
           639,
           318,
           450,
           711,
           212,
           134,
           591,
           373.5,
           506,
           376,
           388,
           324,
           912,
           210,
           282,
           201,
           205,
           2,
           632,
           514,
           338,
           856,
           1171,
           514,
           478,
           69,
           201,
           995,
           862,
           180,
           225,
           844,
           40,
           545,
           299,
           312,
           431,
           1025,
           235,
           535,
           247,
           257,
           448,
           25,
           51,
           508,
           206
          ],
          "sizemode": "area",
          "sizeref": 2.9275
         },
         "mode": "markers",
         "name": "",
         "showlegend": false,
         "subplot": "mapbox",
         "type": "scattermapbox"
        }
       ],
       "layout": {
        "coloraxis": {
         "colorbar": {
          "title": {
           "text": "capacity"
          }
         },
         "colorscale": [
          [
           0,
           "rgb(255,0,0)"
          ],
          [
           1,
           "rgb(0,0,255)"
          ]
         ]
        },
        "legend": {
         "itemsizing": "constant",
         "tracegroupgap": 0
        },
        "mapbox": {
         "center": {
          "lat": 40.7,
          "lon": -73.9
         },
         "domain": {
          "x": [
           0,
           1
          ],
          "y": [
           0,
           1
          ]
         },
         "style": "open-street-map",
         "zoom": 9
        },
        "margin": {
         "t": 60
        },
        "template": {
         "data": {
          "bar": [
           {
            "error_x": {
             "color": "#2a3f5f"
            },
            "error_y": {
             "color": "#2a3f5f"
            },
            "marker": {
             "line": {
              "color": "#E5ECF6",
              "width": 0.5
             }
            },
            "type": "bar"
           }
          ],
          "barpolar": [
           {
            "marker": {
             "line": {
              "color": "#E5ECF6",
              "width": 0.5
             }
            },
            "type": "barpolar"
           }
          ],
          "carpet": [
           {
            "aaxis": {
             "endlinecolor": "#2a3f5f",
             "gridcolor": "white",
             "linecolor": "white",
             "minorgridcolor": "white",
             "startlinecolor": "#2a3f5f"
            },
            "baxis": {
             "endlinecolor": "#2a3f5f",
             "gridcolor": "white",
             "linecolor": "white",
             "minorgridcolor": "white",
             "startlinecolor": "#2a3f5f"
            },
            "type": "carpet"
           }
          ],
          "choropleth": [
           {
            "colorbar": {
             "outlinewidth": 0,
             "ticks": ""
            },
            "type": "choropleth"
           }
          ],
          "contour": [
           {
            "colorbar": {
             "outlinewidth": 0,
             "ticks": ""
            },
            "colorscale": [
             [
              0,
              "#0d0887"
             ],
             [
              0.1111111111111111,
              "#46039f"
             ],
             [
              0.2222222222222222,
              "#7201a8"
             ],
             [
              0.3333333333333333,
              "#9c179e"
             ],
             [
              0.4444444444444444,
              "#bd3786"
             ],
             [
              0.5555555555555556,
              "#d8576b"
             ],
             [
              0.6666666666666666,
              "#ed7953"
             ],
             [
              0.7777777777777778,
              "#fb9f3a"
             ],
             [
              0.8888888888888888,
              "#fdca26"
             ],
             [
              1,
              "#f0f921"
             ]
            ],
            "type": "contour"
           }
          ],
          "contourcarpet": [
           {
            "colorbar": {
             "outlinewidth": 0,
             "ticks": ""
            },
            "type": "contourcarpet"
           }
          ],
          "heatmap": [
           {
            "colorbar": {
             "outlinewidth": 0,
             "ticks": ""
            },
            "colorscale": [
             [
              0,
              "#0d0887"
             ],
             [
              0.1111111111111111,
              "#46039f"
             ],
             [
              0.2222222222222222,
              "#7201a8"
             ],
             [
              0.3333333333333333,
              "#9c179e"
             ],
             [
              0.4444444444444444,
              "#bd3786"
             ],
             [
              0.5555555555555556,
              "#d8576b"
             ],
             [
              0.6666666666666666,
              "#ed7953"
             ],
             [
              0.7777777777777778,
              "#fb9f3a"
             ],
             [
              0.8888888888888888,
              "#fdca26"
             ],
             [
              1,
              "#f0f921"
             ]
            ],
            "type": "heatmap"
           }
          ],
          "heatmapgl": [
           {
            "colorbar": {
             "outlinewidth": 0,
             "ticks": ""
            },
            "colorscale": [
             [
              0,
              "#0d0887"
             ],
             [
              0.1111111111111111,
              "#46039f"
             ],
             [
              0.2222222222222222,
              "#7201a8"
             ],
             [
              0.3333333333333333,
              "#9c179e"
             ],
             [
              0.4444444444444444,
              "#bd3786"
             ],
             [
              0.5555555555555556,
              "#d8576b"
             ],
             [
              0.6666666666666666,
              "#ed7953"
             ],
             [
              0.7777777777777778,
              "#fb9f3a"
             ],
             [
              0.8888888888888888,
              "#fdca26"
             ],
             [
              1,
              "#f0f921"
             ]
            ],
            "type": "heatmapgl"
           }
          ],
          "histogram": [
           {
            "marker": {
             "colorbar": {
              "outlinewidth": 0,
              "ticks": ""
             }
            },
            "type": "histogram"
           }
          ],
          "histogram2d": [
           {
            "colorbar": {
             "outlinewidth": 0,
             "ticks": ""
            },
            "colorscale": [
             [
              0,
              "#0d0887"
             ],
             [
              0.1111111111111111,
              "#46039f"
             ],
             [
              0.2222222222222222,
              "#7201a8"
             ],
             [
              0.3333333333333333,
              "#9c179e"
             ],
             [
              0.4444444444444444,
              "#bd3786"
             ],
             [
              0.5555555555555556,
              "#d8576b"
             ],
             [
              0.6666666666666666,
              "#ed7953"
             ],
             [
              0.7777777777777778,
              "#fb9f3a"
             ],
             [
              0.8888888888888888,
              "#fdca26"
             ],
             [
              1,
              "#f0f921"
             ]
            ],
            "type": "histogram2d"
           }
          ],
          "histogram2dcontour": [
           {
            "colorbar": {
             "outlinewidth": 0,
             "ticks": ""
            },
            "colorscale": [
             [
              0,
              "#0d0887"
             ],
             [
              0.1111111111111111,
              "#46039f"
             ],
             [
              0.2222222222222222,
              "#7201a8"
             ],
             [
              0.3333333333333333,
              "#9c179e"
             ],
             [
              0.4444444444444444,
              "#bd3786"
             ],
             [
              0.5555555555555556,
              "#d8576b"
             ],
             [
              0.6666666666666666,
              "#ed7953"
             ],
             [
              0.7777777777777778,
              "#fb9f3a"
             ],
             [
              0.8888888888888888,
              "#fdca26"
             ],
             [
              1,
              "#f0f921"
             ]
            ],
            "type": "histogram2dcontour"
           }
          ],
          "mesh3d": [
           {
            "colorbar": {
             "outlinewidth": 0,
             "ticks": ""
            },
            "type": "mesh3d"
           }
          ],
          "parcoords": [
           {
            "line": {
             "colorbar": {
              "outlinewidth": 0,
              "ticks": ""
             }
            },
            "type": "parcoords"
           }
          ],
          "pie": [
           {
            "automargin": true,
            "type": "pie"
           }
          ],
          "scatter": [
           {
            "marker": {
             "colorbar": {
              "outlinewidth": 0,
              "ticks": ""
             }
            },
            "type": "scatter"
           }
          ],
          "scatter3d": [
           {
            "line": {
             "colorbar": {
              "outlinewidth": 0,
              "ticks": ""
             }
            },
            "marker": {
             "colorbar": {
              "outlinewidth": 0,
              "ticks": ""
             }
            },
            "type": "scatter3d"
           }
          ],
          "scattercarpet": [
           {
            "marker": {
             "colorbar": {
              "outlinewidth": 0,
              "ticks": ""
             }
            },
            "type": "scattercarpet"
           }
          ],
          "scattergeo": [
           {
            "marker": {
             "colorbar": {
              "outlinewidth": 0,
              "ticks": ""
             }
            },
            "type": "scattergeo"
           }
          ],
          "scattergl": [
           {
            "marker": {
             "colorbar": {
              "outlinewidth": 0,
              "ticks": ""
             }
            },
            "type": "scattergl"
           }
          ],
          "scattermapbox": [
           {
            "marker": {
             "colorbar": {
              "outlinewidth": 0,
              "ticks": ""
             }
            },
            "type": "scattermapbox"
           }
          ],
          "scatterpolar": [
           {
            "marker": {
             "colorbar": {
              "outlinewidth": 0,
              "ticks": ""
             }
            },
            "type": "scatterpolar"
           }
          ],
          "scatterpolargl": [
           {
            "marker": {
             "colorbar": {
              "outlinewidth": 0,
              "ticks": ""
             }
            },
            "type": "scatterpolargl"
           }
          ],
          "scatterternary": [
           {
            "marker": {
             "colorbar": {
              "outlinewidth": 0,
              "ticks": ""
             }
            },
            "type": "scatterternary"
           }
          ],
          "surface": [
           {
            "colorbar": {
             "outlinewidth": 0,
             "ticks": ""
            },
            "colorscale": [
             [
              0,
              "#0d0887"
             ],
             [
              0.1111111111111111,
              "#46039f"
             ],
             [
              0.2222222222222222,
              "#7201a8"
             ],
             [
              0.3333333333333333,
              "#9c179e"
             ],
             [
              0.4444444444444444,
              "#bd3786"
             ],
             [
              0.5555555555555556,
              "#d8576b"
             ],
             [
              0.6666666666666666,
              "#ed7953"
             ],
             [
              0.7777777777777778,
              "#fb9f3a"
             ],
             [
              0.8888888888888888,
              "#fdca26"
             ],
             [
              1,
              "#f0f921"
             ]
            ],
            "type": "surface"
           }
          ],
          "table": [
           {
            "cells": {
             "fill": {
              "color": "#EBF0F8"
             },
             "line": {
              "color": "white"
             }
            },
            "header": {
             "fill": {
              "color": "#C8D4E3"
             },
             "line": {
              "color": "white"
             }
            },
            "type": "table"
           }
          ]
         },
         "layout": {
          "annotationdefaults": {
           "arrowcolor": "#2a3f5f",
           "arrowhead": 0,
           "arrowwidth": 1
          },
          "coloraxis": {
           "colorbar": {
            "outlinewidth": 0,
            "ticks": ""
           }
          },
          "colorscale": {
           "diverging": [
            [
             0,
             "#8e0152"
            ],
            [
             0.1,
             "#c51b7d"
            ],
            [
             0.2,
             "#de77ae"
            ],
            [
             0.3,
             "#f1b6da"
            ],
            [
             0.4,
             "#fde0ef"
            ],
            [
             0.5,
             "#f7f7f7"
            ],
            [
             0.6,
             "#e6f5d0"
            ],
            [
             0.7,
             "#b8e186"
            ],
            [
             0.8,
             "#7fbc41"
            ],
            [
             0.9,
             "#4d9221"
            ],
            [
             1,
             "#276419"
            ]
           ],
           "sequential": [
            [
             0,
             "#0d0887"
            ],
            [
             0.1111111111111111,
             "#46039f"
            ],
            [
             0.2222222222222222,
             "#7201a8"
            ],
            [
             0.3333333333333333,
             "#9c179e"
            ],
            [
             0.4444444444444444,
             "#bd3786"
            ],
            [
             0.5555555555555556,
             "#d8576b"
            ],
            [
             0.6666666666666666,
             "#ed7953"
            ],
            [
             0.7777777777777778,
             "#fb9f3a"
            ],
            [
             0.8888888888888888,
             "#fdca26"
            ],
            [
             1,
             "#f0f921"
            ]
           ],
           "sequentialminus": [
            [
             0,
             "#0d0887"
            ],
            [
             0.1111111111111111,
             "#46039f"
            ],
            [
             0.2222222222222222,
             "#7201a8"
            ],
            [
             0.3333333333333333,
             "#9c179e"
            ],
            [
             0.4444444444444444,
             "#bd3786"
            ],
            [
             0.5555555555555556,
             "#d8576b"
            ],
            [
             0.6666666666666666,
             "#ed7953"
            ],
            [
             0.7777777777777778,
             "#fb9f3a"
            ],
            [
             0.8888888888888888,
             "#fdca26"
            ],
            [
             1,
             "#f0f921"
            ]
           ]
          },
          "colorway": [
           "#636efa",
           "#EF553B",
           "#00cc96",
           "#ab63fa",
           "#FFA15A",
           "#19d3f3",
           "#FF6692",
           "#B6E880",
           "#FF97FF",
           "#FECB52"
          ],
          "font": {
           "color": "#2a3f5f"
          },
          "geo": {
           "bgcolor": "white",
           "lakecolor": "white",
           "landcolor": "#E5ECF6",
           "showlakes": true,
           "showland": true,
           "subunitcolor": "white"
          },
          "hoverlabel": {
           "align": "left"
          },
          "hovermode": "closest",
          "mapbox": {
           "style": "light"
          },
          "paper_bgcolor": "white",
          "plot_bgcolor": "#E5ECF6",
          "polar": {
           "angularaxis": {
            "gridcolor": "white",
            "linecolor": "white",
            "ticks": ""
           },
           "bgcolor": "#E5ECF6",
           "radialaxis": {
            "gridcolor": "white",
            "linecolor": "white",
            "ticks": ""
           }
          },
          "scene": {
           "xaxis": {
            "backgroundcolor": "#E5ECF6",
            "gridcolor": "white",
            "gridwidth": 2,
            "linecolor": "white",
            "showbackground": true,
            "ticks": "",
            "zerolinecolor": "white"
           },
           "yaxis": {
            "backgroundcolor": "#E5ECF6",
            "gridcolor": "white",
            "gridwidth": 2,
            "linecolor": "white",
            "showbackground": true,
            "ticks": "",
            "zerolinecolor": "white"
           },
           "zaxis": {
            "backgroundcolor": "#E5ECF6",
            "gridcolor": "white",
            "gridwidth": 2,
            "linecolor": "white",
            "showbackground": true,
            "ticks": "",
            "zerolinecolor": "white"
           }
          },
          "shapedefaults": {
           "line": {
            "color": "#2a3f5f"
           }
          },
          "ternary": {
           "aaxis": {
            "gridcolor": "white",
            "linecolor": "white",
            "ticks": ""
           },
           "baxis": {
            "gridcolor": "white",
            "linecolor": "white",
            "ticks": ""
           },
           "bgcolor": "#E5ECF6",
           "caxis": {
            "gridcolor": "white",
            "linecolor": "white",
            "ticks": ""
           }
          },
          "title": {
           "x": 0.05
          },
          "xaxis": {
           "automargin": true,
           "gridcolor": "white",
           "linecolor": "white",
           "ticks": "",
           "title": {
            "standoff": 15
           },
           "zerolinecolor": "white",
           "zerolinewidth": 2
          },
          "yaxis": {
           "automargin": true,
           "gridcolor": "white",
           "linecolor": "white",
           "ticks": "",
           "title": {
            "standoff": 15
           },
           "zerolinecolor": "white",
           "zerolinewidth": 2
          }
         }
        }
       }
      },
      "text/html": [
       "<div>\n",
       "        \n",
       "        \n",
       "            <div id=\"0f6cf054-f811-438d-850e-ed792b2251d3\" class=\"plotly-graph-div\" style=\"height:525px; width:100%;\"></div>\n",
       "            <script type=\"text/javascript\">\n",
       "                require([\"plotly\"], function(Plotly) {\n",
       "                    window.PLOTLYENV=window.PLOTLYENV || {};\n",
       "                    \n",
       "                if (document.getElementById(\"0f6cf054-f811-438d-850e-ed792b2251d3\")) {\n",
       "                    Plotly.newPlot(\n",
       "                        '0f6cf054-f811-438d-850e-ed792b2251d3',\n",
       "                        [{\"hovertemplate\": \"capacity=%{marker.color}<br>latitude=%{lat}<br>longitude=%{lon}<extra></extra>\", \"lat\": [40.84348984739682, 40.83142876488179, 40.848059524296055, 40.85568655396233, 40.81675769880821, 40.8498496292291, 40.880828056610234, 40.840707344128425, 40.893517718763405, 40.88048615007653, 40.85337772916848, 40.65491846463238, 40.69057965481238, 40.585645970507926, 40.67843021053433, 40.656686551383224, 40.659574215904684, 40.64667161679278, 40.63950693380259, 40.61873121403783, 40.61391396173966, 40.66782845166711, 40.690002595723904, 40.69043352049397, 40.655089742874665, 40.699488036608805, 40.70420197722319, 40.73874694182294, 40.75760723115322, 40.814123532751616, 40.80299712174222, 40.765108666479435, 40.73771480651282, 40.77365334626779, 40.764374674631455, 40.78505397397865, 40.73332734064887, 40.78987464729508, 40.76969584616553, 40.80569555361154, 40.73188392497343, 40.873227421595, 40.840696082969366, 40.764453245236844, 40.710357701836905, 40.73439514871634, 40.742139177884276, 40.76254627225295, 40.74512101423679, 40.75561323005755, 40.72903352450227, 40.7005057752842, 40.75292723318126, 40.76805542814507, 40.747180508981685, 40.7177364216317, 40.59865531058224, 40.635876540798016, 40.62257417575695, 40.60284640058876, 40.58451612059963, 40.516978800451795], \"legendgroup\": \"\", \"lon\": [-73.9110103877187, -73.90317782803042, -73.84365561299151, -73.84531138280727, -73.92447845294292, -73.84610932136209, -73.87994733604533, -73.8484434844751, -73.86122475983386, -73.88108707078342, -73.89037489167946, -73.9123791741448, -73.97793163176702, -73.96486850038322, -73.93759250176674, -73.94383353874257, -73.93380403563673, -74.02122142087823, -73.99870645745953, -73.94297936911907, -73.9484978425456, -73.97913592381343, -73.99743259117099, -73.99725588378374, -73.94518999648369, -73.9427660419906, -73.91756211820649, -73.9753427823785, -73.95260272039623, -73.93976651076436, -73.94112025542181, -73.9527273412189, -74.00087325540062, -73.96085559969245, -73.95679987256894, -73.94496023523027, -73.98234480428712, -73.95326589972156, -73.98688765825308, -73.96147972367363, -73.98461112231631, -73.91294845848223, -73.94163622952348, -73.9541429039059, -74.00501014024093, -73.98300123444983, -73.97408207907505, -73.95573615593123, -73.88564131742412, -73.81687376203057, -73.85154781041423, -73.81632908384934, -73.70931586733064, -73.92484415217665, -73.8251651922932, -73.80567939252272, -73.75348752144086, -74.10556032526767, -74.07561522684486, -74.09195676300882, -74.08549793485295, -74.19614316989768], \"marker\": {\"color\": [415.0, 164.0, 225.0, 457.0, 362.0, 424.0, 779.0, 373.5, 309.0, 213.0, 422.0, 530.0, 464.0, 371.0, 287.0, 639.0, 318.0, 450.0, 711.0, 212.0, 134.0, 591.0, 373.5, 506.0, 376.0, 388.0, 324.0, 912.0, 210.0, 282.0, 201.0, 205.0, 2.0, 632.0, 514.0, 338.0, 856.0, 1171.0, 514.0, 478.0, 69.0, 201.0, 995.0, 862.0, 180.0, 225.0, 844.0, 40.0, 545.0, 299.0, 312.0, 431.0, 1025.0, 235.0, 535.0, 247.0, 257.0, 448.0, 25.0, 51.0, 508.0, 206.0], \"coloraxis\": \"coloraxis\", \"opacity\": 0.9, \"size\": [415.0, 164.0, 225.0, 457.0, 362.0, 424.0, 779.0, 373.5, 309.0, 213.0, 422.0, 530.0, 464.0, 371.0, 287.0, 639.0, 318.0, 450.0, 711.0, 212.0, 134.0, 591.0, 373.5, 506.0, 376.0, 388.0, 324.0, 912.0, 210.0, 282.0, 201.0, 205.0, 2.0, 632.0, 514.0, 338.0, 856.0, 1171.0, 514.0, 478.0, 69.0, 201.0, 995.0, 862.0, 180.0, 225.0, 844.0, 40.0, 545.0, 299.0, 312.0, 431.0, 1025.0, 235.0, 535.0, 247.0, 257.0, 448.0, 25.0, 51.0, 508.0, 206.0], \"sizemode\": \"area\", \"sizeref\": 2.9275}, \"mode\": \"markers\", \"name\": \"\", \"showlegend\": false, \"subplot\": \"mapbox\", \"type\": \"scattermapbox\"}],\n",
       "                        {\"coloraxis\": {\"colorbar\": {\"title\": {\"text\": \"capacity\"}}, \"colorscale\": [[0.0, \"rgb(255,0,0)\"], [1.0, \"rgb(0,0,255)\"]]}, \"legend\": {\"itemsizing\": \"constant\", \"tracegroupgap\": 0}, \"mapbox\": {\"center\": {\"lat\": 40.7, \"lon\": -73.9}, \"domain\": {\"x\": [0.0, 1.0], \"y\": [0.0, 1.0]}, \"style\": \"open-street-map\", \"zoom\": 9}, \"margin\": {\"t\": 60}, \"template\": {\"data\": {\"bar\": [{\"error_x\": {\"color\": \"#2a3f5f\"}, \"error_y\": {\"color\": \"#2a3f5f\"}, \"marker\": {\"line\": {\"color\": \"#E5ECF6\", \"width\": 0.5}}, \"type\": \"bar\"}], \"barpolar\": [{\"marker\": {\"line\": {\"color\": \"#E5ECF6\", \"width\": 0.5}}, \"type\": \"barpolar\"}], \"carpet\": [{\"aaxis\": {\"endlinecolor\": \"#2a3f5f\", \"gridcolor\": \"white\", \"linecolor\": \"white\", \"minorgridcolor\": \"white\", \"startlinecolor\": \"#2a3f5f\"}, \"baxis\": {\"endlinecolor\": \"#2a3f5f\", \"gridcolor\": \"white\", \"linecolor\": \"white\", \"minorgridcolor\": \"white\", \"startlinecolor\": \"#2a3f5f\"}, \"type\": \"carpet\"}], \"choropleth\": [{\"colorbar\": {\"outlinewidth\": 0, \"ticks\": \"\"}, \"type\": \"choropleth\"}], \"contour\": [{\"colorbar\": {\"outlinewidth\": 0, \"ticks\": \"\"}, \"colorscale\": [[0.0, \"#0d0887\"], [0.1111111111111111, \"#46039f\"], [0.2222222222222222, \"#7201a8\"], [0.3333333333333333, \"#9c179e\"], [0.4444444444444444, \"#bd3786\"], [0.5555555555555556, \"#d8576b\"], [0.6666666666666666, \"#ed7953\"], [0.7777777777777778, \"#fb9f3a\"], [0.8888888888888888, \"#fdca26\"], [1.0, \"#f0f921\"]], \"type\": \"contour\"}], \"contourcarpet\": [{\"colorbar\": {\"outlinewidth\": 0, \"ticks\": \"\"}, \"type\": \"contourcarpet\"}], \"heatmap\": [{\"colorbar\": {\"outlinewidth\": 0, \"ticks\": \"\"}, \"colorscale\": [[0.0, \"#0d0887\"], [0.1111111111111111, \"#46039f\"], [0.2222222222222222, \"#7201a8\"], [0.3333333333333333, \"#9c179e\"], [0.4444444444444444, \"#bd3786\"], [0.5555555555555556, \"#d8576b\"], [0.6666666666666666, \"#ed7953\"], [0.7777777777777778, \"#fb9f3a\"], [0.8888888888888888, \"#fdca26\"], [1.0, \"#f0f921\"]], \"type\": \"heatmap\"}], \"heatmapgl\": [{\"colorbar\": {\"outlinewidth\": 0, \"ticks\": \"\"}, \"colorscale\": [[0.0, \"#0d0887\"], [0.1111111111111111, \"#46039f\"], [0.2222222222222222, \"#7201a8\"], [0.3333333333333333, \"#9c179e\"], [0.4444444444444444, \"#bd3786\"], [0.5555555555555556, \"#d8576b\"], [0.6666666666666666, \"#ed7953\"], [0.7777777777777778, \"#fb9f3a\"], [0.8888888888888888, \"#fdca26\"], [1.0, \"#f0f921\"]], \"type\": \"heatmapgl\"}], \"histogram\": [{\"marker\": {\"colorbar\": {\"outlinewidth\": 0, \"ticks\": \"\"}}, \"type\": \"histogram\"}], \"histogram2d\": [{\"colorbar\": {\"outlinewidth\": 0, \"ticks\": \"\"}, \"colorscale\": [[0.0, \"#0d0887\"], [0.1111111111111111, \"#46039f\"], [0.2222222222222222, \"#7201a8\"], [0.3333333333333333, \"#9c179e\"], [0.4444444444444444, \"#bd3786\"], [0.5555555555555556, \"#d8576b\"], [0.6666666666666666, \"#ed7953\"], [0.7777777777777778, \"#fb9f3a\"], [0.8888888888888888, \"#fdca26\"], [1.0, \"#f0f921\"]], \"type\": \"histogram2d\"}], \"histogram2dcontour\": [{\"colorbar\": {\"outlinewidth\": 0, \"ticks\": \"\"}, \"colorscale\": [[0.0, \"#0d0887\"], [0.1111111111111111, \"#46039f\"], [0.2222222222222222, \"#7201a8\"], [0.3333333333333333, \"#9c179e\"], [0.4444444444444444, \"#bd3786\"], [0.5555555555555556, \"#d8576b\"], [0.6666666666666666, \"#ed7953\"], [0.7777777777777778, \"#fb9f3a\"], [0.8888888888888888, \"#fdca26\"], [1.0, \"#f0f921\"]], \"type\": \"histogram2dcontour\"}], \"mesh3d\": [{\"colorbar\": {\"outlinewidth\": 0, \"ticks\": \"\"}, \"type\": \"mesh3d\"}], \"parcoords\": [{\"line\": {\"colorbar\": {\"outlinewidth\": 0, \"ticks\": \"\"}}, \"type\": \"parcoords\"}], \"pie\": [{\"automargin\": true, \"type\": \"pie\"}], \"scatter\": [{\"marker\": {\"colorbar\": {\"outlinewidth\": 0, \"ticks\": \"\"}}, \"type\": \"scatter\"}], \"scatter3d\": [{\"line\": {\"colorbar\": {\"outlinewidth\": 0, \"ticks\": \"\"}}, \"marker\": {\"colorbar\": {\"outlinewidth\": 0, \"ticks\": \"\"}}, \"type\": \"scatter3d\"}], \"scattercarpet\": [{\"marker\": {\"colorbar\": {\"outlinewidth\": 0, \"ticks\": \"\"}}, \"type\": \"scattercarpet\"}], \"scattergeo\": [{\"marker\": {\"colorbar\": {\"outlinewidth\": 0, \"ticks\": \"\"}}, \"type\": \"scattergeo\"}], \"scattergl\": [{\"marker\": {\"colorbar\": {\"outlinewidth\": 0, \"ticks\": \"\"}}, \"type\": \"scattergl\"}], \"scattermapbox\": [{\"marker\": {\"colorbar\": {\"outlinewidth\": 0, \"ticks\": \"\"}}, \"type\": \"scattermapbox\"}], \"scatterpolar\": [{\"marker\": {\"colorbar\": {\"outlinewidth\": 0, \"ticks\": \"\"}}, \"type\": \"scatterpolar\"}], \"scatterpolargl\": [{\"marker\": {\"colorbar\": {\"outlinewidth\": 0, \"ticks\": \"\"}}, \"type\": \"scatterpolargl\"}], \"scatterternary\": [{\"marker\": {\"colorbar\": {\"outlinewidth\": 0, \"ticks\": \"\"}}, \"type\": \"scatterternary\"}], \"surface\": [{\"colorbar\": {\"outlinewidth\": 0, \"ticks\": \"\"}, \"colorscale\": [[0.0, \"#0d0887\"], [0.1111111111111111, \"#46039f\"], [0.2222222222222222, \"#7201a8\"], [0.3333333333333333, \"#9c179e\"], [0.4444444444444444, \"#bd3786\"], [0.5555555555555556, \"#d8576b\"], [0.6666666666666666, \"#ed7953\"], [0.7777777777777778, \"#fb9f3a\"], [0.8888888888888888, \"#fdca26\"], [1.0, \"#f0f921\"]], \"type\": \"surface\"}], \"table\": [{\"cells\": {\"fill\": {\"color\": \"#EBF0F8\"}, \"line\": {\"color\": \"white\"}}, \"header\": {\"fill\": {\"color\": \"#C8D4E3\"}, \"line\": {\"color\": \"white\"}}, \"type\": \"table\"}]}, \"layout\": {\"annotationdefaults\": {\"arrowcolor\": \"#2a3f5f\", \"arrowhead\": 0, \"arrowwidth\": 1}, \"coloraxis\": {\"colorbar\": {\"outlinewidth\": 0, \"ticks\": \"\"}}, \"colorscale\": {\"diverging\": [[0, \"#8e0152\"], [0.1, \"#c51b7d\"], [0.2, \"#de77ae\"], [0.3, \"#f1b6da\"], [0.4, \"#fde0ef\"], [0.5, \"#f7f7f7\"], [0.6, \"#e6f5d0\"], [0.7, \"#b8e186\"], [0.8, \"#7fbc41\"], [0.9, \"#4d9221\"], [1, \"#276419\"]], \"sequential\": [[0.0, \"#0d0887\"], [0.1111111111111111, \"#46039f\"], [0.2222222222222222, \"#7201a8\"], [0.3333333333333333, \"#9c179e\"], [0.4444444444444444, \"#bd3786\"], [0.5555555555555556, \"#d8576b\"], [0.6666666666666666, \"#ed7953\"], [0.7777777777777778, \"#fb9f3a\"], [0.8888888888888888, \"#fdca26\"], [1.0, \"#f0f921\"]], \"sequentialminus\": [[0.0, \"#0d0887\"], [0.1111111111111111, \"#46039f\"], [0.2222222222222222, \"#7201a8\"], [0.3333333333333333, \"#9c179e\"], [0.4444444444444444, \"#bd3786\"], [0.5555555555555556, \"#d8576b\"], [0.6666666666666666, \"#ed7953\"], [0.7777777777777778, \"#fb9f3a\"], [0.8888888888888888, \"#fdca26\"], [1.0, \"#f0f921\"]]}, \"colorway\": [\"#636efa\", \"#EF553B\", \"#00cc96\", \"#ab63fa\", \"#FFA15A\", \"#19d3f3\", \"#FF6692\", \"#B6E880\", \"#FF97FF\", \"#FECB52\"], \"font\": {\"color\": \"#2a3f5f\"}, \"geo\": {\"bgcolor\": \"white\", \"lakecolor\": \"white\", \"landcolor\": \"#E5ECF6\", \"showlakes\": true, \"showland\": true, \"subunitcolor\": \"white\"}, \"hoverlabel\": {\"align\": \"left\"}, \"hovermode\": \"closest\", \"mapbox\": {\"style\": \"light\"}, \"paper_bgcolor\": \"white\", \"plot_bgcolor\": \"#E5ECF6\", \"polar\": {\"angularaxis\": {\"gridcolor\": \"white\", \"linecolor\": \"white\", \"ticks\": \"\"}, \"bgcolor\": \"#E5ECF6\", \"radialaxis\": {\"gridcolor\": \"white\", \"linecolor\": \"white\", \"ticks\": \"\"}}, \"scene\": {\"xaxis\": {\"backgroundcolor\": \"#E5ECF6\", \"gridcolor\": \"white\", \"gridwidth\": 2, \"linecolor\": \"white\", \"showbackground\": true, \"ticks\": \"\", \"zerolinecolor\": \"white\"}, \"yaxis\": {\"backgroundcolor\": \"#E5ECF6\", \"gridcolor\": \"white\", \"gridwidth\": 2, \"linecolor\": \"white\", \"showbackground\": true, \"ticks\": \"\", \"zerolinecolor\": \"white\"}, \"zaxis\": {\"backgroundcolor\": \"#E5ECF6\", \"gridcolor\": \"white\", \"gridwidth\": 2, \"linecolor\": \"white\", \"showbackground\": true, \"ticks\": \"\", \"zerolinecolor\": \"white\"}}, \"shapedefaults\": {\"line\": {\"color\": \"#2a3f5f\"}}, \"ternary\": {\"aaxis\": {\"gridcolor\": \"white\", \"linecolor\": \"white\", \"ticks\": \"\"}, \"baxis\": {\"gridcolor\": \"white\", \"linecolor\": \"white\", \"ticks\": \"\"}, \"bgcolor\": \"#E5ECF6\", \"caxis\": {\"gridcolor\": \"white\", \"linecolor\": \"white\", \"ticks\": \"\"}}, \"title\": {\"x\": 0.05}, \"xaxis\": {\"automargin\": true, \"gridcolor\": \"white\", \"linecolor\": \"white\", \"ticks\": \"\", \"title\": {\"standoff\": 15}, \"zerolinecolor\": \"white\", \"zerolinewidth\": 2}, \"yaxis\": {\"automargin\": true, \"gridcolor\": \"white\", \"linecolor\": \"white\", \"ticks\": \"\", \"title\": {\"standoff\": 15}, \"zerolinecolor\": \"white\", \"zerolinewidth\": 2}}}},\n",
       "                        {\"responsive\": true}\n",
       "                    ).then(function(){\n",
       "                            \n",
       "var gd = document.getElementById('0f6cf054-f811-438d-850e-ed792b2251d3');\n",
       "var x = new MutationObserver(function (mutations, observer) {{\n",
       "        var display = window.getComputedStyle(gd).display;\n",
       "        if (!display || display === 'none') {{\n",
       "            console.log([gd, 'removed!']);\n",
       "            Plotly.purge(gd);\n",
       "            observer.disconnect();\n",
       "        }}\n",
       "}});\n",
       "\n",
       "// Listen for the removal of the full notebook cells\n",
       "var notebookContainer = gd.closest('#notebook-container');\n",
       "if (notebookContainer) {{\n",
       "    x.observe(notebookContainer, {childList: true});\n",
       "}}\n",
       "\n",
       "// Listen for the clearing of the current output cell\n",
       "var outputEl = gd.closest('.output');\n",
       "if (outputEl) {{\n",
       "    x.observe(outputEl, {childList: true});\n",
       "}}\n",
       "\n",
       "                        })\n",
       "                };\n",
       "                });\n",
       "            </script>\n",
       "        </div>"
      ]
     },
     "metadata": {},
     "output_type": "display_data"
    }
   ],
   "source": [
    "fig2 = px.scatter_mapbox(hospitals\n",
    "                         , lat='latitude'\n",
    "                         , lon='longitude'\n",
    "                         , size='capacity'\n",
    "                         , center=dict(lat=40.7, lon=-73.9)\n",
    "                         , zoom=9\n",
    "                         , color = 'capacity'\n",
    "                         , mapbox_style=\"open-street-map\"\n",
    "                         , color_continuous_scale='Bluered_r'\n",
    "                         , opacity = .9\n",
    "                        )\n",
    "fig2.show()"
   ]
  },
  {
   "cell_type": "code",
   "execution_count": 129,
   "metadata": {},
   "outputs": [
    {
     "data": {
      "application/vnd.plotly.v1+json": {
       "config": {
        "plotlyServerURL": "https://plot.ly"
       },
       "data": [
        {
         "hovertemplate": "capacity=%{marker.size}<br>name=%{text}<br>latitude=%{lat}<br>longitude=%{lon}<extra></extra>",
         "lat": [
          40.84348984739682,
          40.83142876488179,
          40.848059524296055,
          40.85568655396233,
          40.81675769880821,
          40.8498496292291,
          40.880828056610234,
          40.840707344128425,
          40.893517718763405,
          40.88048615007653,
          40.85337772916848,
          40.65491846463238,
          40.69057965481238,
          40.585645970507926,
          40.67843021053433,
          40.656686551383224,
          40.659574215904684,
          40.64667161679278,
          40.63950693380259,
          40.61873121403783,
          40.61391396173966,
          40.66782845166711,
          40.690002595723904,
          40.69043352049397,
          40.655089742874665,
          40.699488036608805,
          40.70420197722319,
          40.73874694182294,
          40.75760723115322,
          40.814123532751616,
          40.80299712174222,
          40.765108666479435,
          40.73771480651282,
          40.77365334626779,
          40.764374674631455,
          40.78505397397865,
          40.73332734064887,
          40.78987464729508,
          40.76969584616553,
          40.80569555361154,
          40.73188392497343,
          40.873227421595,
          40.840696082969366,
          40.764453245236844,
          40.710357701836905,
          40.73439514871634,
          40.742139177884276,
          40.76254627225295,
          40.74512101423679,
          40.75561323005755,
          40.72903352450227,
          40.7005057752842,
          40.75292723318126,
          40.76805542814507,
          40.747180508981685,
          40.7177364216317,
          40.59865531058224,
          40.635876540798016,
          40.62257417575695,
          40.60284640058876,
          40.58451612059963,
          40.516978800451795
         ],
         "legendgroup": "",
         "lon": [
          -73.9110103877187,
          -73.90317782803042,
          -73.84365561299151,
          -73.84531138280727,
          -73.92447845294292,
          -73.84610932136209,
          -73.87994733604533,
          -73.8484434844751,
          -73.86122475983386,
          -73.88108707078342,
          -73.89037489167946,
          -73.9123791741448,
          -73.97793163176702,
          -73.96486850038322,
          -73.93759250176674,
          -73.94383353874257,
          -73.93380403563673,
          -74.02122142087823,
          -73.99870645745953,
          -73.94297936911907,
          -73.9484978425456,
          -73.97913592381343,
          -73.99743259117099,
          -73.99725588378374,
          -73.94518999648369,
          -73.9427660419906,
          -73.91756211820649,
          -73.9753427823785,
          -73.95260272039623,
          -73.93976651076436,
          -73.94112025542181,
          -73.9527273412189,
          -74.00087325540062,
          -73.96085559969245,
          -73.95679987256894,
          -73.94496023523027,
          -73.98234480428712,
          -73.95326589972156,
          -73.98688765825308,
          -73.96147972367363,
          -73.98461112231631,
          -73.91294845848223,
          -73.94163622952348,
          -73.9541429039059,
          -74.00501014024093,
          -73.98300123444983,
          -73.97408207907505,
          -73.95573615593123,
          -73.88564131742412,
          -73.81687376203057,
          -73.85154781041423,
          -73.81632908384934,
          -73.70931586733064,
          -73.92484415217665,
          -73.8251651922932,
          -73.80567939252272,
          -73.75348752144086,
          -74.10556032526767,
          -74.07561522684486,
          -74.09195676300882,
          -74.08549793485295,
          -74.19614316989768
         ],
         "marker": {
          "color": "#636efa",
          "opacity": 0.9,
          "size": [
           415,
           164,
           225,
           457,
           362,
           424,
           779,
           373.5,
           309,
           213,
           422,
           530,
           464,
           371,
           287,
           639,
           318,
           450,
           711,
           212,
           134,
           591,
           373.5,
           506,
           376,
           388,
           324,
           912,
           210,
           282,
           201,
           205,
           2,
           632,
           514,
           338,
           856,
           1171,
           514,
           478,
           69,
           201,
           995,
           862,
           180,
           225,
           844,
           40,
           545,
           299,
           312,
           431,
           1025,
           235,
           535,
           247,
           257,
           448,
           25,
           51,
           508,
           206
          ],
          "sizemode": "area",
          "sizeref": 2.9275
         },
         "mode": "markers+text",
         "name": "",
         "showlegend": false,
         "subplot": "mapbox",
         "text": [
          "Bronx-Lebanon Hospital Center - Concourse Division",
          "Bronx-Lebanon Hospital Center - Fulton Division",
          "Calvary Hospital Inc",
          "Jacobi Medical Center",
          "Lincoln Medical & Mental Health Center",
          "Montefiore Med Center - Jack D Weiler Hosp Of A Einstein College Div",
          "Montefiore Medical Center - Henry & Lucy Moses Div",
          "Montefiore Medical Center - Montefiore Westchester Square",
          "Montefiore Medical Center-Wakefield Hospital",
          "North Central Bronx Hospital",
          "Sbh Health System",
          "Brookdale Hospital Medical Center",
          "Brooklyn Hospital Center - Downtown Campus",
          "Coney Island Hospital",
          "Interfaith Medical Center",
          "Kings County Hospital Center",
          "Kingsbrook Jewish Medical Center",
          "Lutheran Medical Center",
          "Maimonides Medical Center",
          "Mount Sinai Beth Israel Brooklyn",
          "New York Community Hospital Of Brooklyn, Inc",
          "New York Methodist Hospital",
          "Nyulmc - Cobble Hill",
          "Suny Downstate Medical Center At Lich",
          "University Hospital Of Brooklyn",
          "Woodhull Medical & Mental Health Center",
          "Wyckoff Heights Medical Center",
          "Bellevue Hospital Center",
          "Coler-Goldwater Specialty Hospital & Nursing Facility - Coler Hospital Site",
          "Harlem Hospital Center",
          "Henry J. Carter Specialty Hospital",
          "Hospital For Special Surgery",
          "Lenox Hill Healthplex",
          "Lenox Hill Hospital",
          "Memorial Hospital For Cancer And Allied Diseases",
          "Metropolitan Hospital Center",
          "Mount Sinai Beth Israel",
          "Mount Sinai Hospital",
          "Mount Sinai Roosevelt",
          "Mount Sinai St. Luke'S",
          "New York Eye And Ear Infirmary Of Mount Sinai",
          "New York Presbyterian Hospital - Allen Hospital",
          "New York Presbyterian Hospital - Columbia Presbyterian Center",
          "New York Presbyterian Hospital - New York Weill Cornell Center",
          "New York-Presbyterian/Lower Manhattan Hospital",
          "Nyu Hospital For Joint Diseases",
          "Nyu Hospitals Center",
          "Rockefeller University Hospital",
          "Elmhurst Hospital Center",
          "Flushing Hospital Medical Center",
          "Forest Hills Hospital",
          "Jamaica Hospital Medical Center",
          "Long Island Jewish Medical Center",
          "Mount Sinai Hospital - Mount Sinai Hospital Of Queens",
          "New York Hospital Medical Center Of Queens",
          "Queens Hospital Center",
          "St Johns Episcopal Hospital So Shore",
          "Richmond University Medical Center",
          "Rumc-Bayley Seton",
          "Staten Island Univ Hosp-Concord Div",
          "Staten Island University Hosp-North",
          "Staten Island University Hosp-South"
         ],
         "type": "scattermapbox"
        }
       ],
       "layout": {
        "legend": {
         "itemsizing": "constant",
         "tracegroupgap": 0
        },
        "mapbox": {
         "center": {
          "lat": 40.7,
          "lon": -73.9
         },
         "domain": {
          "x": [
           0,
           1
          ],
          "y": [
           0,
           1
          ]
         },
         "style": "open-street-map",
         "zoom": 9
        },
        "margin": {
         "t": 60
        },
        "template": {
         "data": {
          "bar": [
           {
            "error_x": {
             "color": "#2a3f5f"
            },
            "error_y": {
             "color": "#2a3f5f"
            },
            "marker": {
             "line": {
              "color": "#E5ECF6",
              "width": 0.5
             }
            },
            "type": "bar"
           }
          ],
          "barpolar": [
           {
            "marker": {
             "line": {
              "color": "#E5ECF6",
              "width": 0.5
             }
            },
            "type": "barpolar"
           }
          ],
          "carpet": [
           {
            "aaxis": {
             "endlinecolor": "#2a3f5f",
             "gridcolor": "white",
             "linecolor": "white",
             "minorgridcolor": "white",
             "startlinecolor": "#2a3f5f"
            },
            "baxis": {
             "endlinecolor": "#2a3f5f",
             "gridcolor": "white",
             "linecolor": "white",
             "minorgridcolor": "white",
             "startlinecolor": "#2a3f5f"
            },
            "type": "carpet"
           }
          ],
          "choropleth": [
           {
            "colorbar": {
             "outlinewidth": 0,
             "ticks": ""
            },
            "type": "choropleth"
           }
          ],
          "contour": [
           {
            "colorbar": {
             "outlinewidth": 0,
             "ticks": ""
            },
            "colorscale": [
             [
              0,
              "#0d0887"
             ],
             [
              0.1111111111111111,
              "#46039f"
             ],
             [
              0.2222222222222222,
              "#7201a8"
             ],
             [
              0.3333333333333333,
              "#9c179e"
             ],
             [
              0.4444444444444444,
              "#bd3786"
             ],
             [
              0.5555555555555556,
              "#d8576b"
             ],
             [
              0.6666666666666666,
              "#ed7953"
             ],
             [
              0.7777777777777778,
              "#fb9f3a"
             ],
             [
              0.8888888888888888,
              "#fdca26"
             ],
             [
              1,
              "#f0f921"
             ]
            ],
            "type": "contour"
           }
          ],
          "contourcarpet": [
           {
            "colorbar": {
             "outlinewidth": 0,
             "ticks": ""
            },
            "type": "contourcarpet"
           }
          ],
          "heatmap": [
           {
            "colorbar": {
             "outlinewidth": 0,
             "ticks": ""
            },
            "colorscale": [
             [
              0,
              "#0d0887"
             ],
             [
              0.1111111111111111,
              "#46039f"
             ],
             [
              0.2222222222222222,
              "#7201a8"
             ],
             [
              0.3333333333333333,
              "#9c179e"
             ],
             [
              0.4444444444444444,
              "#bd3786"
             ],
             [
              0.5555555555555556,
              "#d8576b"
             ],
             [
              0.6666666666666666,
              "#ed7953"
             ],
             [
              0.7777777777777778,
              "#fb9f3a"
             ],
             [
              0.8888888888888888,
              "#fdca26"
             ],
             [
              1,
              "#f0f921"
             ]
            ],
            "type": "heatmap"
           }
          ],
          "heatmapgl": [
           {
            "colorbar": {
             "outlinewidth": 0,
             "ticks": ""
            },
            "colorscale": [
             [
              0,
              "#0d0887"
             ],
             [
              0.1111111111111111,
              "#46039f"
             ],
             [
              0.2222222222222222,
              "#7201a8"
             ],
             [
              0.3333333333333333,
              "#9c179e"
             ],
             [
              0.4444444444444444,
              "#bd3786"
             ],
             [
              0.5555555555555556,
              "#d8576b"
             ],
             [
              0.6666666666666666,
              "#ed7953"
             ],
             [
              0.7777777777777778,
              "#fb9f3a"
             ],
             [
              0.8888888888888888,
              "#fdca26"
             ],
             [
              1,
              "#f0f921"
             ]
            ],
            "type": "heatmapgl"
           }
          ],
          "histogram": [
           {
            "marker": {
             "colorbar": {
              "outlinewidth": 0,
              "ticks": ""
             }
            },
            "type": "histogram"
           }
          ],
          "histogram2d": [
           {
            "colorbar": {
             "outlinewidth": 0,
             "ticks": ""
            },
            "colorscale": [
             [
              0,
              "#0d0887"
             ],
             [
              0.1111111111111111,
              "#46039f"
             ],
             [
              0.2222222222222222,
              "#7201a8"
             ],
             [
              0.3333333333333333,
              "#9c179e"
             ],
             [
              0.4444444444444444,
              "#bd3786"
             ],
             [
              0.5555555555555556,
              "#d8576b"
             ],
             [
              0.6666666666666666,
              "#ed7953"
             ],
             [
              0.7777777777777778,
              "#fb9f3a"
             ],
             [
              0.8888888888888888,
              "#fdca26"
             ],
             [
              1,
              "#f0f921"
             ]
            ],
            "type": "histogram2d"
           }
          ],
          "histogram2dcontour": [
           {
            "colorbar": {
             "outlinewidth": 0,
             "ticks": ""
            },
            "colorscale": [
             [
              0,
              "#0d0887"
             ],
             [
              0.1111111111111111,
              "#46039f"
             ],
             [
              0.2222222222222222,
              "#7201a8"
             ],
             [
              0.3333333333333333,
              "#9c179e"
             ],
             [
              0.4444444444444444,
              "#bd3786"
             ],
             [
              0.5555555555555556,
              "#d8576b"
             ],
             [
              0.6666666666666666,
              "#ed7953"
             ],
             [
              0.7777777777777778,
              "#fb9f3a"
             ],
             [
              0.8888888888888888,
              "#fdca26"
             ],
             [
              1,
              "#f0f921"
             ]
            ],
            "type": "histogram2dcontour"
           }
          ],
          "mesh3d": [
           {
            "colorbar": {
             "outlinewidth": 0,
             "ticks": ""
            },
            "type": "mesh3d"
           }
          ],
          "parcoords": [
           {
            "line": {
             "colorbar": {
              "outlinewidth": 0,
              "ticks": ""
             }
            },
            "type": "parcoords"
           }
          ],
          "pie": [
           {
            "automargin": true,
            "type": "pie"
           }
          ],
          "scatter": [
           {
            "marker": {
             "colorbar": {
              "outlinewidth": 0,
              "ticks": ""
             }
            },
            "type": "scatter"
           }
          ],
          "scatter3d": [
           {
            "line": {
             "colorbar": {
              "outlinewidth": 0,
              "ticks": ""
             }
            },
            "marker": {
             "colorbar": {
              "outlinewidth": 0,
              "ticks": ""
             }
            },
            "type": "scatter3d"
           }
          ],
          "scattercarpet": [
           {
            "marker": {
             "colorbar": {
              "outlinewidth": 0,
              "ticks": ""
             }
            },
            "type": "scattercarpet"
           }
          ],
          "scattergeo": [
           {
            "marker": {
             "colorbar": {
              "outlinewidth": 0,
              "ticks": ""
             }
            },
            "type": "scattergeo"
           }
          ],
          "scattergl": [
           {
            "marker": {
             "colorbar": {
              "outlinewidth": 0,
              "ticks": ""
             }
            },
            "type": "scattergl"
           }
          ],
          "scattermapbox": [
           {
            "marker": {
             "colorbar": {
              "outlinewidth": 0,
              "ticks": ""
             }
            },
            "type": "scattermapbox"
           }
          ],
          "scatterpolar": [
           {
            "marker": {
             "colorbar": {
              "outlinewidth": 0,
              "ticks": ""
             }
            },
            "type": "scatterpolar"
           }
          ],
          "scatterpolargl": [
           {
            "marker": {
             "colorbar": {
              "outlinewidth": 0,
              "ticks": ""
             }
            },
            "type": "scatterpolargl"
           }
          ],
          "scatterternary": [
           {
            "marker": {
             "colorbar": {
              "outlinewidth": 0,
              "ticks": ""
             }
            },
            "type": "scatterternary"
           }
          ],
          "surface": [
           {
            "colorbar": {
             "outlinewidth": 0,
             "ticks": ""
            },
            "colorscale": [
             [
              0,
              "#0d0887"
             ],
             [
              0.1111111111111111,
              "#46039f"
             ],
             [
              0.2222222222222222,
              "#7201a8"
             ],
             [
              0.3333333333333333,
              "#9c179e"
             ],
             [
              0.4444444444444444,
              "#bd3786"
             ],
             [
              0.5555555555555556,
              "#d8576b"
             ],
             [
              0.6666666666666666,
              "#ed7953"
             ],
             [
              0.7777777777777778,
              "#fb9f3a"
             ],
             [
              0.8888888888888888,
              "#fdca26"
             ],
             [
              1,
              "#f0f921"
             ]
            ],
            "type": "surface"
           }
          ],
          "table": [
           {
            "cells": {
             "fill": {
              "color": "#EBF0F8"
             },
             "line": {
              "color": "white"
             }
            },
            "header": {
             "fill": {
              "color": "#C8D4E3"
             },
             "line": {
              "color": "white"
             }
            },
            "type": "table"
           }
          ]
         },
         "layout": {
          "annotationdefaults": {
           "arrowcolor": "#2a3f5f",
           "arrowhead": 0,
           "arrowwidth": 1
          },
          "coloraxis": {
           "colorbar": {
            "outlinewidth": 0,
            "ticks": ""
           }
          },
          "colorscale": {
           "diverging": [
            [
             0,
             "#8e0152"
            ],
            [
             0.1,
             "#c51b7d"
            ],
            [
             0.2,
             "#de77ae"
            ],
            [
             0.3,
             "#f1b6da"
            ],
            [
             0.4,
             "#fde0ef"
            ],
            [
             0.5,
             "#f7f7f7"
            ],
            [
             0.6,
             "#e6f5d0"
            ],
            [
             0.7,
             "#b8e186"
            ],
            [
             0.8,
             "#7fbc41"
            ],
            [
             0.9,
             "#4d9221"
            ],
            [
             1,
             "#276419"
            ]
           ],
           "sequential": [
            [
             0,
             "#0d0887"
            ],
            [
             0.1111111111111111,
             "#46039f"
            ],
            [
             0.2222222222222222,
             "#7201a8"
            ],
            [
             0.3333333333333333,
             "#9c179e"
            ],
            [
             0.4444444444444444,
             "#bd3786"
            ],
            [
             0.5555555555555556,
             "#d8576b"
            ],
            [
             0.6666666666666666,
             "#ed7953"
            ],
            [
             0.7777777777777778,
             "#fb9f3a"
            ],
            [
             0.8888888888888888,
             "#fdca26"
            ],
            [
             1,
             "#f0f921"
            ]
           ],
           "sequentialminus": [
            [
             0,
             "#0d0887"
            ],
            [
             0.1111111111111111,
             "#46039f"
            ],
            [
             0.2222222222222222,
             "#7201a8"
            ],
            [
             0.3333333333333333,
             "#9c179e"
            ],
            [
             0.4444444444444444,
             "#bd3786"
            ],
            [
             0.5555555555555556,
             "#d8576b"
            ],
            [
             0.6666666666666666,
             "#ed7953"
            ],
            [
             0.7777777777777778,
             "#fb9f3a"
            ],
            [
             0.8888888888888888,
             "#fdca26"
            ],
            [
             1,
             "#f0f921"
            ]
           ]
          },
          "colorway": [
           "#636efa",
           "#EF553B",
           "#00cc96",
           "#ab63fa",
           "#FFA15A",
           "#19d3f3",
           "#FF6692",
           "#B6E880",
           "#FF97FF",
           "#FECB52"
          ],
          "font": {
           "color": "#2a3f5f"
          },
          "geo": {
           "bgcolor": "white",
           "lakecolor": "white",
           "landcolor": "#E5ECF6",
           "showlakes": true,
           "showland": true,
           "subunitcolor": "white"
          },
          "hoverlabel": {
           "align": "left"
          },
          "hovermode": "closest",
          "mapbox": {
           "style": "light"
          },
          "paper_bgcolor": "white",
          "plot_bgcolor": "#E5ECF6",
          "polar": {
           "angularaxis": {
            "gridcolor": "white",
            "linecolor": "white",
            "ticks": ""
           },
           "bgcolor": "#E5ECF6",
           "radialaxis": {
            "gridcolor": "white",
            "linecolor": "white",
            "ticks": ""
           }
          },
          "scene": {
           "xaxis": {
            "backgroundcolor": "#E5ECF6",
            "gridcolor": "white",
            "gridwidth": 2,
            "linecolor": "white",
            "showbackground": true,
            "ticks": "",
            "zerolinecolor": "white"
           },
           "yaxis": {
            "backgroundcolor": "#E5ECF6",
            "gridcolor": "white",
            "gridwidth": 2,
            "linecolor": "white",
            "showbackground": true,
            "ticks": "",
            "zerolinecolor": "white"
           },
           "zaxis": {
            "backgroundcolor": "#E5ECF6",
            "gridcolor": "white",
            "gridwidth": 2,
            "linecolor": "white",
            "showbackground": true,
            "ticks": "",
            "zerolinecolor": "white"
           }
          },
          "shapedefaults": {
           "line": {
            "color": "#2a3f5f"
           }
          },
          "ternary": {
           "aaxis": {
            "gridcolor": "white",
            "linecolor": "white",
            "ticks": ""
           },
           "baxis": {
            "gridcolor": "white",
            "linecolor": "white",
            "ticks": ""
           },
           "bgcolor": "#E5ECF6",
           "caxis": {
            "gridcolor": "white",
            "linecolor": "white",
            "ticks": ""
           }
          },
          "title": {
           "x": 0.05
          },
          "xaxis": {
           "automargin": true,
           "gridcolor": "white",
           "linecolor": "white",
           "ticks": "",
           "title": {
            "standoff": 15
           },
           "zerolinecolor": "white",
           "zerolinewidth": 2
          },
          "yaxis": {
           "automargin": true,
           "gridcolor": "white",
           "linecolor": "white",
           "ticks": "",
           "title": {
            "standoff": 15
           },
           "zerolinecolor": "white",
           "zerolinewidth": 2
          }
         }
        }
       }
      },
      "text/html": [
       "<div>\n",
       "        \n",
       "        \n",
       "            <div id=\"fe1e23b9-a930-4308-b5f4-f06e7d654c2f\" class=\"plotly-graph-div\" style=\"height:525px; width:100%;\"></div>\n",
       "            <script type=\"text/javascript\">\n",
       "                require([\"plotly\"], function(Plotly) {\n",
       "                    window.PLOTLYENV=window.PLOTLYENV || {};\n",
       "                    \n",
       "                if (document.getElementById(\"fe1e23b9-a930-4308-b5f4-f06e7d654c2f\")) {\n",
       "                    Plotly.newPlot(\n",
       "                        'fe1e23b9-a930-4308-b5f4-f06e7d654c2f',\n",
       "                        [{\"hovertemplate\": \"capacity=%{marker.size}<br>name=%{text}<br>latitude=%{lat}<br>longitude=%{lon}<extra></extra>\", \"lat\": [40.84348984739682, 40.83142876488179, 40.848059524296055, 40.85568655396233, 40.81675769880821, 40.8498496292291, 40.880828056610234, 40.840707344128425, 40.893517718763405, 40.88048615007653, 40.85337772916848, 40.65491846463238, 40.69057965481238, 40.585645970507926, 40.67843021053433, 40.656686551383224, 40.659574215904684, 40.64667161679278, 40.63950693380259, 40.61873121403783, 40.61391396173966, 40.66782845166711, 40.690002595723904, 40.69043352049397, 40.655089742874665, 40.699488036608805, 40.70420197722319, 40.73874694182294, 40.75760723115322, 40.814123532751616, 40.80299712174222, 40.765108666479435, 40.73771480651282, 40.77365334626779, 40.764374674631455, 40.78505397397865, 40.73332734064887, 40.78987464729508, 40.76969584616553, 40.80569555361154, 40.73188392497343, 40.873227421595, 40.840696082969366, 40.764453245236844, 40.710357701836905, 40.73439514871634, 40.742139177884276, 40.76254627225295, 40.74512101423679, 40.75561323005755, 40.72903352450227, 40.7005057752842, 40.75292723318126, 40.76805542814507, 40.747180508981685, 40.7177364216317, 40.59865531058224, 40.635876540798016, 40.62257417575695, 40.60284640058876, 40.58451612059963, 40.516978800451795], \"legendgroup\": \"\", \"lon\": [-73.9110103877187, -73.90317782803042, -73.84365561299151, -73.84531138280727, -73.92447845294292, -73.84610932136209, -73.87994733604533, -73.8484434844751, -73.86122475983386, -73.88108707078342, -73.89037489167946, -73.9123791741448, -73.97793163176702, -73.96486850038322, -73.93759250176674, -73.94383353874257, -73.93380403563673, -74.02122142087823, -73.99870645745953, -73.94297936911907, -73.9484978425456, -73.97913592381343, -73.99743259117099, -73.99725588378374, -73.94518999648369, -73.9427660419906, -73.91756211820649, -73.9753427823785, -73.95260272039623, -73.93976651076436, -73.94112025542181, -73.9527273412189, -74.00087325540062, -73.96085559969245, -73.95679987256894, -73.94496023523027, -73.98234480428712, -73.95326589972156, -73.98688765825308, -73.96147972367363, -73.98461112231631, -73.91294845848223, -73.94163622952348, -73.9541429039059, -74.00501014024093, -73.98300123444983, -73.97408207907505, -73.95573615593123, -73.88564131742412, -73.81687376203057, -73.85154781041423, -73.81632908384934, -73.70931586733064, -73.92484415217665, -73.8251651922932, -73.80567939252272, -73.75348752144086, -74.10556032526767, -74.07561522684486, -74.09195676300882, -74.08549793485295, -74.19614316989768], \"marker\": {\"color\": \"#636efa\", \"opacity\": 0.9, \"size\": [415.0, 164.0, 225.0, 457.0, 362.0, 424.0, 779.0, 373.5, 309.0, 213.0, 422.0, 530.0, 464.0, 371.0, 287.0, 639.0, 318.0, 450.0, 711.0, 212.0, 134.0, 591.0, 373.5, 506.0, 376.0, 388.0, 324.0, 912.0, 210.0, 282.0, 201.0, 205.0, 2.0, 632.0, 514.0, 338.0, 856.0, 1171.0, 514.0, 478.0, 69.0, 201.0, 995.0, 862.0, 180.0, 225.0, 844.0, 40.0, 545.0, 299.0, 312.0, 431.0, 1025.0, 235.0, 535.0, 247.0, 257.0, 448.0, 25.0, 51.0, 508.0, 206.0], \"sizemode\": \"area\", \"sizeref\": 2.9275}, \"mode\": \"markers+text\", \"name\": \"\", \"showlegend\": false, \"subplot\": \"mapbox\", \"text\": [\"Bronx-Lebanon Hospital Center - Concourse Division\", \"Bronx-Lebanon Hospital Center - Fulton Division\", \"Calvary Hospital Inc\", \"Jacobi Medical Center\", \"Lincoln Medical & Mental Health Center\", \"Montefiore Med Center - Jack D Weiler Hosp Of A Einstein College Div\", \"Montefiore Medical Center - Henry & Lucy Moses Div\", \"Montefiore Medical Center - Montefiore Westchester Square\", \"Montefiore Medical Center-Wakefield Hospital\", \"North Central Bronx Hospital\", \"Sbh Health System\", \"Brookdale Hospital Medical Center\", \"Brooklyn Hospital Center - Downtown Campus\", \"Coney Island Hospital\", \"Interfaith Medical Center\", \"Kings County Hospital Center\", \"Kingsbrook Jewish Medical Center\", \"Lutheran Medical Center\", \"Maimonides Medical Center\", \"Mount Sinai Beth Israel Brooklyn\", \"New York Community Hospital Of Brooklyn, Inc\", \"New York Methodist Hospital\", \"Nyulmc - Cobble Hill\", \"Suny Downstate Medical Center At Lich\", \"University Hospital Of Brooklyn\", \"Woodhull Medical & Mental Health Center\", \"Wyckoff Heights Medical Center\", \"Bellevue Hospital Center\", \"Coler-Goldwater Specialty Hospital & Nursing Facility - Coler Hospital Site\", \"Harlem Hospital Center\", \"Henry J. Carter Specialty Hospital\", \"Hospital For Special Surgery\", \"Lenox Hill Healthplex\", \"Lenox Hill Hospital\", \"Memorial Hospital For Cancer And Allied Diseases\", \"Metropolitan Hospital Center\", \"Mount Sinai Beth Israel\", \"Mount Sinai Hospital\", \"Mount Sinai Roosevelt\", \"Mount Sinai St. Luke'S\", \"New York Eye And Ear Infirmary Of Mount Sinai\", \"New York Presbyterian Hospital - Allen Hospital\", \"New York Presbyterian Hospital - Columbia Presbyterian Center\", \"New York Presbyterian Hospital - New York Weill Cornell Center\", \"New York-Presbyterian/Lower Manhattan Hospital\", \"Nyu Hospital For Joint Diseases\", \"Nyu Hospitals Center\", \"Rockefeller University Hospital\", \"Elmhurst Hospital Center\", \"Flushing Hospital Medical Center\", \"Forest Hills Hospital\", \"Jamaica Hospital Medical Center\", \"Long Island Jewish Medical Center\", \"Mount Sinai Hospital - Mount Sinai Hospital Of Queens\", \"New York Hospital Medical Center Of Queens\", \"Queens Hospital Center\", \"St Johns Episcopal Hospital So Shore\", \"Richmond University Medical Center\", \"Rumc-Bayley Seton\", \"Staten Island Univ Hosp-Concord Div\", \"Staten Island University Hosp-North\", \"Staten Island University Hosp-South\"], \"type\": \"scattermapbox\"}],\n",
       "                        {\"legend\": {\"itemsizing\": \"constant\", \"tracegroupgap\": 0}, \"mapbox\": {\"center\": {\"lat\": 40.7, \"lon\": -73.9}, \"domain\": {\"x\": [0.0, 1.0], \"y\": [0.0, 1.0]}, \"style\": \"open-street-map\", \"zoom\": 9}, \"margin\": {\"t\": 60}, \"template\": {\"data\": {\"bar\": [{\"error_x\": {\"color\": \"#2a3f5f\"}, \"error_y\": {\"color\": \"#2a3f5f\"}, \"marker\": {\"line\": {\"color\": \"#E5ECF6\", \"width\": 0.5}}, \"type\": \"bar\"}], \"barpolar\": [{\"marker\": {\"line\": {\"color\": \"#E5ECF6\", \"width\": 0.5}}, \"type\": \"barpolar\"}], \"carpet\": [{\"aaxis\": {\"endlinecolor\": \"#2a3f5f\", \"gridcolor\": \"white\", \"linecolor\": \"white\", \"minorgridcolor\": \"white\", \"startlinecolor\": \"#2a3f5f\"}, \"baxis\": {\"endlinecolor\": \"#2a3f5f\", \"gridcolor\": \"white\", \"linecolor\": \"white\", \"minorgridcolor\": \"white\", \"startlinecolor\": \"#2a3f5f\"}, \"type\": \"carpet\"}], \"choropleth\": [{\"colorbar\": {\"outlinewidth\": 0, \"ticks\": \"\"}, \"type\": \"choropleth\"}], \"contour\": [{\"colorbar\": {\"outlinewidth\": 0, \"ticks\": \"\"}, \"colorscale\": [[0.0, \"#0d0887\"], [0.1111111111111111, \"#46039f\"], [0.2222222222222222, \"#7201a8\"], [0.3333333333333333, \"#9c179e\"], [0.4444444444444444, \"#bd3786\"], [0.5555555555555556, \"#d8576b\"], [0.6666666666666666, \"#ed7953\"], [0.7777777777777778, \"#fb9f3a\"], [0.8888888888888888, \"#fdca26\"], [1.0, \"#f0f921\"]], \"type\": \"contour\"}], \"contourcarpet\": [{\"colorbar\": {\"outlinewidth\": 0, \"ticks\": \"\"}, \"type\": \"contourcarpet\"}], \"heatmap\": [{\"colorbar\": {\"outlinewidth\": 0, \"ticks\": \"\"}, \"colorscale\": [[0.0, \"#0d0887\"], [0.1111111111111111, \"#46039f\"], [0.2222222222222222, \"#7201a8\"], [0.3333333333333333, \"#9c179e\"], [0.4444444444444444, \"#bd3786\"], [0.5555555555555556, \"#d8576b\"], [0.6666666666666666, \"#ed7953\"], [0.7777777777777778, \"#fb9f3a\"], [0.8888888888888888, \"#fdca26\"], [1.0, \"#f0f921\"]], \"type\": \"heatmap\"}], \"heatmapgl\": [{\"colorbar\": {\"outlinewidth\": 0, \"ticks\": \"\"}, \"colorscale\": [[0.0, \"#0d0887\"], [0.1111111111111111, \"#46039f\"], [0.2222222222222222, \"#7201a8\"], [0.3333333333333333, \"#9c179e\"], [0.4444444444444444, \"#bd3786\"], [0.5555555555555556, \"#d8576b\"], [0.6666666666666666, \"#ed7953\"], [0.7777777777777778, \"#fb9f3a\"], [0.8888888888888888, \"#fdca26\"], [1.0, \"#f0f921\"]], \"type\": \"heatmapgl\"}], \"histogram\": [{\"marker\": {\"colorbar\": {\"outlinewidth\": 0, \"ticks\": \"\"}}, \"type\": \"histogram\"}], \"histogram2d\": [{\"colorbar\": {\"outlinewidth\": 0, \"ticks\": \"\"}, \"colorscale\": [[0.0, \"#0d0887\"], [0.1111111111111111, \"#46039f\"], [0.2222222222222222, \"#7201a8\"], [0.3333333333333333, \"#9c179e\"], [0.4444444444444444, \"#bd3786\"], [0.5555555555555556, \"#d8576b\"], [0.6666666666666666, \"#ed7953\"], [0.7777777777777778, \"#fb9f3a\"], [0.8888888888888888, \"#fdca26\"], [1.0, \"#f0f921\"]], \"type\": \"histogram2d\"}], \"histogram2dcontour\": [{\"colorbar\": {\"outlinewidth\": 0, \"ticks\": \"\"}, \"colorscale\": [[0.0, \"#0d0887\"], [0.1111111111111111, \"#46039f\"], [0.2222222222222222, \"#7201a8\"], [0.3333333333333333, \"#9c179e\"], [0.4444444444444444, \"#bd3786\"], [0.5555555555555556, \"#d8576b\"], [0.6666666666666666, \"#ed7953\"], [0.7777777777777778, \"#fb9f3a\"], [0.8888888888888888, \"#fdca26\"], [1.0, \"#f0f921\"]], \"type\": \"histogram2dcontour\"}], \"mesh3d\": [{\"colorbar\": {\"outlinewidth\": 0, \"ticks\": \"\"}, \"type\": \"mesh3d\"}], \"parcoords\": [{\"line\": {\"colorbar\": {\"outlinewidth\": 0, \"ticks\": \"\"}}, \"type\": \"parcoords\"}], \"pie\": [{\"automargin\": true, \"type\": \"pie\"}], \"scatter\": [{\"marker\": {\"colorbar\": {\"outlinewidth\": 0, \"ticks\": \"\"}}, \"type\": \"scatter\"}], \"scatter3d\": [{\"line\": {\"colorbar\": {\"outlinewidth\": 0, \"ticks\": \"\"}}, \"marker\": {\"colorbar\": {\"outlinewidth\": 0, \"ticks\": \"\"}}, \"type\": \"scatter3d\"}], \"scattercarpet\": [{\"marker\": {\"colorbar\": {\"outlinewidth\": 0, \"ticks\": \"\"}}, \"type\": \"scattercarpet\"}], \"scattergeo\": [{\"marker\": {\"colorbar\": {\"outlinewidth\": 0, \"ticks\": \"\"}}, \"type\": \"scattergeo\"}], \"scattergl\": [{\"marker\": {\"colorbar\": {\"outlinewidth\": 0, \"ticks\": \"\"}}, \"type\": \"scattergl\"}], \"scattermapbox\": [{\"marker\": {\"colorbar\": {\"outlinewidth\": 0, \"ticks\": \"\"}}, \"type\": \"scattermapbox\"}], \"scatterpolar\": [{\"marker\": {\"colorbar\": {\"outlinewidth\": 0, \"ticks\": \"\"}}, \"type\": \"scatterpolar\"}], \"scatterpolargl\": [{\"marker\": {\"colorbar\": {\"outlinewidth\": 0, \"ticks\": \"\"}}, \"type\": \"scatterpolargl\"}], \"scatterternary\": [{\"marker\": {\"colorbar\": {\"outlinewidth\": 0, \"ticks\": \"\"}}, \"type\": \"scatterternary\"}], \"surface\": [{\"colorbar\": {\"outlinewidth\": 0, \"ticks\": \"\"}, \"colorscale\": [[0.0, \"#0d0887\"], [0.1111111111111111, \"#46039f\"], [0.2222222222222222, \"#7201a8\"], [0.3333333333333333, \"#9c179e\"], [0.4444444444444444, \"#bd3786\"], [0.5555555555555556, \"#d8576b\"], [0.6666666666666666, \"#ed7953\"], [0.7777777777777778, \"#fb9f3a\"], [0.8888888888888888, \"#fdca26\"], [1.0, \"#f0f921\"]], \"type\": \"surface\"}], \"table\": [{\"cells\": {\"fill\": {\"color\": \"#EBF0F8\"}, \"line\": {\"color\": \"white\"}}, \"header\": {\"fill\": {\"color\": \"#C8D4E3\"}, \"line\": {\"color\": \"white\"}}, \"type\": \"table\"}]}, \"layout\": {\"annotationdefaults\": {\"arrowcolor\": \"#2a3f5f\", \"arrowhead\": 0, \"arrowwidth\": 1}, \"coloraxis\": {\"colorbar\": {\"outlinewidth\": 0, \"ticks\": \"\"}}, \"colorscale\": {\"diverging\": [[0, \"#8e0152\"], [0.1, \"#c51b7d\"], [0.2, \"#de77ae\"], [0.3, \"#f1b6da\"], [0.4, \"#fde0ef\"], [0.5, \"#f7f7f7\"], [0.6, \"#e6f5d0\"], [0.7, \"#b8e186\"], [0.8, \"#7fbc41\"], [0.9, \"#4d9221\"], [1, \"#276419\"]], \"sequential\": [[0.0, \"#0d0887\"], [0.1111111111111111, \"#46039f\"], [0.2222222222222222, \"#7201a8\"], [0.3333333333333333, \"#9c179e\"], [0.4444444444444444, \"#bd3786\"], [0.5555555555555556, \"#d8576b\"], [0.6666666666666666, \"#ed7953\"], [0.7777777777777778, \"#fb9f3a\"], [0.8888888888888888, \"#fdca26\"], [1.0, \"#f0f921\"]], \"sequentialminus\": [[0.0, \"#0d0887\"], [0.1111111111111111, \"#46039f\"], [0.2222222222222222, \"#7201a8\"], [0.3333333333333333, \"#9c179e\"], [0.4444444444444444, \"#bd3786\"], [0.5555555555555556, \"#d8576b\"], [0.6666666666666666, \"#ed7953\"], [0.7777777777777778, \"#fb9f3a\"], [0.8888888888888888, \"#fdca26\"], [1.0, \"#f0f921\"]]}, \"colorway\": [\"#636efa\", \"#EF553B\", \"#00cc96\", \"#ab63fa\", \"#FFA15A\", \"#19d3f3\", \"#FF6692\", \"#B6E880\", \"#FF97FF\", \"#FECB52\"], \"font\": {\"color\": \"#2a3f5f\"}, \"geo\": {\"bgcolor\": \"white\", \"lakecolor\": \"white\", \"landcolor\": \"#E5ECF6\", \"showlakes\": true, \"showland\": true, \"subunitcolor\": \"white\"}, \"hoverlabel\": {\"align\": \"left\"}, \"hovermode\": \"closest\", \"mapbox\": {\"style\": \"light\"}, \"paper_bgcolor\": \"white\", \"plot_bgcolor\": \"#E5ECF6\", \"polar\": {\"angularaxis\": {\"gridcolor\": \"white\", \"linecolor\": \"white\", \"ticks\": \"\"}, \"bgcolor\": \"#E5ECF6\", \"radialaxis\": {\"gridcolor\": \"white\", \"linecolor\": \"white\", \"ticks\": \"\"}}, \"scene\": {\"xaxis\": {\"backgroundcolor\": \"#E5ECF6\", \"gridcolor\": \"white\", \"gridwidth\": 2, \"linecolor\": \"white\", \"showbackground\": true, \"ticks\": \"\", \"zerolinecolor\": \"white\"}, \"yaxis\": {\"backgroundcolor\": \"#E5ECF6\", \"gridcolor\": \"white\", \"gridwidth\": 2, \"linecolor\": \"white\", \"showbackground\": true, \"ticks\": \"\", \"zerolinecolor\": \"white\"}, \"zaxis\": {\"backgroundcolor\": \"#E5ECF6\", \"gridcolor\": \"white\", \"gridwidth\": 2, \"linecolor\": \"white\", \"showbackground\": true, \"ticks\": \"\", \"zerolinecolor\": \"white\"}}, \"shapedefaults\": {\"line\": {\"color\": \"#2a3f5f\"}}, \"ternary\": {\"aaxis\": {\"gridcolor\": \"white\", \"linecolor\": \"white\", \"ticks\": \"\"}, \"baxis\": {\"gridcolor\": \"white\", \"linecolor\": \"white\", \"ticks\": \"\"}, \"bgcolor\": \"#E5ECF6\", \"caxis\": {\"gridcolor\": \"white\", \"linecolor\": \"white\", \"ticks\": \"\"}}, \"title\": {\"x\": 0.05}, \"xaxis\": {\"automargin\": true, \"gridcolor\": \"white\", \"linecolor\": \"white\", \"ticks\": \"\", \"title\": {\"standoff\": 15}, \"zerolinecolor\": \"white\", \"zerolinewidth\": 2}, \"yaxis\": {\"automargin\": true, \"gridcolor\": \"white\", \"linecolor\": \"white\", \"ticks\": \"\", \"title\": {\"standoff\": 15}, \"zerolinecolor\": \"white\", \"zerolinewidth\": 2}}}},\n",
       "                        {\"responsive\": true}\n",
       "                    ).then(function(){\n",
       "                            \n",
       "var gd = document.getElementById('fe1e23b9-a930-4308-b5f4-f06e7d654c2f');\n",
       "var x = new MutationObserver(function (mutations, observer) {{\n",
       "        var display = window.getComputedStyle(gd).display;\n",
       "        if (!display || display === 'none') {{\n",
       "            console.log([gd, 'removed!']);\n",
       "            Plotly.purge(gd);\n",
       "            observer.disconnect();\n",
       "        }}\n",
       "}});\n",
       "\n",
       "// Listen for the removal of the full notebook cells\n",
       "var notebookContainer = gd.closest('#notebook-container');\n",
       "if (notebookContainer) {{\n",
       "    x.observe(notebookContainer, {childList: true});\n",
       "}}\n",
       "\n",
       "// Listen for the clearing of the current output cell\n",
       "var outputEl = gd.closest('.output');\n",
       "if (outputEl) {{\n",
       "    x.observe(outputEl, {childList: true});\n",
       "}}\n",
       "\n",
       "                        })\n",
       "                };\n",
       "                });\n",
       "            </script>\n",
       "        </div>"
      ]
     },
     "metadata": {},
     "output_type": "display_data"
    }
   ],
   "source": [
    "fig2 = px.scatter_mapbox(hospitals\n",
    "                         , lat='latitude'\n",
    "                         , lon='longitude'\n",
    "                         , size='capacity'\n",
    "                         , text='name'\n",
    "                         , center=dict(lat=40.7, lon=-73.9)\n",
    "                         , zoom=9\n",
    "                         , mapbox_style=\"open-street-map\"\n",
    "                         , opacity = .9\n",
    "                        )\n",
    "fig2.show()"
   ]
  },
  {
   "cell_type": "code",
   "execution_count": 130,
   "metadata": {},
   "outputs": [
    {
     "data": {
      "image/svg+xml": [
       "<svg xmlns=\"http://www.w3.org/2000/svg\" xmlns:xlink=\"http://www.w3.org/1999/xlink\" width=\"300\" height=\"300\" viewBox=\"913427.84 111400.84 167645.31999999995 169726.31999999998\" preserveAspectRatio=\"xMinYMin meet\"><g transform=\"matrix(1,0,0,-1,0,392528.0)\"><g><path fill-rule=\"evenodd\" fill=\"#66cc99\" stroke=\"#555555\" stroke-width=\"1131.5087999999998\" opacity=\"0.6\" d=\"M 939714.0,127687.0 L 939665.847266722,126706.82859670439 L 939521.8528040323,125736.09677983871 L 939283.4033573221,124784.15322745538 L 938952.7953251129,123860.1656763491 L 938533.2126434835,122973.03263174003 L 938028.6961230255,122131.29766980399 L 937444.1045336274,121343.06715836356 L 936785.0678118655,120615.93218813452 L 936057.9328416365,119956.89546637263 L 935269.702330196,119372.30387697455 L 934427.96736826,118867.78735651646 L 933540.8343236509,118448.20467488714 L 932616.8467725447,118117.59664267792 L 931664.9032201613,117879.1471959677 L 930694.1714032956,117735.15273327804 L 929714.0,117687.0 L 928733.8285967044,117735.15273327802 L 927763.0967798388,117879.1471959677 L 926811.1532274554,118117.5966426779 L 925887.1656763491,118448.20467488712 L 925000.0326317401,118867.78735651643 L 924158.297669804,119372.30387697453 L 923370.0671583635,119956.89546637262 L 922642.9321881345,120615.93218813451 L 921983.8954663726,121343.06715836353 L 921399.3038769745,122131.29766980396 L 920894.7873565165,122973.03263174 L 920475.2046748871,123860.16567634909 L 920144.5966426779,124784.15322745536 L 919906.1471959677,125736.0967798387 L 919762.152733278,126706.82859670438 L 919714.0,127686.99999999999 L 919762.152733278,128667.1714032956 L 919906.1471959677,129637.90322016127 L 920144.5966426779,130589.84677254461 L 920475.2046748871,131513.8343236509 L 920894.7873565165,132400.96736825997 L 921399.3038769745,133242.702330196 L 921983.8954663726,134030.93284163644 L 922642.9321881345,134758.06781186548 L 923370.0671583635,135417.10453362737 L 924158.297669804,136001.69612302544 L 925000.03263174,136506.21264348354 L 925887.1656763491,136925.79532511285 L 926811.1532274553,137256.4033573221 L 927763.0967798387,137494.8528040323 L 928733.8285967044,137638.84726672198 L 929714.0,137687.0 L 930694.1714032956,137638.84726672198 L 931664.9032201612,137494.8528040323 L 932616.8467725446,137256.4033573221 L 933540.8343236508,136925.79532511288 L 934427.9673682599,136506.21264348357 L 935269.7023301959,136001.69612302547 L 936057.9328416365,135417.1045336274 L 936785.0678118655,134758.0678118655 L 937444.1045336273,134030.9328416365 L 938028.6961230254,133242.70233019607 L 938533.2126434835,132400.96736826003 L 938952.7953251129,131513.83432365095 L 939283.4033573221,130589.8467725447 L 939521.8528040323,129637.90322016136 L 939665.847266722,128667.17140329568 L 939714.0,127687.00000000009 L 939714.0,127687.0 z\" /><path fill-rule=\"evenodd\" fill=\"#66cc99\" stroke=\"#555555\" stroke-width=\"1131.5087999999998\" opacity=\"0.6\" d=\"M 970502.0,152243.0 L 970453.847266722,151262.8285967044 L 970309.8528040323,150292.09677983873 L 970071.4033573221,149340.1532274554 L 969740.7953251129,148416.1656763491 L 969321.2126434835,147529.03263174003 L 968816.6961230255,146687.297669804 L 968232.1045336274,145899.06715836356 L 967573.0678118655,145171.93218813452 L 966845.9328416365,144512.89546637263 L 966057.702330196,143928.30387697456 L 965215.96736826,143423.78735651646 L 964328.8343236509,143004.20467488712 L 963404.8467725447,142673.5966426779 L 962452.9032201613,142435.1471959677 L 961482.1714032956,142291.15273327802 L 960502.0,142243.0 L 959521.8285967044,142291.15273327802 L 958551.0967798388,142435.1471959677 L 957599.1532274554,142673.5966426779 L 956675.1656763491,143004.20467488712 L 955788.0326317401,143423.78735651643 L 954946.297669804,143928.30387697453 L 954158.0671583635,144512.8954663726 L 953430.9321881345,145171.93218813452 L 952771.8954663726,145899.06715836353 L 952187.3038769745,146687.29766980396 L 951682.7873565165,147529.03263174 L 951263.2046748871,148416.16567634908 L 950932.5966426779,149340.15322745536 L 950694.1471959677,150292.0967798387 L 950550.152733278,151262.82859670438 L 950502.0,152243.0 L 950547.4840072467,153168.84823696528 L 950400.3038769745,153367.29766980396 L 949895.7873565165,154209.03263174 L 949476.2046748871,155096.16567634908 L 949145.5966426779,156020.15322745536 L 948907.1471959677,156972.0967798387 L 948763.152733278,157942.82859670438 L 948715.0,158923.0 L 948763.152733278,159903.1714032956 L 948907.1471959677,160873.90322016127 L 949145.5966426779,161825.8467725446 L 949431.5917111251,162625.14944271022 L 949396.297669804,162646.30387697453 L 948608.0671583635,163230.8954663726 L 947880.9321881345,163889.93218813452 L 947221.8954663726,164617.06715836353 L 946637.3038769745,165405.29766980396 L 946132.7873565165,166247.03263174 L 945713.2046748871,167134.16567634908 L 945382.5966426779,168058.15322745536 L 945144.1471959677,169010.0967798387 L 945000.152733278,169980.82859670438 L 944952.0,170961.0 L 945000.152733278,171941.1714032956 L 945144.1471959677,172911.90322016127 L 945382.5966426779,173863.8467725446 L 945713.2046748871,174787.8343236509 L 946132.7873565165,175674.96736825997 L 946637.3038769745,176516.702330196 L 947221.8954663726,177304.93284163644 L 947880.9321881345,178032.06781186548 L 948608.0671583635,178691.10453362737 L 949396.297669804,179275.69612302544 L 950238.03263174,179780.21264348354 L 951125.1656763491,180199.79532511285 L 952049.1532274553,180530.4033573221 L 953001.0967798387,180768.8528040323 L 953971.8285967044,180912.84726672198 L 954952.0,180961.0 L 955932.1714032956,180912.84726672198 L 956902.9032201612,180768.8528040323 L 957854.8467725446,180530.4033573221 L 958778.8343236508,180199.79532511288 L 959665.9673682599,179780.21264348357 L 960507.7023301959,179275.69612302547 L 961295.9328416365,178691.1045336274 L 962023.0678118655,178032.0678118655 L 962682.1045336273,177304.9328416365 L 963266.6961230254,176516.70233019607 L 963520.5634943788,176093.15020950648 L 964239.1714032956,176057.84726672198 L 965209.9032201612,175913.8528040323 L 966161.8467725446,175675.4033573221 L 967085.8343236508,175344.79532511288 L 967972.9673682599,174925.21264348357 L 968370.3320671775,174687.04140869286 L 968361.0,174877.0 L 968409.152733278,175857.1714032956 L 968553.1471959677,176827.90322016127 L 968791.5966426779,177779.8467725446 L 969122.2046748871,178703.8343236509 L 969541.7873565165,179590.96736825997 L 970046.3038769745,180432.702330196 L 970630.8954663726,181220.93284163644 L 971289.9321881345,181948.06781186548 L 972017.0671583635,182607.10453362737 L 972805.297669804,183191.69612302544 L 973647.03263174,183696.21264348354 L 974534.1656763491,184115.79532511285 L 975458.1532274553,184446.4033573221 L 976410.0967798387,184684.8528040323 L 976906.048927604,184758.42035564283 L 976647.3038769745,185107.29766980396 L 976142.7873565165,185949.03263174 L 975723.2046748871,186836.16567634908 L 975392.5966426779,187760.15322745536 L 975154.1471959677,188712.0967798387 L 975010.152733278,189682.82859670438 L 974962.0,190663.0 L 975010.152733278,191643.1714032956 L 975041.6366513266,191855.4187383559 L 974546.3038769745,192523.29766980396 L 974041.7873565165,193365.03263174 L 973622.2046748871,194252.16567634908 L 973291.5966426779,195176.15322745536 L 973053.1471959677,196128.0967798387 L 972909.152733278,197098.82859670438 L 972861.0,198079.0 L 972909.152733278,199059.1714032956 L 973053.1471959677,200029.90322016127 L 973291.5966426779,200981.8467725446 L 973622.2046748871,201905.8343236509 L 974041.7873565165,202792.96736825997 L 974546.3038769745,203634.702330196 L 974851.1982572174,204045.80481205275 L 974769.2046748871,204219.16567634908 L 974438.5966426779,205143.15322745536 L 974200.1471959677,206095.0967798387 L 974056.152733278,207065.82859670438 L 974008.0,208046.0 L 974056.152733278,209026.1714032956 L 974200.1471959677,209996.90322016127 L 974438.5966426779,210948.8467725446 L 974769.2046748871,211872.8343236509 L 975188.7873565165,212759.96736825997 L 975693.3038769745,213601.702330196 L 976277.8954663726,214389.93284163644 L 976936.9321881345,215117.06781186548 L 977664.0671583635,215776.10453362737 L 978452.297669804,216360.69612302544 L 978465.2665646798,216368.46937946934 L 978312.5966426779,216795.15322745536 L 978074.1471959677,217747.0967798387 L 977930.152733278,218717.82859670438 L 977882.0,219698.0 L 977930.152733278,220678.1714032956 L 978074.1471959677,221648.90322016127 L 978312.5966426779,222600.8467725446 L 978643.2046748871,223524.8343236509 L 979062.7873565165,224411.96736825997 L 979567.3038769745,225253.702330196 L 980151.8954663726,226041.93284163644 L 980810.9321881345,226769.06781186548 L 981538.0671583635,227428.10453362737 L 982326.297669804,228012.69612302544 L 983168.03263174,228517.21264348354 L 984055.1656763491,228936.79532511285 L 984979.1532274553,229267.4033573221 L 985526.5856449375,229404.52803948737 L 985344.5966426779,229913.15322745536 L 985106.1471959677,230865.0967798387 L 984962.152733278,231835.82859670438 L 984914.0,232816.0 L 984962.152733278,233796.1714032956 L 985106.1471959677,234766.90322016127 L 985344.5966426779,235718.8467725446 L 985675.2046748871,236642.8343236509 L 986094.7873565165,237529.96736825997 L 986599.3038769745,238371.702330196 L 987183.8954663726,239159.93284163644 L 987842.9321881345,239887.06781186548 L 988570.0671583635,240546.10453362737 L 989358.297669804,241130.69612302544 L 990200.03263174,241635.21264348354 L 991054.5749258519,242039.3810481078 L 990829.5966426779,242668.15322745536 L 990591.1471959677,243620.0967798387 L 990447.152733278,244590.82859670438 L 990399.0,245571.0 L 990447.152733278,246551.1714032956 L 990591.1471959677,247521.90322016127 L 990829.5966426779,248473.8467725446 L 991160.2046748871,249397.8343236509 L 991579.7873565165,250284.96736825997 L 992084.3038769745,251126.702330196 L 992668.8954663726,251914.93284163644 L 993327.9321881345,252642.06781186548 L 994055.0671583635,253301.10453362737 L 994843.297669804,253885.69612302544 L 995685.03263174,254390.21264348354 L 996572.1656763491,254809.79532511285 L 997496.1532274553,255140.4033573221 L 998448.0967798387,255378.8528040323 L 998538.8837048243,255392.3197722056 L 998517.1471959677,255479.0967798387 L 998373.152733278,256449.82859670438 L 998325.0,257430.0 L 998373.152733278,258410.1714032956 L 998517.1471959677,259380.90322016127 L 998755.5966426779,260332.8467725446 L 999086.2046748871,261256.8343236509 L 999505.7873565165,262143.96736825997 L 1000010.3038769745,262985.70233019604 L 1000594.8954663726,263773.9328416365 L 1001253.9321881345,264501.0678118655 L 1001981.0671583635,265160.10453362734 L 1002769.297669804,265744.69612302544 L 1003611.03263174,266249.21264348354 L 1004498.1656763491,266668.7953251129 L 1005422.1532274553,266999.4033573221 L 1006374.0967798387,267237.85280403227 L 1007344.8285967044,267381.84726672195 L 1008325.0,267430.0 L 1009305.1714032956,267381.84726672195 L 1010169.5707673621,267253.62573342567 L 1010789.0671583635,267815.10453362734 L 1011577.297669804,268399.69612302544 L 1012419.03263174,268904.21264348354 L 1013306.1656763491,269323.7953251129 L 1013514.4333153454,269398.3146779105 L 1013621.1656763491,269448.7953251129 L 1013774.5245690913,269503.6680143505 L 1013798.7873565165,269554.96736825997 L 1014303.3038769745,270396.70233019604 L 1014887.8954663726,271184.9328416365 L 1015546.9321881345,271912.0678118655 L 1016274.0671583635,272571.10453362734 L 1017062.297669804,273155.69612302544 L 1017904.03263174,273660.21264348354 L 1018791.1656763491,274079.7953251129 L 1019715.1532274553,274410.4033573221 L 1020667.0967798387,274648.85280403227 L 1021637.8285967044,274792.84726672195 L 1022618.0,274841.0 L 1023598.1714032956,274792.84726672195 L 1024568.9032201612,274648.8528040323 L 1025520.8467725446,274410.4033573221 L 1026444.8343236508,274079.7953251129 L 1027331.9673682599,273660.2126434836 L 1028173.7023301959,273155.6961230255 L 1028961.9328416365,272571.1045336274 L 1029689.0678118655,271912.06781186553 L 1030348.1045336273,271184.9328416365 L 1030932.6961230254,270396.7023301961 L 1031437.2126434835,269554.96736826 L 1031856.7953251129,268667.834323651 L 1032187.4033573221,267743.84677254467 L 1032425.8528040323,266791.90322016133 L 1032569.847266722,265821.1714032957 L 1032618.0,264841.00000000006 L 1032618.0,264841.0 L 1032569.847266722,263860.8285967044 L 1032425.8528040323,262890.0967798387 L 1032187.4033573221,261938.1532274554 L 1031856.7953251129,261014.1656763491 L 1031437.2126434835,260127.03263174003 L 1031394.2212454379,260055.30581739364 L 1031755.9673682599,259884.21264348357 L 1032597.7023301959,259379.69612302547 L 1033385.9328416365,258795.1045336274 L 1034113.0678118655,258136.0678118655 L 1034772.1045336273,257408.9328416365 L 1035356.6961230254,256620.70233019607 L 1035861.2126434835,255778.96736826003 L 1036280.7953251129,254891.83432365095 L 1036611.4033573221,253967.8467725447 L 1036849.8528040323,253015.90322016136 L 1036993.847266722,252045.17140329568 L 1037029.7334819647,251314.6907107391 L 1037074.4033573221,251189.8467725447 L 1037312.8528040323,250237.90322016136 L 1037456.847266722,249267.17140329568 L 1037505.0,248287.0000000001 L 1037505.0,248287.0 L 1037456.847266722,247306.8285967044 L 1037312.8528040323,246336.09677983873 L 1037074.4033573221,245384.1532274554 L 1036743.7953251129,244460.1656763491 L 1036324.2126434835,243573.03263174003 L 1035819.6961230255,242731.297669804 L 1035712.9972388913,242587.4308788059 L 1035423.7953251129,241779.1656763491 L 1035004.2126434835,240892.03263174003 L 1034499.6961230255,240050.297669804 L 1033915.1045336274,239262.06715836356 L 1033256.0678118655,238534.93218813452 L 1032528.9328416365,237875.89546637263 L 1031740.702330196,237291.30387697456 L 1030898.96736826,236786.78735651646 L 1030011.8343236509,236367.20467488712 L 1029087.8467725447,236036.5966426779 L 1028135.9032201613,235798.1471959677 L 1027165.1714032956,235654.15273327802 L 1026185.0,235606.0 L 1025204.8285967044,235654.15273327802 L 1024234.0967798388,235798.1471959677 L 1023282.1532274554,236036.5966426779 L 1022358.1656763491,236367.20467488712 L 1021471.0326317401,236786.78735651643 L 1020629.297669804,237291.30387697453 L 1019992.5691310754,237763.53394554954 L 1019863.2126434835,237490.03263174003 L 1019358.6961230255,236648.297669804 L 1018774.1045336274,235860.06715836356 L 1018115.0678118655,235132.93218813452 L 1017387.9328416365,234473.89546637263 L 1016599.702330196,233889.30387697456 L 1015757.96736826,233384.78735651646 L 1014870.8343236509,232965.20467488712 L 1014260.7122663109,232746.89951207067 L 1013973.2126434835,232139.03263174003 L 1013468.6961230255,231297.297669804 L 1012884.1045336274,230509.06715836356 L 1012225.0678118655,229781.93218813452 L 1011497.9328416365,229122.89546637263 L 1010709.702330196,228538.30387697456 L 1009867.96736826,228033.78735651646 L 1009782.2704915003,227993.2557524052 L 1009757.0755779963,227939.98558348714 L 1009781.9673682599,227928.21264348357 L 1010623.7023301959,227423.69612302547 L 1011411.9328416365,226839.1045336274 L 1012139.0678118655,226180.0678118655 L 1012798.1045336273,225452.9328416365 L 1013382.6961230254,224664.70233019607 L 1013887.2126434835,223822.96736826003 L 1014306.7953251129,222935.83432365095 L 1014637.4033573221,222011.8467725447 L 1014875.8528040323,221059.90322016136 L 1014927.4096724498,220712.3350455528 L 1014957.8285967044,220716.84726672198 L 1015938.0,220765.0 L 1016918.1714032956,220716.84726672198 L 1017888.9032201612,220572.8528040323 L 1018840.8467725446,220334.4033573221 L 1019764.8343236508,220003.79532511288 L 1020651.9673682599,219584.21264348357 L 1021493.7023301959,219079.69612302547 L 1022281.9328416365,218495.1045336274 L 1023009.0678118655,217836.0678118655 L 1023668.1045336273,217108.9328416365 L 1024064.8220808812,216574.02115142337 L 1024379.3038769745,217098.702330196 L 1024963.8954663726,217886.93284163644 L 1025622.9321881345,218614.06781186548 L 1025977.1375286822,218935.10081952234 L 1026165.7873565165,219333.96736825997 L 1026670.3038769745,220175.702330196 L 1027254.8954663726,220963.93284163644 L 1027913.9321881345,221691.06781186548 L 1028641.0671583635,222350.10453362737 L 1029429.297669804,222934.69612302544 L 1030271.03263174,223439.21264348354 L 1031158.1656763491,223858.79532511285 L 1032082.1532274553,224189.4033573221 L 1033034.0967798387,224427.8528040323 L 1034004.8285967044,224571.84726672198 L 1034985.0,224620.0 L 1035965.1714032956,224571.84726672198 L 1036935.9032201612,224427.8528040323 L 1037887.8467725446,224189.4033573221 L 1038811.8343236508,223858.79532511288 L 1039698.9673682599,223439.21264348357 L 1040540.7023301959,222934.69612302547 L 1041328.9328416365,222350.1045336274 L 1042056.0678118655,221691.0678118655 L 1042715.1045336273,220963.9328416365 L 1043299.6961230254,220175.70233019607 L 1043804.2126434835,219333.96736826003 L 1044223.7953251129,218446.83432365095 L 1044554.4033573221,217522.8467725447 L 1044792.8528040323,216570.90322016136 L 1044936.847266722,215600.17140329568 L 1044985.0,214620.0000000001 L 1044985.0,214620.0 L 1044936.847266722,213639.8285967044 L 1044792.8528040323,212669.09677983873 L 1044554.4033573221,211717.1532274554 L 1044223.7953251129,210793.1656763491 L 1043804.2126434835,209906.03263174003 L 1043432.4119430345,209285.7206384755 L 1043672.7023301959,209141.69612302547 L 1044460.9328416365,208557.1045336274 L 1045188.0678118655,207898.0678118655 L 1045847.1045336273,207170.9328416365 L 1046431.6961230254,206382.70233019607 L 1046936.2126434835,205540.96736826003 L 1047355.7953251129,204653.83432365095 L 1047686.4033573221,203729.8467725447 L 1047924.8528040323,202777.90322016136 L 1048068.847266722,201807.17140329568 L 1048117.0,200827.0000000001 L 1048117.0,200827.0 L 1048068.847266722,199846.8285967044 L 1047924.8528040323,198876.09677983873 L 1047686.4033573221,197924.1532274554 L 1047355.7953251129,197000.1656763491 L 1046936.2126434835,196113.03263174003 L 1046431.6961230255,195271.297669804 L 1045847.1045336274,194483.06715836356 L 1045188.0678118655,193755.93218813452 L 1045137.0627891658,193709.70393020485 L 1045129.847266722,193562.8285967044 L 1044985.8528040323,192592.09677983873 L 1044747.4033573221,191640.1532274554 L 1044416.7953251129,190716.1656763491 L 1043997.2126434835,189829.03263174003 L 1043492.6961230255,188987.297669804 L 1042908.1045336274,188199.06715836356 L 1042249.0678118655,187471.93218813452 L 1041521.9328416365,186812.89546637263 L 1040733.702330196,186228.30387697456 L 1039891.96736826,185723.78735651646 L 1039004.8343236509,185304.20467488712 L 1038080.8467725447,184973.5966426779 L 1037128.9032201613,184735.1471959677 L 1036158.1714032956,184591.15273327802 L 1035178.0,184543.0 L 1034197.8285967044,184591.15273327802 L 1033227.0967798388,184735.1471959677 L 1032275.1532274554,184973.5966426779 L 1031351.1656763491,185304.20467488712 L 1030464.0326317401,185723.78735651643 L 1029622.297669804,186228.30387697453 L 1028834.0671583635,186812.8954663726 L 1028106.9321881345,187471.93218813452 L 1027447.8954663726,188199.06715836353 L 1026863.3038769745,188987.29766980396 L 1026358.7873565165,189829.03263174 L 1025939.2046748871,190716.16567634908 L 1025608.5966426779,191640.15322745536 L 1025370.1471959677,192592.0967798387 L 1025226.152733278,193562.82859670438 L 1025178.0,194543.0 L 1025196.9006709679,194927.7319959768 L 1024414.8285967044,194966.15273327802 L 1023444.0967798388,195110.1471959677 L 1022492.1532274554,195348.5966426779 L 1021568.1656763491,195679.20467488712 L 1020681.0326317401,196098.78735651643 L 1019839.297669804,196603.30387697453 L 1019051.0671583635,197187.8954663726 L 1018323.9321881345,197846.93218813452 L 1017664.8954663726,198574.06715836353 L 1017080.3038769745,199362.29766980396 L 1016575.7873565165,200204.03263174 L 1016302.0116422982,200782.88274526552 L 1015938.0,200765.0 L 1015799.8523640048,200771.78675815955 L 1015926.2126434835,200560.96736826003 L 1016345.7953251129,199673.83432365095 L 1016676.4033573221,198749.8467725447 L 1016914.8528040323,197797.90322016136 L 1017058.847266722,196827.17140329568 L 1017107.0,195847.0000000001 L 1017107.0,195847.0 L 1017058.847266722,194866.8285967044 L 1016914.8528040323,193896.09677983873 L 1016676.4033573221,192944.1532274554 L 1016345.7953251129,192020.1656763491 L 1015926.2126434835,191133.03263174003 L 1015421.6961230255,190291.297669804 L 1014837.1045336274,189503.06715836356 L 1014178.0678118655,188775.93218813452 L 1013450.9328416365,188116.89546637263 L 1012662.702330196,187532.30387697456 L 1012141.9029938453,187220.14876768907 L 1012388.8343236508,187131.79532511288 L 1013275.9673682599,186712.21264348357 L 1014117.7023301959,186207.69612302547 L 1014905.9328416365,185623.1045336274 L 1015633.0678118655,184964.0678118655 L 1016292.1045336273,184236.9328416365 L 1016876.6961230254,183448.70233019607 L 1017381.2126434835,182606.96736826003 L 1017800.7953251129,181719.83432365095 L 1018131.4033573221,180795.8467725447 L 1018369.8528040323,179843.90322016136 L 1018513.847266722,178873.17140329568 L 1018562.0,177893.0000000001 L 1018562.0,177893.0 L 1018513.847266722,176912.8285967044 L 1018369.8528040323,175942.09677983873 L 1018131.4033573221,174990.1532274554 L 1017800.7953251129,174066.1656763491 L 1017381.2126434835,173179.03263174003 L 1016876.6961230255,172337.297669804 L 1016292.1045336274,171549.06715836356 L 1015633.0678118655,170821.93218813452 L 1014905.9328416365,170162.89546637263 L 1014117.702330196,169578.30387697456 L 1013275.96736826,169073.78735651646 L 1012388.8343236509,168654.20467488712 L 1011464.8467725447,168323.5966426779 L 1010512.9032201613,168085.1471959677 L 1009542.1714032956,167941.15273327802 L 1009529.2974569873,167940.5202768518 L 1009649.4033573221,167604.8467725447 L 1009887.8528040323,166652.90322016136 L 1010031.847266722,165682.17140329568 L 1010080.0,164702.0000000001 L 1010080.0,164702.0 L 1010031.847266722,163721.8285967044 L 1009887.8528040323,162751.09677983873 L 1009649.4033573221,161799.1532274554 L 1009318.7953251129,160875.1656763491 L 1008899.2126434835,159988.03263174003 L 1008394.6961230255,159146.297669804 L 1007810.1045336274,158358.06715836356 L 1007151.0678118655,157630.93218813452 L 1006818.8451177772,157329.82308986373 L 1006279.1045336274,156602.06715836356 L 1005620.0678118655,155874.93218813452 L 1004892.9328416365,155215.89546637263 L 1004104.702330196,154631.30387697456 L 1003834.6148648448,154469.41968016638 L 1003959.847266722,153625.17140329568 L 1004008.0,152645.0000000001 L 1004008.0,152645.0 L 1003959.847266722,151664.8285967044 L 1003815.8528040323,150694.09677983873 L 1003577.4033573221,149742.1532274554 L 1003246.7953251129,148818.1656763491 L 1002827.2126434835,147931.03263174003 L 1002322.6961230255,147089.297669804 L 1001738.1045336274,146301.06715836356 L 1001079.0678118655,145573.93218813452 L 1000351.9328416365,144914.89546637263 L 999563.702330196,144330.30387697456 L 998721.96736826,143825.78735651646 L 997834.8343236509,143406.20467488712 L 996910.8467725447,143075.5966426779 L 995958.9032201613,142837.1471959677 L 994988.1714032956,142693.15273327802 L 994008.0,142645.0 L 993027.8285967044,142693.15273327802 L 992057.0967798388,142837.1471959677 L 991105.1532274554,143075.5966426779 L 990181.1656763491,143406.20467488712 L 989294.0326317401,143825.78735651643 L 988452.297669804,144330.30387697453 L 987664.0671583635,144914.8954663726 L 986936.9321881345,145573.93218813452 L 986277.8954663726,146301.06715836353 L 985693.3038769745,147089.29766980396 L 985188.7873565165,147931.03263174 L 984769.2046748871,148818.16567634908 L 984438.5966426779,149742.15322745536 L 984200.1471959677,150694.0967798387 L 984056.152733278,151664.82859670438 L 984008.0,152645.0 L 984056.152733278,153625.1714032956 L 984200.1471959677,154595.90322016127 L 984438.5966426779,155547.8467725446 L 984769.2046748871,156471.8343236509 L 985188.7873565165,157358.96736825997 L 985693.3038769745,158200.702330196 L 986277.8954663726,158988.93284163644 L 986936.9321881345,159716.06781186548 L 987664.0671583635,160375.10453362737 L 988452.297669804,160959.69612302544 L 988722.3851351552,161121.58031983362 L 988597.152733278,161965.82859670438 L 988549.0,162946.0 L 988555.776211962,163083.93296321214 L 988435.8343236509,163027.20467488712 L 987511.8467725447,162696.5966426779 L 986559.9032201613,162458.1471959677 L 985589.1714032956,162314.15273327802 L 984609.0,162266.0 L 983628.8285967044,162314.15273327802 L 982658.0967798388,162458.1471959677 L 981706.1532274554,162696.5966426779 L 980782.1656763491,163027.20467488712 L 979895.0326317401,163446.78735651643 L 979053.297669804,163951.30387697453 L 978265.0671583635,164535.8954663726 L 977861.649968919,164901.53149395928 L 977380.8285967044,164925.15273327802 L 976410.0967798388,165069.1471959677 L 975458.1532274554,165307.5966426779 L 974534.1656763491,165638.20467488712 L 973647.0326317401,166057.78735651643 L 973249.6679328225,166295.9585913071 L 973259.0,166106.0000000001 L 973259.0,166106.0 L 973210.847266722,165125.8285967044 L 973066.8528040323,164155.09677983873 L 972828.4033573221,163203.1532274554 L 972497.7953251129,162279.1656763491 L 972078.2126434835,161392.03263174003 L 971573.6961230255,160550.297669804 L 970989.1045336274,159762.06715836356 L 970330.0678118655,159034.93218813452 L 969602.9328416365,158375.89546637263 L 968819.1524024761,157794.60427551196 L 969321.2126434835,156956.96736826003 L 969740.7953251129,156069.83432365095 L 970071.4033573221,155145.8467725447 L 970309.8528040323,154193.90322016136 L 970453.847266722,153223.17140329568 L 970502.0,152243.0000000001 L 970502.0,152243.0 z M 1000745.7649530584,205892.87361044495 L 1000652.4033573221,205520.1532274554 L 1000321.7953251129,204596.1656763491 L 1000097.9656169874,204122.91752017598 L 1000120.0,204124.0 L 1001100.1714032956,204075.84726672198 L 1001379.6466270669,204034.39103341135 L 1001551.297669804,204161.69612302544 L 1002393.03263174,204666.21264348354 L 1003280.1656763491,205085.79532511285 L 1004204.1532274553,205416.4033573221 L 1005156.0967798387,205654.8528040323 L 1006126.8285967044,205798.84726672198 L 1007107.0,205847.0 L 1007245.1476359952,205840.21324184045 L 1007118.7873565165,206051.03263174 L 1006699.2046748871,206938.16567634908 L 1006368.5966426779,207862.15322745536 L 1006130.1471959677,208814.0967798387 L 1006078.5903275503,209161.6649544472 L 1006048.1714032956,209157.15273327802 L 1005232.7550537739,209117.0938967755 L 1005111.1045336274,208953.06715836356 L 1004452.0678118655,208225.93218813452 L 1003724.9328416365,207566.89546637263 L 1002936.702330196,206982.30387697456 L 1002094.96736826,206477.78735651646 L 1001207.8343236509,206058.20467488712 L 1000745.7649530584,205892.87361044495 z\" /><path fill-rule=\"evenodd\" fill=\"#66cc99\" stroke=\"#555555\" stroke-width=\"1131.5087999999998\" opacity=\"0.6\" d=\"M 1062707.0,157479.0 L 1062658.847266722,156498.8285967044 L 1062514.8528040324,155528.09677983873 L 1062276.403357322,154576.1532274554 L 1061945.7953251128,153652.1656763491 L 1061526.2126434837,152765.03263174003 L 1061021.6961230254,151923.297669804 L 1060437.1045336274,151135.06715836356 L 1059778.0678118656,150407.93218813452 L 1059050.9328416365,149748.89546637263 L 1058262.702330196,149164.30387697456 L 1057420.96736826,148659.78735651646 L 1056533.834323651,148240.20467488712 L 1055609.8467725446,147909.5966426779 L 1054657.9032201613,147671.1471959677 L 1053687.1714032956,147527.15273327802 L 1052707.0,147479.0 L 1051726.8285967044,147527.15273327802 L 1050756.0967798387,147671.1471959677 L 1049804.1532274554,147909.5966426779 L 1048880.165676349,148240.20467488712 L 1047993.0326317401,148659.78735651643 L 1047151.297669804,149164.30387697453 L 1046363.0671583635,149748.8954663726 L 1045635.9321881345,150407.93218813452 L 1044976.8954663726,151135.06715836353 L 1044392.3038769745,151923.29766980396 L 1043887.7873565165,152765.03263174 L 1043468.2046748871,153652.16567634908 L 1043137.5966426779,154576.15322745536 L 1042899.1471959677,155528.0967798387 L 1042755.152733278,156498.82859670438 L 1042707.0,157479.0 L 1042755.152733278,158459.1714032956 L 1042899.1471959677,159429.90322016127 L 1043137.5966426779,160381.8467725446 L 1043468.2046748871,161305.8343236509 L 1043887.7873565165,162192.96736825997 L 1044392.3038769745,163034.702330196 L 1044976.8954663726,163822.93284163644 L 1045635.9321881345,164550.06781186548 L 1046363.0671583635,165209.10453362737 L 1047151.297669804,165793.69612302544 L 1047993.03263174,166298.21264348354 L 1048880.165676349,166717.79532511285 L 1049804.1532274554,167048.4033573221 L 1050756.0967798387,167286.8528040323 L 1051726.8285967044,167430.84726672198 L 1052707.0,167479.0 L 1053687.1714032956,167430.84726672198 L 1054657.9032201613,167286.8528040323 L 1055609.8467725446,167048.4033573221 L 1056533.834323651,166717.79532511288 L 1057420.96736826,166298.21264348357 L 1058262.702330196,165793.69612302547 L 1059050.9328416365,165209.1045336274 L 1059778.0678118654,164550.0678118655 L 1060437.1045336274,163822.9328416365 L 1061021.6961230254,163034.70233019607 L 1061526.2126434834,162192.96736826003 L 1061945.7953251128,161305.83432365095 L 1062276.403357322,160381.8467725447 L 1062514.8528040324,159429.90322016136 L 1062658.847266722,158459.17140329568 L 1062707.0,157479.0000000001 L 1062707.0,157479.0 z\" /><path fill-rule=\"evenodd\" fill=\"#66cc99\" stroke=\"#555555\" stroke-width=\"1131.5087999999998\" opacity=\"0.6\" d=\"M 1074787.0,213722.0 L 1074738.847266722,212741.8285967044 L 1074594.8528040324,211771.09677983873 L 1074356.403357322,210819.1532274554 L 1074025.7953251128,209895.1656763491 L 1073606.2126434837,209008.03263174003 L 1073101.6961230254,208166.297669804 L 1072517.1045336274,207378.06715836356 L 1071858.0678118656,206650.93218813452 L 1071130.9328416365,205991.89546637263 L 1070342.702330196,205407.30387697456 L 1069500.96736826,204902.78735651646 L 1068613.834323651,204483.20467488712 L 1067689.8467725446,204152.5966426779 L 1066737.9032201613,203914.1471959677 L 1065767.1714032956,203770.15273327802 L 1064787.0,203722.0 L 1063806.8285967044,203770.15273327802 L 1062836.0967798387,203914.1471959677 L 1061884.1532274554,204152.5966426779 L 1060960.165676349,204483.20467488712 L 1060073.03263174,204902.78735651643 L 1059231.297669804,205407.30387697453 L 1058443.0671583635,205991.8954663726 L 1057715.9321881346,206650.93218813452 L 1057056.8954663726,207378.06715836353 L 1056472.3038769746,208166.29766980396 L 1055967.7873565163,209008.03263174 L 1055548.2046748872,209895.16567634908 L 1055217.596642678,210819.15322745536 L 1054979.1471959676,211771.0967798387 L 1054835.152733278,212741.82859670438 L 1054787.0,213722.0 L 1054835.152733278,214702.1714032956 L 1054979.1471959676,215672.90322016127 L 1055217.596642678,216624.8467725446 L 1055548.2046748872,217548.8343236509 L 1055967.7873565163,218435.96736825997 L 1056472.3038769746,219277.702330196 L 1057056.8954663726,220065.93284163644 L 1057715.9321881344,220793.06781186548 L 1058443.0671583635,221452.10453362737 L 1059231.297669804,222036.69612302544 L 1060073.03263174,222541.21264348354 L 1060960.165676349,222960.79532511285 L 1061884.1532274554,223291.4033573221 L 1062836.0967798387,223529.8528040323 L 1063806.8285967044,223673.84726672198 L 1064787.0,223722.0 L 1065767.1714032956,223673.84726672198 L 1066737.9032201613,223529.8528040323 L 1067689.8467725446,223291.4033573221 L 1068613.834323651,222960.79532511288 L 1069500.96736826,222541.21264348357 L 1070342.702330196,222036.69612302547 L 1071130.9328416365,221452.1045336274 L 1071858.0678118654,220793.0678118655 L 1072517.1045336274,220065.9328416365 L 1073101.6961230254,219277.70233019607 L 1073606.2126434834,218435.96736826003 L 1074025.7953251128,217548.83432365095 L 1074356.403357322,216624.8467725447 L 1074594.8528040324,215672.90322016136 L 1074738.847266722,214702.17140329568 L 1074787.0,213722.0000000001 L 1074787.0,213722.0 z\" /></g></g></svg>"
      ],
      "text/plain": [
       "<shapely.geometry.multipolygon.MultiPolygon at 0x11cd6fc50>"
      ]
     },
     "execution_count": 130,
     "metadata": {},
     "output_type": "execute_result"
    }
   ],
   "source": [
    "# Create a 10km buffer around each hospital\n",
    "coverage = pd.DataFrame(hospitals.geometry.buffer(10000), columns = ['buffer'])\n",
    "near_hospitals = hospitals.geometry.buffer(10000).unary_union\n",
    "near_hospitals"
   ]
  },
  {
   "cell_type": "code",
   "execution_count": 131,
   "metadata": {},
   "outputs": [
    {
     "data": {
      "text/plain": [
       "(1347, 30)"
      ]
     },
     "execution_count": 131,
     "metadata": {},
     "output_type": "execute_result"
    }
   ],
   "source": [
    "# Which collisions are outside of this hospital catchment area?\n",
    "outside_range = collisions[~collisions.geometry.apply(lambda x: near_hospitals.contains(x))]\n",
    "outside_range.shape\n"
   ]
  },
  {
   "cell_type": "code",
   "execution_count": 132,
   "metadata": {},
   "outputs": [
    {
     "data": {
      "application/vnd.plotly.v1+json": {
       "config": {
        "plotlyServerURL": "https://plot.ly"
       },
       "data": [
        {
         "coloraxis": "coloraxis",
         "hovertemplate": "latitude=%{lat}<br>longitude=%{lon}<extra></extra>",
         "lat": [
          "40.6760520",
          "40.6675220",
          "40.6664920",
          "40.7444300",
          "40.6765300",
          "40.7245520",
          "40.6153830",
          "40.6666950",
          "40.6763270",
          "40.6835480",
          "40.6723820",
          "40.7491840",
          "40.6641920",
          "40.7622900",
          "40.6183400",
          "40.7240200",
          "40.6675220",
          "40.6153530",
          "40.6661200",
          "40.5311100",
          "40.7906900",
          "40.6022600",
          "40.8459240",
          "40.7259200",
          "40.7045440",
          "40.6360400",
          "40.6670500",
          "40.6096420",
          "40.6872500",
          "40.6804540",
          "40.5869500",
          "40.6771100",
          "40.7508900",
          "40.6806400",
          "40.6193050",
          "40.6046640",
          "40.6867600",
          "40.6680220",
          "40.6649600",
          "40.6804470",
          "40.7892530",
          "40.6744540",
          "40.6707000",
          "40.6666950",
          "40.7243080",
          "40.7878840",
          "40.5438700",
          "40.6649600",
          "40.6711960",
          "40.6555820",
          "40.6674300",
          "40.6657900",
          "40.6701400",
          "40.6737670",
          "40.9040300",
          "40.6822100",
          "40.6810200",
          "40.6609700",
          "40.6818500",
          "40.5739700",
          "40.6840100",
          "40.7816700",
          "40.6833460",
          "40.7598700",
          "40.7432750",
          "40.6051670",
          "40.5969100",
          "40.6503370",
          "40.6765670",
          "40.6664050",
          "40.6731200",
          "40.7466500",
          "40.6851700",
          "40.6753120",
          "40.7217600",
          "40.6663060",
          "40.6670000",
          "40.7595800",
          "40.6657330",
          "40.6518630",
          "40.6801150",
          "40.6813960",
          "40.6760940",
          "40.7582050",
          "40.6030700",
          "40.6513600",
          "40.5607450",
          "40.6714480",
          "40.6847420",
          "40.6816860",
          "40.7693180",
          "40.6156500",
          "40.5928460",
          "40.7259750",
          "40.6950340",
          "40.6141930",
          "40.6915780",
          "40.6084330",
          "40.6052170",
          "40.7448920",
          "40.7018240",
          "40.7687900",
          "40.6741070",
          "40.7125850",
          "40.5469700",
          "40.6771550",
          "40.6710620",
          "40.7428930",
          "40.6912500",
          "40.7343000",
          "40.6829380",
          "40.6931700",
          "40.6446500",
          "40.7209320",
          "40.7583730",
          "40.6885700",
          "40.6169360",
          "40.6833760",
          "40.6957700",
          "40.6661800",
          "40.6791100",
          "40.6044200",
          "40.7715760",
          "40.6245300",
          "40.6809730",
          "40.6078000",
          "40.6796530",
          "40.5709400",
          "40.6817780",
          "40.7108270",
          "40.5716970",
          "40.6667560",
          "40.9016700",
          "40.6046100",
          "40.6839900",
          "40.6883900",
          "40.6806870",
          "40.6127360",
          "40.7397080",
          "40.5183140",
          "40.6160800",
          "40.6379500",
          "40.5120280",
          "40.6152600",
          "40.6672360",
          "40.6083760",
          "40.6647000",
          "40.5839200",
          "40.6643330",
          "40.6324350",
          "40.7031600",
          "40.5607760",
          "40.6035200",
          "40.6761550",
          "40.6266000",
          "40.6569440",
          "40.6649600",
          "40.8078900",
          "40.7663960",
          "40.6249120",
          "40.6076550",
          "40.7837220",
          "40.6649600",
          "40.6762400",
          "40.6958920",
          "40.8057800",
          "40.6038860",
          "40.6652570",
          "40.6792870",
          "40.6775200",
          "40.6810460",
          "40.8825400",
          "40.5607640",
          "40.6721300",
          "40.7071230",
          "40.5985530",
          "40.7199100",
          "40.6783640",
          "40.6804600",
          "40.6625200",
          "40.5950000",
          "40.8749920",
          "40.6111030",
          "40.7177850",
          "40.7299200",
          "40.7894970",
          "40.6625200",
          "40.6653480",
          "40.6597100",
          "40.6865040",
          "40.6885700",
          "40.6995960",
          "40.6127360",
          "40.6663480",
          "40.7448920",
          "40.6664500",
          "40.6670760",
          "40.7215900",
          "40.7138060",
          "40.7876660",
          "40.6133400",
          "40.6661200",
          "40.7832260",
          "40.7786140",
          "40.5842800",
          "40.7838670",
          "40.8565980",
          "40.7446440",
          "40.6664050",
          "40.7217600",
          "40.6513600",
          "40.6797180",
          "40.6864500",
          "40.6844000",
          "40.6728550",
          "40.6348230",
          "40.7674700",
          "40.5837250",
          "40.6121830",
          "40.6796880",
          "40.5850560",
          "40.7028580",
          "40.5955300",
          "40.6651880",
          "40.6718250",
          "40.7206600",
          "40.7693140",
          "40.5560000",
          "40.6932260",
          "40.6170430",
          "40.5890200",
          "40.5795170",
          "40.6151600",
          "40.6018640",
          "40.6995960",
          "40.7010230",
          "40.7956120",
          "40.7162300",
          "40.6077540",
          "40.5428120",
          "40.6675220",
          "40.6844560",
          "40.6178970",
          "40.7774280",
          "40.6167830",
          "40.7498900",
          "40.6663930",
          "40.6572500",
          "40.6656340",
          "40.7109000",
          "40.6820870",
          "40.6661450",
          "40.6982540",
          "40.7030500",
          "40.5372620",
          "40.6551600",
          "40.6089000",
          "40.6513600",
          "40.5555400",
          "40.6668400",
          "40.6905000",
          "40.6923450",
          "40.6662940",
          "40.6749340",
          "40.6229000",
          "40.5889240",
          "40.6811100",
          "40.6914100",
          "40.6732520",
          "40.7615850",
          "40.7821500",
          "40.5948220",
          "40.7636000",
          "40.6597100",
          "40.7074970",
          "40.6100770",
          "40.6920660",
          "40.7144000",
          "40.6979700",
          "40.7591630",
          "40.7029080",
          "40.7467230",
          "40.7816620",
          "40.7502480",
          "40.6652570",
          "40.6663060",
          "40.6663860",
          "40.6663060",
          "40.7047650",
          "40.7582050",
          "40.6832200",
          "40.7887600",
          "40.5899730",
          "40.6856960",
          "40.6722150",
          "40.5921330",
          "40.6667500",
          "40.6071850",
          "40.7834200",
          "40.6687300",
          "40.6183400",
          "40.6256600",
          "40.6663930",
          "40.6859400",
          "40.7663570",
          "40.6860920",
          "40.6675220",
          "40.6836300",
          "40.7103600",
          "40.6995770",
          "40.6192740",
          "40.5353550",
          "40.6651760",
          "40.7121100",
          "40.7022000",
          "40.7734800",
          "40.6670900",
          "40.7068140",
          "40.7116280",
          "40.6581570",
          "40.5931240",
          "40.6402550",
          "40.7200900",
          "40.6675220",
          "40.6793480",
          "40.7121160",
          "40.6850970",
          "40.7138980",
          "40.6916500",
          "40.7153430",
          "40.5890200",
          "40.6273700",
          "40.7630460",
          "40.5816040",
          "40.7063140",
          "40.6202300",
          "40.7362600",
          "40.6816750",
          "40.6837200",
          "40.6570600",
          "40.6763300",
          "40.6785770",
          "40.6670500",
          "40.6915100",
          "40.6799130",
          "40.5636630",
          "40.5639150",
          "40.6820450",
          "40.7594000",
          "40.5635030",
          "40.6440000",
          "40.9084780",
          "40.5912930",
          "40.6806530",
          "40.6779800",
          "40.6024200",
          "40.6042060",
          "40.6665880",
          "40.6654970",
          "40.6784170",
          "40.6769900",
          "40.5848900",
          "40.5857100",
          "40.7109530",
          "40.7786140",
          "40.8198200",
          "40.6680400",
          "40.7650200",
          "40.7832150",
          "40.5965420",
          "40.6512340",
          "40.7059820",
          "40.6889530",
          "40.6591720",
          "40.6648400",
          "40.6647450",
          "40.6774980",
          "40.6848400",
          "40.5950970",
          "40.7151450",
          "40.6638500",
          "40.6174130",
          "40.6068420",
          "40.7264440",
          "40.5888820",
          "40.5842800",
          "40.6652570",
          "40.6927700",
          "40.7893830",
          "40.7459030",
          "40.6797000",
          "40.8213900",
          "40.7168430",
          "40.6425400",
          "40.7816800",
          "40.6662330",
          "40.6804540",
          "40.7055700",
          "40.6152150",
          "40.6722600",
          "40.6841900",
          "40.6782500",
          "40.6886670",
          "40.6857760",
          "40.5837330",
          "40.7636000",
          "40.6959570",
          "40.6055680",
          "40.7653540",
          "40.7448920",
          "40.7365200",
          "40.6023500",
          "40.6816300",
          "40.6718250",
          "40.6552600",
          "40.6906970",
          "40.6897240",
          "40.6719320",
          "40.6664500",
          "40.6793480",
          "40.6800160",
          "40.6561600",
          "40.6673130",
          "40.6797180",
          "40.6932640",
          "40.7622900",
          "40.6918500",
          "40.6649600",
          "40.7138800",
          "40.6869960",
          "40.8123300",
          "40.6654780",
          "40.7277300",
          "40.6361120",
          "40.7531600",
          "40.6076850",
          "40.6568600",
          "40.6716040",
          "40.7801500",
          "40.6042060",
          "40.7453100",
          "40.7504920",
          "40.6726700",
          "40.6934000",
          "40.6113050",
          "40.5865300",
          "40.6837770",
          "40.6819460",
          "40.6661200",
          "40.7048380",
          "40.7127720",
          "40.6880040",
          "40.7280240",
          "40.6830640",
          "40.6664050",
          "40.7092400",
          "40.6790100",
          "40.6067620",
          "40.6009000",
          "40.6755140",
          "40.6041070",
          "40.6820370",
          "40.6927260",
          "40.6524770",
          "40.6692850",
          "40.6425400",
          "40.6961200",
          "40.6664050",
          "40.6654900",
          "40.6659050",
          "40.6817300",
          "40.6102300",
          "40.6574940",
          "40.6513980",
          "40.6918680",
          "40.6655200",
          "40.7832150",
          "40.6063300",
          "40.7241600",
          "40.6664050",
          "40.6617770",
          "40.6655040",
          "40.6308200",
          "40.6672360",
          "40.6780300",
          "40.6901900",
          "40.6797370",
          "40.6702080",
          "40.6595270",
          "40.7377850",
          "40.6667000",
          "40.6672360",
          "40.6768340",
          "40.5110700",
          "40.5639200",
          "40.6729770",
          "40.7897830",
          "40.6769070",
          "40.6703260",
          "40.6741200",
          "40.7314000",
          "40.6707230",
          "40.6599900",
          "40.5864600",
          "40.6994170",
          "40.8656900",
          "40.6663930",
          "40.6654780",
          "40.5444220",
          "40.5902020",
          "40.5768850",
          "40.5966200",
          "40.6708030",
          "40.5726000",
          "40.6947100",
          "40.6673500",
          "40.6063840",
          "40.7453840",
          "40.6745200",
          "40.7485350",
          "40.7663960",
          "40.7453840",
          "40.7171000",
          "40.5495800",
          "40.6972160",
          "40.6754600",
          "40.6744700",
          "40.6909140",
          "40.6048600",
          "40.6267130",
          "40.6790730",
          "40.6857220",
          "40.7858700",
          "40.7470900",
          "40.7261350",
          "40.5354580",
          "40.7448920",
          "40.6598170",
          "40.7434270",
          "40.5928150",
          "40.7430080",
          "40.5873100",
          "40.6727700",
          "40.7610050",
          "40.6912400",
          "40.6929360",
          "40.5527900",
          "40.6253780",
          "40.7339550",
          "40.6797370",
          "40.6593900",
          "40.7386630",
          "40.6775300",
          "40.6766850",
          "40.6907800",
          "40.7885000",
          "40.6986730",
          "40.7227940",
          "40.6660500",
          "40.7007030",
          "40.7909700",
          "40.7890170",
          "40.6712530",
          "40.7237500",
          "40.6672360",
          "40.6837580",
          "40.7079000",
          "40.7376060",
          "40.6255530",
          "40.6304300",
          "40.6561600",
          "40.6596500",
          "40.6237530",
          "40.6654200",
          "40.7464100",
          "40.6851120",
          "40.6653480",
          "40.5584600",
          "40.7731000",
          "40.7130240",
          "40.7933580",
          "40.5305670",
          "40.7549000",
          "40.6763600",
          "40.6569400",
          "40.6802200",
          "40.6781400",
          "40.6009000",
          "40.7246930",
          "40.6771660",
          "40.6713330",
          "40.6936600",
          "40.6677740",
          "40.7343980",
          "40.6311570",
          "40.6682660",
          "40.6736260",
          "40.6696550",
          "40.6657330",
          "40.6656340",
          "40.6778640",
          "40.5579870",
          "40.6695700",
          "40.6697240",
          "40.7354350",
          "40.6756860",
          "40.6100770",
          "40.6663480",
          "40.6770860",
          "40.7887760",
          "40.6756630",
          "40.6670840",
          "40.6924860",
          "40.6085660",
          "40.6655350",
          "40.7832200",
          "40.5317200",
          "40.6656300",
          "40.7050670",
          "40.7015880",
          "40.6163330",
          "40.6654550",
          "40.7638440",
          "40.6440400",
          "40.6591720",
          "40.6051100",
          "40.6668620",
          "40.5850560",
          "40.7864230",
          "40.6779800",
          "40.8162730",
          "40.7602540",
          "40.6705800",
          "40.5610770",
          "40.6833700",
          "40.7609940",
          "40.5900000",
          "40.6508200",
          "40.5798150",
          "40.5847930",
          "40.6089130",
          "40.5950970",
          "40.7088100",
          "40.7689740",
          "40.7108270",
          "40.6266330",
          "40.6931700",
          "40.5504230",
          "40.6734430",
          "40.7000300",
          "40.6714740",
          "40.7622900",
          "40.6669100",
          "40.5163350",
          "40.7230500",
          "40.5931240",
          "40.6819880",
          "40.7918400",
          "40.6653700",
          "40.5209160",
          "40.8204040",
          "40.7115700",
          "40.6782800",
          "40.6263000",
          "40.6679760",
          "40.6806870",
          "40.7113150",
          "40.7157630",
          "40.6823100",
          "40.7138980",
          "40.6802940",
          "40.6667500",
          "40.7266200",
          "40.6683400",
          "40.7816620",
          "40.7167400",
          "40.5896530",
          "40.6589200",
          "40.6671140",
          "40.7861330",
          "40.6847420",
          "40.6715660",
          "40.6927260",
          "40.9063380",
          "40.6750070",
          "40.6848300",
          "40.6918950",
          "40.6661220",
          "40.7872470",
          "40.6647000",
          "40.7632700",
          "40.5429080",
          "40.6012040",
          "40.6042060",
          "40.6772400",
          "40.6124400",
          "40.6072580",
          "40.6682660",
          "40.5741040",
          "40.7399670",
          "40.6912500",
          "40.5886200",
          "40.6653480",
          "40.6095700",
          "40.6749230",
          "40.7423000",
          "40.5854000",
          "40.6249900",
          "40.5978130",
          "40.7615850",
          "40.6790120",
          "40.6723140",
          "40.7615850",
          "40.6984900",
          "40.6664500",
          "40.6265300",
          "40.7783500",
          "40.6068100",
          "40.6050570",
          "40.6113050",
          "40.6978700",
          "40.6679730",
          "40.6784900",
          "40.6762400",
          "40.6248130",
          "40.5928150",
          "40.6776500",
          "40.6053050",
          "40.7715760",
          "40.7897830",
          "40.6663930",
          "40.8071200",
          "40.5997600",
          "40.6892970",
          "40.6695140",
          "40.6680400",
          "40.6923700",
          "40.6661100",
          "40.6670800",
          "40.7265000",
          "40.6775970",
          "40.7255670",
          "40.5705640",
          "40.7244950",
          "40.7816770",
          "40.6692200",
          "40.6303830",
          "40.7893680",
          "40.6685070",
          "40.6518630",
          "40.8861270",
          "40.6690520",
          "40.6040950",
          "40.5748500",
          "40.5875400",
          "40.6652570",
          "40.7849160",
          "40.6672360",
          "40.6869280",
          "40.6742670",
          "40.6685070",
          "40.7832150",
          "40.5966200",
          "40.7059170",
          "40.5774800",
          "40.5777360",
          "40.6654600",
          "40.6226430",
          "40.6631360",
          "40.6813600",
          "40.6847420",
          "40.6855550",
          "40.7201840",
          "40.7245520",
          "40.6083760",
          "40.6859400",
          "40.6648750",
          "40.6854300",
          "40.5428100",
          "40.6663060",
          "40.6846470",
          "40.6746830",
          "40.6966480",
          "40.7432750",
          "40.7507600",
          "40.7864230",
          "40.8793830",
          "40.6304300",
          "40.5840640",
          "40.7874900",
          "40.7029270",
          "40.6652570",
          "40.6797370",
          "40.6663320",
          "40.5885620",
          "40.5926740",
          "40.7326130",
          "40.6727900",
          "40.6670000",
          "40.6735730",
          "40.6674000",
          "40.6719320",
          "40.7715760",
          "40.7116280",
          "40.6082530",
          "40.6751860",
          "40.6891980",
          "40.7241600",
          "40.7851560",
          "40.8205030",
          "40.6692900",
          "40.6620500",
          "40.6940100",
          "40.6616440",
          "40.6254200",
          "40.7816700",
          "40.6249580",
          "40.6706900",
          "40.6675760",
          "40.5949820",
          "40.5465300",
          "40.6737600",
          "40.6723820",
          "40.7351500",
          "40.6368180",
          "40.6660350",
          "40.7869400",
          "40.6656300",
          "40.8093260",
          "40.7932170",
          "40.6820370",
          "40.6735880",
          "40.7657050",
          "40.6574360",
          "40.7116280",
          "40.6945500",
          "40.5415000",
          "40.6823900",
          "40.5134700",
          "40.8841500",
          "40.5985530",
          "40.7431140",
          "40.5972700",
          "40.6800160",
          "40.6824150",
          "40.7444650",
          "40.6804900",
          "40.6947100",
          "40.7852440",
          "40.6804540",
          "40.7266200",
          "40.6799850",
          "40.5811840",
          "40.6656840",
          "40.6661200",
          "40.6662330",
          "40.7374570",
          "40.6707000",
          "40.6700700",
          "40.6805420",
          "40.7023300",
          "40.6652570",
          "40.7503660",
          "40.5888520",
          "40.7556880",
          "40.7619930",
          "40.6659930",
          "40.7283000",
          "40.6754040",
          "40.6632230",
          "40.5947040",
          "40.6665730",
          "40.7476800",
          "40.6543850",
          "40.7150150",
          "40.6647450",
          "40.5419540",
          "40.6742670",
          "40.7757400",
          "40.6035420",
          "40.7047100",
          "40.6842770",
          "40.7784080",
          "40.6367870",
          "40.6724240",
          "40.6088520",
          "40.6668930",
          "40.6673500",
          "40.7576600",
          "40.7424050",
          "40.7832260",
          "40.5735550",
          "40.7341300",
          "40.5014650",
          "40.6945760",
          "40.6731220",
          "40.6708680",
          "40.5810200",
          "40.6105160",
          "40.6675800",
          "40.7814060",
          "40.7894970",
          "40.6661300",
          "40.6823100",
          "40.7325550",
          "40.7137450",
          "40.6889840",
          "40.6831900",
          "40.7804370",
          "40.5850560",
          "40.6348150",
          "40.5896380",
          "40.6599500",
          "40.7065200",
          "40.6518630",
          "40.6530300",
          "40.6107520",
          "40.6114900",
          "40.7356700",
          "40.5931630",
          "40.6664050",
          "40.7560960",
          "40.7633200",
          "40.6114040",
          "40.6540200",
          "40.5847930",
          "40.6068880",
          "40.7841700",
          "40.7816800",
          "40.6827350",
          "40.6665460",
          "40.6677900",
          "40.6076850",
          "40.6914100",
          "40.5786820",
          "40.6762400",
          "40.5720100",
          "40.6723500",
          "40.6655580",
          "40.6654900",
          "40.7494700",
          "40.6796760",
          "40.7756650",
          "40.5857100",
          "40.7631300",
          "40.7210040",
          "40.7250700",
          "40.7879370",
          "40.6673430",
          "40.7829630",
          "40.6513600",
          "40.6008950",
          "40.6734280",
          "40.6718640",
          "40.6961200",
          "40.7024960",
          "40.6358300",
          "40.6712900",
          "40.8219000",
          "40.5610770",
          "40.6808100",
          "40.7890850",
          "40.7629050",
          "40.6047670",
          "40.7368300",
          "40.7056800",
          "40.6231800",
          "40.6975560",
          "40.6803050",
          "40.6769000",
          "40.6703260",
          "40.6923180",
          "40.7203750",
          "40.6925160",
          "40.6608470",
          "40.7841900",
          "40.6059340",
          "40.6848400",
          "40.6856100",
          "40.7120860",
          "40.6044200",
          "40.6919480",
          "40.7154540",
          "40.6440400",
          "40.6683500",
          "40.7108200",
          "40.6007770",
          "40.6663860",
          "40.6832920",
          "40.6611020",
          "40.7153430",
          "40.6951560",
          "40.6779370",
          "40.6723820",
          "40.6752850",
          "40.6837300",
          "40.6797700",
          "40.7860000",
          "40.7239500",
          "40.6794800",
          "40.6876900",
          "40.6596500",
          "40.7448920",
          "40.6305050",
          "40.6561600",
          "40.7262600",
          "40.7317770",
          "40.7897830",
          "40.6881180",
          "40.7703500",
          "40.6947100",
          "40.5488550",
          "40.7122570",
          "40.6346440",
          "40.6932260",
          "40.6093330",
          "40.6125070",
          "40.7644730",
          "40.5564270",
          "40.7858500",
          "40.6091500",
          "40.7655300",
          "40.6918950",
          "40.6060140",
          "40.6660700",
          "40.6026570",
          "40.6537970",
          "40.6735730",
          "40.5602950",
          "40.7166750",
          "40.6596500",
          "40.8181420",
          "40.7361450",
          "40.7633440",
          "40.6057600",
          "40.7816900",
          "40.7161450",
          "40.7210600",
          "40.6650300",
          "40.6663060",
          "40.6979030",
          "40.6859800",
          "40.6427000",
          "40.6925740",
          "40.6962170",
          "40.6077540",
          "40.6072580",
          "40.6659280",
          "40.6896300",
          "40.6715660",
          "0E-7",
          "40.6037300",
          "40.6823900",
          "40.8882870",
          "40.5615960",
          "0E-7",
          "40.6916660",
          "40.7258760",
          "40.6682660",
          "40.6752850",
          "40.7446440",
          "40.6722000",
          "40.6668550",
          "40.5867460",
          "40.7763630",
          "40.7869260",
          "40.6398160",
          "40.6931700",
          "40.6805900",
          "40.6816100",
          "40.6293680",
          "40.5730600",
          "40.6636430",
          "40.6189730",
          "40.6205500",
          "40.6656300",
          "40.6688840",
          "40.6997700",
          "40.6667980",
          "40.6702080",
          "40.7591900",
          "40.6674400",
          "40.5600930",
          "40.5935900",
          "40.6937260",
          "40.6666950",
          "40.6072900",
          "40.8807200",
          "40.5836900",
          "40.6048500",
          "40.6892970",
          "40.5833740",
          "40.6518630",
          "40.7832260",
          "40.6663700",
          "40.7114680",
          "40.7757700",
          "40.7661250",
          "40.6979800",
          "40.6687770",
          "40.8198200",
          "40.6923800",
          "40.7539900",
          "40.6117970",
          "40.6055560",
          "40.6800420",
          "40.7110330",
          "40.6649600",
          "40.6792870",
          "40.7812770",
          "40.6739400",
          "40.6924970",
          "40.7020030",
          "40.6656150",
          "40.5603940",
          "40.6304860",
          "40.7882100",
          "40.6776730",
          "40.7816620",
          "40.7675300",
          "40.6662330",
          "40.7576600",
          "40.6794600",
          "40.6723820",
          "40.7160000",
          "40.6835170",
          "40.6002300",
          "40.6680300",
          "40.6134700",
          "40.5775500",
          "40.6724100",
          "40.6596500",
          "40.6841900",
          "40.6006900",
          "40.6735880",
          "40.7006000",
          "40.6118500",
          "40.6721460",
          "40.6831900",
          "40.6736150",
          "40.5673940",
          "40.6011200",
          "40.6838070",
          "40.7816700",
          "40.6705400",
          "40.6042060",
          "40.6718560",
          "40.6664500",
          "40.6709060",
          "40.5989040",
          "40.6694560",
          "40.7014430",
          "40.7120060",
          "40.7608000",
          "40.7081260",
          "40.7717480",
          "40.6230800",
          "40.6825830",
          "40.6736760",
          "40.6902160",
          "40.6741330",
          "40.6771930",
          "40.6584170",
          "40.6084330",
          "40.6670800",
          "40.6663200",
          "40.7088200",
          "40.6689070",
          "40.7459030",
          "40.6664500",
          "40.7495040",
          "40.6252060",
          "40.6665950",
          "40.7211380",
          "40.6383130",
          "40.8846470",
          "40.7148200",
          "40.6706350",
          "40.6923800",
          "40.6764950",
          "40.6720300",
          "40.6868820",
          "40.6642950",
          "40.7126100",
          "40.6821600",
          "40.6182500",
          "40.5890120",
          "40.7492200",
          "40.6654470",
          "40.5973320",
          "40.6705860",
          "40.7138800",
          "40.6654900",
          "40.6912420",
          "40.6972350",
          "40.6797700",
          "40.6030700",
          "40.7265000",
          "40.5438700",
          "40.6597060",
          "40.8200950",
          "40.7504800",
          "40.6637700",
          "40.7116280",
          "40.6664300",
          "40.7011870",
          "40.7839360",
          "40.7612040",
          "40.6046180",
          "40.6897350",
          "40.5400960",
          "40.6995960",
          "40.6730650",
          "40.6651270",
          "40.6801640",
          "40.6982080",
          "40.6142700",
          "40.6782880",
          "40.6653500",
          "40.7145800",
          "40.5604740",
          "40.6152600",
          "40.6777200",
          "40.7858700",
          "40.7025640",
          "40.6776120",
          "40.6903570",
          "40.9096260",
          "40.7357800",
          "40.6652570",
          "40.5846000",
          "40.6021040",
          "40.5837330",
          "40.6071850",
          "40.6050150",
          "40.7118600",
          "40.7112270",
          "40.6749530",
          "40.6259800",
          "40.6837770",
          "40.5928150",
          "40.6127360",
          "40.6660700",
          "40.6068420",
          "40.6749880",
          "40.6948700",
          "40.6324350",
          "40.6545330",
          "40.7611430",
          "40.6071850",
          "40.6737670",
          "40.5825840",
          "40.6907800",
          "40.6668360",
          "40.6115720",
          "40.8799480",
          "40.7582550",
          "40.6282230",
          "40.6658400",
          "40.5806540",
          "40.7112270",
          "40.5942840",
          "40.6663480",
          "40.5954930",
          "40.6787000",
          "40.6830440",
          "40.6639440",
          "40.6667900",
          "40.7604900",
          "40.6693340",
          "40.6790300",
          "40.6662330",
          "40.7433170",
          "40.5637740",
          "40.7011870",
          "40.6766850",
          "40.5526900",
          "40.6649200",
          "40.7324400",
          "40.6249580",
          "40.6666950",
          "40.6670380",
          "40.7782020",
          "40.6847420",
          "40.6918830",
          "40.6749340",
          "40.6191000",
          "40.7589200",
          "40.6617100",
          "40.7444650",
          "40.6652570",
          "40.6891900",
          "40.6647220",
          "40.7466000",
          "40.6624340",
          "40.7272220",
          "40.5827560",
          "40.6664050",
          "40.7572700",
          "40.6649200",
          "40.6775670",
          "40.7577250",
          "40.7019650",
          "40.6088520",
          "40.6816100",
          "40.6733440",
          "40.6498760",
          "40.6065700",
          "40.7864230",
          "40.6782760",
          "40.6101570",
          "40.6261500",
          "40.6052100",
          "40.6679600",
          "40.7279430",
          "40.6259400",
          "40.6566300",
          "40.6740880",
          "40.5781300",
          "40.7462540",
          "40.7269200",
          "40.7786250",
          "40.5966200",
          "40.6998020",
          "40.6028440",
          "40.5487800",
          "40.6005170",
          "40.6293680",
          "40.6050800",
          "40.6715300",
          "40.6753230",
          "40.7122760",
          "40.6722700",
          "40.5652350",
          "40.7627100",
          "40.7892720",
          "40.6108440",
          "40.6783830",
          "40.7879700",
          "40.6919940",
          "40.5873500",
          "40.7023930",
          "40.6563600",
          "40.6670800",
          "40.6830020",
          "40.6041600",
          "40.6663320"
         ],
         "lon": [
          "-73.7901840",
          "-73.7806300",
          "-73.7653600",
          "-73.7650600",
          "-73.7569300",
          "-73.7245200",
          "-74.0161300",
          "-73.7671360",
          "-73.8654700",
          "-73.8725100",
          "-73.7857400",
          "-73.7581940",
          "-73.8775900",
          "-73.7571100",
          "-74.0319900",
          "-73.7635350",
          "-73.7806300",
          "-73.8970800",
          "-73.8222500",
          "-74.1572340",
          "-73.8408660",
          "-74.0030750",
          "-73.7860100",
          "-73.7243900",
          "-73.7298800",
          "-73.7402900",
          "-73.7741100",
          "-73.8973800",
          "-73.8719800",
          "-73.8761100",
          "-74.1641600",
          "-73.7812900",
          "-73.7511300",
          "-73.8967200",
          "-74.1610100",
          "-74.0218900",
          "-73.7844900",
          "-73.7371100",
          "-73.8222600",
          "-73.8712800",
          "-73.8518200",
          "-73.8026050",
          "-73.7736600",
          "-73.7671360",
          "-73.7247400",
          "-73.8410300",
          "-74.1444500",
          "-73.8222600",
          "-73.8429600",
          "-73.8389900",
          "-73.7667600",
          "-73.8738860",
          "-73.8706400",
          "-73.7638100",
          "-73.9042200",
          "-73.7725700",
          "-73.7586500",
          "-73.7501100",
          "-73.8545000",
          "-74.1699200",
          "-73.8536500",
          "-73.8307600",
          "-73.7347700",
          "-73.7711600",
          "-73.7757200",
          "-73.9930340",
          "-74.1913400",
          "-73.8684900",
          "-73.8576300",
          "-73.8026350",
          "-73.8786540",
          "-73.7692000",
          "-73.8805200",
          "-73.8433100",
          "-73.7600100",
          "-73.7917100",
          "-73.7939450",
          "-73.7689400",
          "-73.7555850",
          "-73.8653600",
          "-73.7532400",
          "-73.8800500",
          "-73.8644500",
          "-73.7774050",
          "-74.0166700",
          "-73.8697100",
          "-73.9110600",
          "-73.7894300",
          "-73.8608100",
          "-73.8715740",
          "-73.8666000",
          "-74.1570900",
          "-73.7961600",
          "-73.7575000",
          "-73.7440100",
          "-73.8972000",
          "-73.7409900",
          "-74.1554400",
          "-74.0083800",
          "-73.7702200",
          "-73.7363000",
          "-73.7747000",
          "-73.8484000",
          "-73.8808400",
          "-74.1530500",
          "-73.8877300",
          "-73.7311250",
          "-73.7791900",
          "-73.8508700",
          "-73.7552000",
          "-73.8671700",
          "-73.7448300",
          "-73.8782200",
          "-73.7437800",
          "-73.7488860",
          "-73.8757000",
          "-74.0237200",
          "-73.7604300",
          "-73.7474600",
          "-73.7405900",
          "-73.8806150",
          "-73.8198400",
          "-73.8761600",
          "-74.1406860",
          "-73.8676800",
          "-73.8193200",
          "-73.7772400",
          "-74.1221800",
          "-73.7815600",
          "-73.7706600",
          "-73.8644600",
          "-73.8365300",
          "-73.9061200",
          "-73.9982600",
          "-73.8900400",
          "-73.8538600",
          "-73.8445900",
          "-74.0117200",
          "-73.7753000",
          "-74.2396100",
          "-74.1528700",
          "-74.1447900",
          "-74.2497600",
          "-73.9048400",
          "-73.7700040",
          "-74.0090900",
          "-73.8714900",
          "-73.8309300",
          "-73.7911900",
          "-73.8881800",
          "-73.7323200",
          "-74.1627300",
          "-74.0115200",
          "-73.7556600",
          "-74.1611900",
          "-73.7687800",
          "-73.8222600",
          "-73.8528440",
          "-73.7809200",
          "-74.1467060",
          "-74.0170300",
          "-73.8086400",
          "-73.8222600",
          "-73.8661040",
          "-73.7469700",
          "-73.8773040",
          "-74.0061800",
          "-73.7395550",
          "-73.8691400",
          "-73.8862800",
          "-73.7759900",
          "-73.8269650",
          "-73.9202900",
          "-73.8012850",
          "-73.7391000",
          "-73.9973450",
          "-73.7622000",
          "-73.7794900",
          "-73.8430900",
          "-73.8407100",
          "-73.7953640",
          "-73.8184600",
          "-73.9860800",
          "-73.7624900",
          "-73.7424300",
          "-73.8841300",
          "-73.8407100",
          "-73.7298600",
          "-73.7636400",
          "-73.8749540",
          "-73.8757000",
          "-73.7632000",
          "-74.0117200",
          "-73.7609300",
          "-73.7702200",
          "-73.7576400",
          "-73.7826600",
          "-73.7310200",
          "-73.7492700",
          "-73.8343300",
          "-74.0110900",
          "-73.8222500",
          "-73.8431300",
          "-73.8388700",
          "-73.9252900",
          "-73.8549700",
          "-73.7896700",
          "-73.7704100",
          "-73.8026350",
          "-73.7600100",
          "-73.8697100",
          "-73.7734760",
          "-73.7611850",
          "-73.7696800",
          "-73.8713100",
          "-74.1602900",
          "-73.7596100",
          "-73.8937200",
          "-74.1803300",
          "-73.7771100",
          "-73.9288940",
          "-73.8636250",
          "-73.9988600",
          "-73.8693900",
          "-73.7745060",
          "-73.7472000",
          "-73.7393950",
          "-74.1947500",
          "-73.7340400",
          "-73.8973300",
          "-74.1386700",
          "-74.0004350",
          "-74.0239640",
          "-74.0023200",
          "-73.7632000",
          "-73.7343800",
          "-73.8021700",
          "-73.7688750",
          "-74.1320500",
          "-74.1749200",
          "-73.7806300",
          "-73.8596600",
          "-74.0293100",
          "-73.7846500",
          "-73.8971600",
          "-73.7743600",
          "-73.7644650",
          "-73.8394000",
          "-73.7581560",
          "-73.7400300",
          "-73.8536700",
          "-73.7778300",
          "-73.8693900",
          "-73.8672560",
          "-74.1505100",
          "-73.8437300",
          "-74.0346500",
          "-73.8697100",
          "-74.1756200",
          "-73.7894100",
          "-73.8709600",
          "-73.8817900",
          "-73.7989900",
          "-73.8018600",
          "-74.1494300",
          "-74.1676250",
          "-73.8809700",
          "-73.7266800",
          "-73.7389900",
          "-73.7608600",
          "-73.8366500",
          "-73.7983400",
          "-73.7709800",
          "-73.7636400",
          "-73.7329250",
          "-74.0109100",
          "-73.7654000",
          "-73.7380300",
          "-73.7537840",
          "-73.7737900",
          "-73.7609600",
          "-73.7580200",
          "-73.8336640",
          "-73.7542800",
          "-73.7395550",
          "-73.7917100",
          "-73.8017800",
          "-73.7917100",
          "-73.7538300",
          "-73.7774050",
          "-73.8737260",
          "-73.8520660",
          "-73.8044400",
          "-73.8716100",
          "-73.7580300",
          "-73.7889560",
          "-73.7799450",
          "-74.1623900",
          "-73.8139200",
          "-73.8558500",
          "-74.0301800",
          "-74.1403600",
          "-73.7517700",
          "-73.8468600",
          "-73.7811000",
          "-73.8748400",
          "-73.7806300",
          "-73.8817300",
          "-73.7299900",
          "-73.8686450",
          "-74.0357200",
          "-74.1559400",
          "-73.7804900",
          "-73.7692700",
          "-73.8774800",
          "-73.7757340",
          "-73.7637600",
          "-73.7509900",
          "-73.7293850",
          "-73.7311500",
          "-73.7914700",
          "-74.1660300",
          "-73.7395550",
          "-73.7806300",
          "-73.7304800",
          "-73.7311800",
          "-73.7607350",
          "-73.7488000",
          "-73.7792050",
          "-73.7484500",
          "-74.1386700",
          "-73.8996900",
          "-73.7682650",
          "-73.8307700",
          "-73.8809100",
          "-74.1653500",
          "-73.7422100",
          "-73.8791350",
          "-73.7846800",
          "-73.8393300",
          "-73.7411000",
          "-73.8679350",
          "-73.7741100",
          "-73.7299000",
          "-73.7710600",
          "-74.1325150",
          "-74.1163700",
          "-73.8832600",
          "-73.7729300",
          "-74.1326500",
          "-73.8758400",
          "-73.8965800",
          "-73.7888640",
          "-73.7528600",
          "-73.8721160",
          "-73.9945900",
          "-73.9914600",
          "-73.8716000",
          "-73.7557300",
          "-73.7292250",
          "-73.7430800",
          "-73.9288500",
          "-73.9127600",
          "-73.7487500",
          "-73.8388700",
          "-73.8128600",
          "-73.8605500",
          "-73.7803960",
          "-73.8485900",
          "-74.0024700",
          "-73.8699100",
          "-73.7395600",
          "-73.7598500",
          "-73.8398740",
          "-73.8222900",
          "-73.7586500",
          "-73.8714900",
          "-73.8725700",
          "-74.0009200",
          "-73.7493500",
          "-73.7685800",
          "-74.1322200",
          "-74.0155000",
          "-73.7657900",
          "-74.1627000",
          "-73.9252900",
          "-73.7353440",
          "-73.8651800",
          "-73.7823260",
          "-73.7670300",
          "-73.8643900",
          "-73.8186340",
          "-73.7419000",
          "-73.8765200",
          "-73.8477700",
          "-73.7610000",
          "-73.8673000",
          "-73.7718050",
          "-74.0302000",
          "-73.8755700",
          "-73.8703000",
          "-73.8761100",
          "-73.8754800",
          "-73.7609500",
          "-73.9196900",
          "-73.7709800",
          "-73.7427440",
          "-74.0311800",
          "-73.7820100",
          "-73.7702200",
          "-73.9283400",
          "-74.1896060",
          "-73.7655700",
          "-73.7745060",
          "-73.7516000",
          "-73.7547300",
          "-73.7348560",
          "-73.8516500",
          "-73.7576400",
          "-73.7503360",
          "-73.8774300",
          "-73.7673600",
          "-73.7392600",
          "-73.7734760",
          "-73.8532400",
          "-73.7571100",
          "-73.7639400",
          "-73.8222600",
          "-73.7540400",
          "-73.8750900",
          "-73.8618000",
          "-73.7487950",
          "-73.7327300",
          "-73.7403000",
          "-73.7601900",
          "-74.1389200",
          "-73.8393000",
          "-73.8690700",
          "-73.8424100",
          "-73.9914600",
          "-73.7705500",
          "-73.7512050",
          "-73.7773800",
          "-73.7560200",
          "-74.1412100",
          "-73.9112240",
          "-73.7697500",
          "-73.7382700",
          "-73.8222500",
          "-73.7598500",
          "-73.7338940",
          "-73.7569000",
          "-73.7476400",
          "-73.7417300",
          "-73.8026350",
          "-73.7569350",
          "-73.8810000",
          "-74.1658300",
          "-73.9127040",
          "-73.8681200",
          "-74.0182400",
          "-73.8778800",
          "-73.8555800",
          "-73.8679800",
          "-73.8453200",
          "-73.8765200",
          "-73.7461900",
          "-73.7466100",
          "-73.7523600",
          "-73.8777800",
          "-73.7895500",
          "-74.1465400",
          "-73.7318340",
          "-73.7588800",
          "-73.8638460",
          "-73.7446700",
          "-73.8485900",
          "-74.1705800",
          "-73.7549740",
          "-73.8026350",
          "-73.8506900",
          "-73.7569400",
          "-73.8863600",
          "-73.7700040",
          "-73.8639900",
          "-73.7771000",
          "-73.7616200",
          "-73.8190200",
          "-73.7657700",
          "-73.9226300",
          "-73.7798840",
          "-73.7700040",
          "-73.7607040",
          "-74.2466900",
          "-74.1872400",
          "-73.8373500",
          "-73.8141900",
          "-73.7400700",
          "-73.7924400",
          "-73.8808100",
          "-73.9260940",
          "-73.8751900",
          "-73.7656560",
          "-73.8154400",
          "-73.7348600",
          "-73.8051600",
          "-73.7517700",
          "-73.7487950",
          "-74.1950450",
          "-73.7959440",
          "-74.0032300",
          "-74.0023100",
          "-73.7626200",
          "-74.1666900",
          "-73.7513050",
          "-73.7591250",
          "-74.0012100",
          "-73.7687900",
          "-73.8780440",
          "-73.7737200",
          "-73.7809200",
          "-73.7687900",
          "-73.7407700",
          "-74.1373750",
          "-73.8729550",
          "-73.7338500",
          "-73.8027000",
          "-73.7281900",
          "-73.9944000",
          "-73.8916550",
          "-73.8632900",
          "-73.7730500",
          "-73.8495500",
          "-73.7632500",
          "-73.7631800",
          "-74.1526260",
          "-73.7702200",
          "-73.7304700",
          "-73.7754750",
          "-73.9080800",
          "-73.7799600",
          "-74.1599800",
          "-73.8848400",
          "-73.7782800",
          "-73.7528300",
          "-73.8777700",
          "-74.1914400",
          "-74.1439400",
          "-73.9217200",
          "-73.7616200",
          "-73.7531900",
          "-73.7791200",
          "-73.7308500",
          "-73.8437100",
          "-73.7272800",
          "-73.8191000",
          "-73.7510900",
          "-73.7354700",
          "-73.8152500",
          "-73.7520000",
          "-73.8837600",
          "-73.8186500",
          "-73.7381500",
          "-73.7264900",
          "-73.7700040",
          "-73.8643000",
          "-73.7494800",
          "-73.7407300",
          "-74.1613400",
          "-73.8859300",
          "-73.7673600",
          "-73.7648240",
          "-74.1662450",
          "-73.7459950",
          "-73.7802300",
          "-73.8827200",
          "-73.7298600",
          "-74.1247250",
          "-73.8456600",
          "-73.7349200",
          "-73.8077850",
          "-74.1585160",
          "-73.7454800",
          "-73.8664300",
          "-73.7450100",
          "-73.8837900",
          "-73.8488500",
          "-73.9127040",
          "-73.7541000",
          "-73.8777500",
          "-73.8709500",
          "-73.8521700",
          "-73.7770200",
          "-73.9223000",
          "-74.1469200",
          "-73.8421400",
          "-73.7638400",
          "-73.8614000",
          "-73.7555850",
          "-73.7581560",
          "-73.8725740",
          "-74.1523800",
          "-73.8796900",
          "-73.8609700",
          "-73.7742160",
          "-73.7486300",
          "-74.0073200",
          "-73.7609300",
          "-73.7388700",
          "-73.7913500",
          "-73.7524800",
          "-73.7752400",
          "-73.7624300",
          "-74.1668900",
          "-73.7762900",
          "-73.8476800",
          "-74.1612550",
          "-73.7392100",
          "-73.7619550",
          "-73.7486500",
          "-74.0263060",
          "-73.7772800",
          "-73.7694550",
          "-73.8775250",
          "-73.8398740",
          "-73.9977600",
          "-73.7783700",
          "-73.9288940",
          "-73.8239400",
          "-73.8721160",
          "-73.8147400",
          "-73.7693500",
          "-73.8825800",
          "-74.1698400",
          "-73.8552860",
          "-73.7776300",
          "-73.8142900",
          "-73.8705500",
          "-73.8422300",
          "-74.1603400",
          "-74.1530800",
          "-74.0009200",
          "-73.7587300",
          "-73.7737660",
          "-73.7706600",
          "-73.9014050",
          "-73.7448300",
          "-74.1361000",
          "-73.7610900",
          "-73.7458950",
          "-73.8154800",
          "-73.7571100",
          "-73.8220140",
          "-74.2328300",
          "-73.7375300",
          "-73.7914700",
          "-73.7663400",
          "-73.8235240",
          "-73.7325400",
          "-74.2351150",
          "-73.8148200",
          "-73.7446700",
          "-73.8809000",
          "-73.9006700",
          "-73.7981400",
          "-73.8445900",
          "-73.7394000",
          "-73.7465400",
          "-73.8449500",
          "-73.7488000",
          "-73.7628200",
          "-73.7799450",
          "-73.7573240",
          "-73.7709400",
          "-73.8336640",
          "-73.7423250",
          "-73.8150300",
          "-73.8398200",
          "-73.8346560",
          "-73.8243560",
          "-73.8608100",
          "-73.7903100",
          "-73.8555800",
          "-73.8965000",
          "-73.8837300",
          "-73.7812800",
          "-73.7782200",
          "-73.8517600",
          "-73.8205640",
          "-73.8714900",
          "-73.7588700",
          "-74.1557900",
          "-73.9130300",
          "-73.9914600",
          "-73.7303200",
          "-74.1323100",
          "-74.0026500",
          "-73.8421400",
          "-74.1309500",
          "-73.7609560",
          "-73.8508700",
          "-73.8170200",
          "-73.7298600",
          "-73.8190500",
          "-73.7369400",
          "-73.7812350",
          "-74.1685000",
          "-74.1440300",
          "-74.1670800",
          "-73.7608600",
          "-73.7492800",
          "-73.8036000",
          "-73.7608600",
          "-73.7605000",
          "-73.7576400",
          "-74.1605100",
          "-73.7770400",
          "-74.0031050",
          "-73.9990000",
          "-74.1412100",
          "-73.7430340",
          "-73.7508240",
          "-73.8936900",
          "-73.8661040",
          "-73.8944600",
          "-73.9080800",
          "-73.8705800",
          "-73.9962700",
          "-73.8761600",
          "-73.8141900",
          "-73.7517700",
          "-73.8824900",
          "-73.9033360",
          "-73.8740600",
          "-73.8806100",
          "-73.8605500",
          "-73.7436500",
          "-73.8271200",
          "-73.8103300",
          "-73.7557100",
          "-73.8526600",
          "-73.7512200",
          "-74.1380400",
          "-73.7246900",
          "-73.8387100",
          "-73.7629500",
          "-73.8950040",
          "-73.8488850",
          "-73.7796250",
          "-73.8653600",
          "-73.8153200",
          "-73.8126450",
          "-74.0203550",
          "-74.0028460",
          "-73.8113900",
          "-73.7353440",
          "-73.8421300",
          "-73.7700040",
          "-73.8531400",
          "-73.8706900",
          "-73.7796250",
          "-73.8485900",
          "-74.0023100",
          "-73.7523650",
          "-73.8557740",
          "-73.8492900",
          "-73.7472840",
          "-73.8965000",
          "-73.8691800",
          "-73.8727600",
          "-73.8608100",
          "-73.7837900",
          "-73.7479300",
          "-73.7245200",
          "-74.0090900",
          "-73.8468600",
          "-73.7335050",
          "-73.8662340",
          "-74.1602000",
          "-73.7917100",
          "-73.8687000",
          "-73.8768600",
          "-73.7693000",
          "-73.7757200",
          "-73.7578350",
          "-73.8239400",
          "-73.8254400",
          "-73.8859300",
          "-73.9197100",
          "-73.8244250",
          "-73.7492600",
          "-73.7353440",
          "-73.7616200",
          "-73.8105600",
          "-74.1458400",
          "-73.7990900",
          "-73.9251560",
          "-73.8432700",
          "-73.7939450",
          "-73.7925800",
          "-73.7736360",
          "-73.8516500",
          "-73.8761600",
          "-73.7293850",
          "-73.8978350",
          "-73.8734360",
          "-73.7331160",
          "-73.7549740",
          "-73.8412200",
          "-73.8127300",
          "-73.8424450",
          "-73.7460500",
          "-73.7786400",
          "-73.8541200",
          "-74.1440900",
          "-73.8307600",
          "-74.1457750",
          "-73.8012400",
          "-73.7295100",
          "-73.7974000",
          "-74.1804350",
          "-73.7343100",
          "-73.7857400",
          "-73.7434800",
          "-74.1579400",
          "-73.7592000",
          "-73.7755800",
          "-73.7392100",
          "-73.8553200",
          "-73.8240050",
          "-73.8778800",
          "-73.7335100",
          "-73.7412640",
          "-73.7461850",
          "-73.7293850",
          "-73.7441600",
          "-74.1625400",
          "-73.8766250",
          "-74.2488900",
          "-73.8260700",
          "-73.9973450",
          "-73.7711400",
          "-73.9986800",
          "-73.8774300",
          "-73.8445100",
          "-73.7717900",
          "-73.7747040",
          "-73.7513050",
          "-73.8411800",
          "-73.8761100",
          "-73.7573240",
          "-73.8644560",
          "-73.8250960",
          "-73.8204350",
          "-73.8222500",
          "-73.7610000",
          "-73.7410900",
          "-73.7736600",
          "-73.7637100",
          "-73.8666600",
          "-73.7661300",
          "-73.7395550",
          "-73.7528100",
          "-73.8994200",
          "-73.7521800",
          "-73.7584900",
          "-73.8733700",
          "-73.7471900",
          "-73.8719200",
          "-73.7335100",
          "-74.1590700",
          "-73.7863200",
          "-73.7594600",
          "-73.8445000",
          "-73.7416460",
          "-73.8353900",
          "-74.1453550",
          "-73.7807540",
          "-73.7798600",
          "-74.1733860",
          "-73.7696900",
          "-73.7830200",
          "-73.7767900",
          "-73.7405700",
          "-73.8833540",
          "-74.1533400",
          "-73.8054600",
          "-73.7699400",
          "-73.7798900",
          "-73.7534800",
          "-73.8413240",
          "-74.1216100",
          "-73.7645200",
          "-74.2452300",
          "-73.8541950",
          "-73.7853300",
          "-73.7814250",
          "-73.8328900",
          "-73.9988900",
          "-73.7374040",
          "-73.7781750",
          "-73.7822500",
          "-73.8261500",
          "-73.8449500",
          "-73.9250900",
          "-73.7400700",
          "-73.8685700",
          "-73.8663000",
          "-73.7940200",
          "-73.9288940",
          "-73.8809400",
          "-73.7990200",
          "-73.7329800",
          "-73.7605800",
          "-73.8653600",
          "-73.7386400",
          "-73.9846400",
          "-74.1402500",
          "-73.9247360",
          "-73.9086000",
          "-73.8026350",
          "-73.7465500",
          "-73.7738500",
          "-74.0095200",
          "-73.8396300",
          "-74.1603400",
          "-73.9958900",
          "-73.8467500",
          "-73.8459500",
          "-73.8628300",
          "-73.7880800",
          "-73.8793950",
          "-74.1389200",
          "-73.7266800",
          "-74.0059500",
          "-73.8661040",
          "-74.1469960",
          "-73.8026800",
          "-73.7298500",
          "-73.7523600",
          "-73.7564000",
          "-73.8786300",
          "-73.8453700",
          "-73.9127600",
          "-73.7757600",
          "-73.7511000",
          "-73.7443400",
          "-73.8176800",
          "-73.8723300",
          "-73.8386500",
          "-73.8697100",
          "-74.1767350",
          "-73.7572000",
          "-73.8783400",
          "-73.7461900",
          "-73.7480100",
          "-74.1580050",
          "-73.8380660",
          "-73.8185400",
          "-74.1698400",
          "-73.8849000",
          "-73.7804640",
          "-73.7539750",
          "-74.0076300",
          "-73.7783500",
          "-73.7414800",
          "-74.1492500",
          "-73.8527760",
          "-73.8445360",
          "-73.7815800",
          "-73.8779600",
          "-73.8609000",
          "-73.7322600",
          "-73.8591100",
          "-73.8403000",
          "-73.8458200",
          "-74.0004650",
          "-73.8680500",
          "-73.7502700",
          "-73.7310400",
          "-73.8198400",
          "-73.7306750",
          "-73.7310000",
          "-73.8775250",
          "-73.7381060",
          "-73.7317900",
          "-73.9126000",
          "-73.8017800",
          "-73.8494300",
          "-73.8660500",
          "-73.7484500",
          "-73.7617650",
          "-73.8718800",
          "-73.7857400",
          "-73.8524900",
          "-73.7512700",
          "-73.8782400",
          "-73.8457400",
          "-73.7607960",
          "-73.7574100",
          "-73.8504400",
          "-73.7738340",
          "-73.7702200",
          "-74.1862300",
          "-73.7673600",
          "-73.7238540",
          "-73.7701100",
          "-73.8141900",
          "-73.7832100",
          "-73.8708400",
          "-73.7513050",
          "-74.2001700",
          "-73.7411650",
          "-73.8809050",
          "-73.7340400",
          "-73.9969250",
          "-74.0313900",
          "-73.7470860",
          "-74.1977300",
          "-73.8383560",
          "-74.1498700",
          "-73.7421500",
          "-73.7782200",
          "-74.0139160",
          "-73.7617500",
          "-74.1304550",
          "-73.7393800",
          "-73.7925800",
          "-74.1604600",
          "-73.7550200",
          "-73.7738340",
          "-73.8193200",
          "-73.9265100",
          "-73.7579100",
          "-74.1317900",
          "-73.8414150",
          "-73.7688300",
          "-73.7594500",
          "-73.8186300",
          "-73.7917100",
          "-73.7271000",
          "-73.8748400",
          "-73.8766100",
          "-73.8581850",
          "-73.7436000",
          "-74.1320500",
          "-74.0026500",
          "-73.8379200",
          "-73.8596000",
          "-73.7846600",
          "0E-7",
          "-73.9968000",
          "-73.8766250",
          "-73.8180300",
          "-74.1946200",
          "0E-7",
          "-73.7623900",
          "-73.7600700",
          "-73.8421400",
          "-73.8524900",
          "-73.7704100",
          "-73.7346040",
          "-73.8042500",
          "-73.8171200",
          "-73.7713400",
          "-73.8310300",
          "-74.1799000",
          "-73.7568800",
          "-73.8431550",
          "-73.7722100",
          "-73.8847700",
          "-74.1483150",
          "-73.8739500",
          "-74.0299150",
          "-74.1691900",
          "-73.7392100",
          "-73.8117300",
          "-73.7555850",
          "-73.7609560",
          "-73.8190200",
          "-73.7736500",
          "-73.8648700",
          "-74.1732800",
          "-73.7972600",
          "-73.7548500",
          "-73.7671360",
          "-74.1408600",
          "-73.8265840",
          "-73.9215700",
          "-74.0255900",
          "-73.8740600",
          "-74.1576700",
          "-73.8657700",
          "-73.8431300",
          "-73.7796000",
          "-73.7315000",
          "-73.8480500",
          "-73.7615360",
          "-73.7269700",
          "-73.7787550",
          "-73.8128600",
          "-73.7624360",
          "-73.7761300",
          "-74.0055300",
          "-73.9936900",
          "-73.8773500",
          "-73.7281000",
          "-73.8222600",
          "-73.8691400",
          "-73.8032500",
          "-73.8459800",
          "-73.8795400",
          "-73.7657550",
          "-73.8175700",
          "-74.1200560",
          "-74.1459500",
          "-73.7907000",
          "-73.7627700",
          "-73.8336640",
          "-73.7666700",
          "-73.7610000",
          "-73.7798900",
          "-73.7611700",
          "-73.7857400",
          "-73.7454600",
          "-73.7553200",
          "-73.9956000",
          "-73.8728500",
          "-73.9854600",
          "-74.1272600",
          "-73.8635560",
          "-73.7738340",
          "-73.8703000",
          "-74.0100560",
          "-73.7335100",
          "-73.7610700",
          "-74.0102540",
          "-73.8431800",
          "-73.8663000",
          "-73.7614200",
          "-74.1522900",
          "-74.1635100",
          "-73.7843900",
          "-73.8292160",
          "-73.8208850",
          "-73.9914600",
          "-73.8175500",
          "-73.7576400",
          "-73.8809360",
          "-74.0071200",
          "-73.8628400",
          "-73.7413400",
          "-73.7581100",
          "-73.7657000",
          "-73.7326300",
          "-73.7837140",
          "-74.1759000",
          "-73.7888640",
          "-73.7937600",
          "-73.7427100",
          "-73.8716050",
          "-73.7972800",
          "-73.7676800",
          "-74.1554400",
          "-73.8103300",
          "-73.8503500",
          "-73.7518540",
          "-73.8767800",
          "-73.7670300",
          "-73.7576400",
          "-73.7623600",
          "-74.1495600",
          "-73.8717600",
          "-73.7593300",
          "-74.1627000",
          "-73.8266200",
          "-73.7409500",
          "-73.8428040",
          "-73.7624360",
          "-73.8460850",
          "-73.8184600",
          "-73.8790800",
          "-73.8393800",
          "-73.7384200",
          "-73.8738600",
          "-74.0263700",
          "-73.7882460",
          "-73.7560900",
          "-73.8157100",
          "-74.1638950",
          "-73.7650900",
          "-73.7540400",
          "-73.8195340",
          "-73.8677400",
          "-73.8733140",
          "-73.8782400",
          "-74.0166700",
          "-73.7557100",
          "-74.1444500",
          "-73.7435460",
          "-73.8108600",
          "-73.7588040",
          "-73.7688100",
          "-73.7293850",
          "-73.7298100",
          "-73.7414800",
          "-73.8531700",
          "-73.7553900",
          "-74.0277100",
          "-73.7267400",
          "-74.1690200",
          "-73.7632000",
          "-73.8479300",
          "-73.8448600",
          "-73.8409500",
          "-73.7528840",
          "-74.1566540",
          "-73.7794340",
          "-73.8169500",
          "-73.7310800",
          "-74.1668900",
          "-74.1601700",
          "-73.8496200",
          "-73.8495500",
          "-73.7663700",
          "-73.8732760",
          "-73.7631700",
          "-73.8966000",
          "-73.7465440",
          "-73.7353440",
          "-73.9160300",
          "-74.0027600",
          "-73.9196900",
          "-74.1623900",
          "-74.0292900",
          "-73.7355400",
          "-73.7282600",
          "-73.8020500",
          "-73.8930740",
          "-73.7697500",
          "-73.9080800",
          "-74.0117200",
          "-73.7617500",
          "-74.0155000",
          "-73.8565440",
          "-73.8579100",
          "-73.8881800",
          "-73.8609160",
          "-73.7554900",
          "-74.1623900",
          "-73.7495100",
          "-73.8302200",
          "-73.7272800",
          "-73.7429800",
          "-74.0322000",
          "-73.8233900",
          "-73.7772000",
          "-74.1446800",
          "-73.7555100",
          "-73.8302600",
          "-73.7282600",
          "-73.7962950",
          "-73.7609300",
          "-73.9999540",
          "-73.8843460",
          "-73.8617200",
          "-73.8410500",
          "-73.8583200",
          "-73.7675250",
          "-73.8738100",
          "-73.7784300",
          "-73.7610000",
          "-73.7778240",
          "-74.1558600",
          "-73.7414800",
          "-73.8437100",
          "-74.2018600",
          "-73.7350400",
          "-73.9252550",
          "-74.1457750",
          "-73.7671360",
          "-73.7682000",
          "-73.7775650",
          "-73.8608100",
          "-73.7641200",
          "-73.8018600",
          "-74.1596150",
          "-73.7747000",
          "-73.7679000",
          "-73.7717900",
          "-73.7395550",
          "-73.8686140",
          "-73.7690700",
          "-73.7650300",
          "-73.7491600",
          "-73.7468100",
          "-74.1304100",
          "-73.7453800",
          "-73.7476500",
          "-73.7350400",
          "-73.7318800",
          "-73.7792740",
          "-73.8805000",
          "-74.1533400",
          "-73.7722100",
          "-73.7536200",
          "-73.8443200",
          "-73.8981000",
          "-73.8239400",
          "-73.7623440",
          "-74.0120300",
          "-74.1574100",
          "-73.9976350",
          "-73.7715500",
          "-73.7523700",
          "-74.1414400",
          "-73.8334600",
          "-73.7983700",
          "-74.1628600",
          "-73.7512600",
          "-73.9380500",
          "-73.7758700",
          "-74.0023100",
          "-73.7739640",
          "-73.8200760",
          "-74.1970500",
          "-74.1629640",
          "-73.8847700",
          "-73.9977600",
          "-73.8263900",
          "-73.8633200",
          "-73.7286700",
          "-73.7558400",
          "-74.1814040",
          "-73.7624050",
          "-73.8094200",
          "-73.9917760",
          "-73.8751900",
          "-73.8437960",
          "-73.7611100",
          "-73.8193700",
          "-73.8753000",
          "-73.7295800",
          "-73.8103300",
          "-73.8835140",
          "-73.9975200",
          "-73.8105600"
         ],
         "name": "",
         "radius": 8,
         "subplot": "mapbox",
         "type": "densitymapbox"
        },
        {
         "hovertemplate": "capacity=%{marker.size}<br>name=%{text}<br>latitude=%{lat}<br>longitude=%{lon}<extra></extra>",
         "lat": [
          40.84348984739682,
          40.83142876488179,
          40.848059524296055,
          40.85568655396233,
          40.81675769880821,
          40.8498496292291,
          40.880828056610234,
          40.840707344128425,
          40.893517718763405,
          40.88048615007653,
          40.85337772916848,
          40.65491846463238,
          40.69057965481238,
          40.585645970507926,
          40.67843021053433,
          40.656686551383224,
          40.659574215904684,
          40.64667161679278,
          40.63950693380259,
          40.61873121403783,
          40.61391396173966,
          40.66782845166711,
          40.690002595723904,
          40.69043352049397,
          40.655089742874665,
          40.699488036608805,
          40.70420197722319,
          40.73874694182294,
          40.75760723115322,
          40.814123532751616,
          40.80299712174222,
          40.765108666479435,
          40.73771480651282,
          40.77365334626779,
          40.764374674631455,
          40.78505397397865,
          40.73332734064887,
          40.78987464729508,
          40.76969584616553,
          40.80569555361154,
          40.73188392497343,
          40.873227421595,
          40.840696082969366,
          40.764453245236844,
          40.710357701836905,
          40.73439514871634,
          40.742139177884276,
          40.76254627225295,
          40.74512101423679,
          40.75561323005755,
          40.72903352450227,
          40.7005057752842,
          40.75292723318126,
          40.76805542814507,
          40.747180508981685,
          40.7177364216317,
          40.59865531058224,
          40.635876540798016,
          40.62257417575695,
          40.60284640058876,
          40.58451612059963,
          40.516978800451795
         ],
         "legendgroup": "",
         "lon": [
          -73.9110103877187,
          -73.90317782803042,
          -73.84365561299151,
          -73.84531138280727,
          -73.92447845294292,
          -73.84610932136209,
          -73.87994733604533,
          -73.8484434844751,
          -73.86122475983386,
          -73.88108707078342,
          -73.89037489167946,
          -73.9123791741448,
          -73.97793163176702,
          -73.96486850038322,
          -73.93759250176674,
          -73.94383353874257,
          -73.93380403563673,
          -74.02122142087823,
          -73.99870645745953,
          -73.94297936911907,
          -73.9484978425456,
          -73.97913592381343,
          -73.99743259117099,
          -73.99725588378374,
          -73.94518999648369,
          -73.9427660419906,
          -73.91756211820649,
          -73.9753427823785,
          -73.95260272039623,
          -73.93976651076436,
          -73.94112025542181,
          -73.9527273412189,
          -74.00087325540062,
          -73.96085559969245,
          -73.95679987256894,
          -73.94496023523027,
          -73.98234480428712,
          -73.95326589972156,
          -73.98688765825308,
          -73.96147972367363,
          -73.98461112231631,
          -73.91294845848223,
          -73.94163622952348,
          -73.9541429039059,
          -74.00501014024093,
          -73.98300123444983,
          -73.97408207907505,
          -73.95573615593123,
          -73.88564131742412,
          -73.81687376203057,
          -73.85154781041423,
          -73.81632908384934,
          -73.70931586733064,
          -73.92484415217665,
          -73.8251651922932,
          -73.80567939252272,
          -73.75348752144086,
          -74.10556032526767,
          -74.07561522684486,
          -74.09195676300882,
          -74.08549793485295,
          -74.19614316989768
         ],
         "marker": {
          "color": "#636efa",
          "opacity": 0.9,
          "size": [
           415,
           164,
           225,
           457,
           362,
           424,
           779,
           373.5,
           309,
           213,
           422,
           530,
           464,
           371,
           287,
           639,
           318,
           450,
           711,
           212,
           134,
           591,
           373.5,
           506,
           376,
           388,
           324,
           912,
           210,
           282,
           201,
           205,
           2,
           632,
           514,
           338,
           856,
           1171,
           514,
           478,
           69,
           201,
           995,
           862,
           180,
           225,
           844,
           40,
           545,
           299,
           312,
           431,
           1025,
           235,
           535,
           247,
           257,
           448,
           25,
           51,
           508,
           206
          ],
          "sizemode": "area",
          "sizeref": 2.9275
         },
         "mode": "markers+text",
         "name": "",
         "showlegend": false,
         "subplot": "mapbox",
         "text": [
          "Bronx-Lebanon Hospital Center - Concourse Division",
          "Bronx-Lebanon Hospital Center - Fulton Division",
          "Calvary Hospital Inc",
          "Jacobi Medical Center",
          "Lincoln Medical & Mental Health Center",
          "Montefiore Med Center - Jack D Weiler Hosp Of A Einstein College Div",
          "Montefiore Medical Center - Henry & Lucy Moses Div",
          "Montefiore Medical Center - Montefiore Westchester Square",
          "Montefiore Medical Center-Wakefield Hospital",
          "North Central Bronx Hospital",
          "Sbh Health System",
          "Brookdale Hospital Medical Center",
          "Brooklyn Hospital Center - Downtown Campus",
          "Coney Island Hospital",
          "Interfaith Medical Center",
          "Kings County Hospital Center",
          "Kingsbrook Jewish Medical Center",
          "Lutheran Medical Center",
          "Maimonides Medical Center",
          "Mount Sinai Beth Israel Brooklyn",
          "New York Community Hospital Of Brooklyn, Inc",
          "New York Methodist Hospital",
          "Nyulmc - Cobble Hill",
          "Suny Downstate Medical Center At Lich",
          "University Hospital Of Brooklyn",
          "Woodhull Medical & Mental Health Center",
          "Wyckoff Heights Medical Center",
          "Bellevue Hospital Center",
          "Coler-Goldwater Specialty Hospital & Nursing Facility - Coler Hospital Site",
          "Harlem Hospital Center",
          "Henry J. Carter Specialty Hospital",
          "Hospital For Special Surgery",
          "Lenox Hill Healthplex",
          "Lenox Hill Hospital",
          "Memorial Hospital For Cancer And Allied Diseases",
          "Metropolitan Hospital Center",
          "Mount Sinai Beth Israel",
          "Mount Sinai Hospital",
          "Mount Sinai Roosevelt",
          "Mount Sinai St. Luke'S",
          "New York Eye And Ear Infirmary Of Mount Sinai",
          "New York Presbyterian Hospital - Allen Hospital",
          "New York Presbyterian Hospital - Columbia Presbyterian Center",
          "New York Presbyterian Hospital - New York Weill Cornell Center",
          "New York-Presbyterian/Lower Manhattan Hospital",
          "Nyu Hospital For Joint Diseases",
          "Nyu Hospitals Center",
          "Rockefeller University Hospital",
          "Elmhurst Hospital Center",
          "Flushing Hospital Medical Center",
          "Forest Hills Hospital",
          "Jamaica Hospital Medical Center",
          "Long Island Jewish Medical Center",
          "Mount Sinai Hospital - Mount Sinai Hospital Of Queens",
          "New York Hospital Medical Center Of Queens",
          "Queens Hospital Center",
          "St Johns Episcopal Hospital So Shore",
          "Richmond University Medical Center",
          "Rumc-Bayley Seton",
          "Staten Island Univ Hosp-Concord Div",
          "Staten Island University Hosp-North",
          "Staten Island University Hosp-South"
         ],
         "type": "scattermapbox"
        }
       ],
       "layout": {
        "coloraxis": {
         "cmax": 5,
         "cmin": 0,
         "colorscale": [
          [
           0,
           "#0d0887"
          ],
          [
           0.1111111111111111,
           "#46039f"
          ],
          [
           0.2222222222222222,
           "#7201a8"
          ],
          [
           0.3333333333333333,
           "#9c179e"
          ],
          [
           0.4444444444444444,
           "#bd3786"
          ],
          [
           0.5555555555555556,
           "#d8576b"
          ],
          [
           0.6666666666666666,
           "#ed7953"
          ],
          [
           0.7777777777777778,
           "#fb9f3a"
          ],
          [
           0.8888888888888888,
           "#fdca26"
          ],
          [
           1,
           "#f0f921"
          ]
         ]
        },
        "legend": {
         "tracegroupgap": 0
        },
        "mapbox": {
         "center": {
          "lat": 40.71,
          "lon": -74
         },
         "domain": {
          "x": [
           0,
           1
          ],
          "y": [
           0,
           1
          ]
         },
         "style": "open-street-map",
         "zoom": 8.9
        },
        "margin": {
         "t": 60
        },
        "template": {
         "data": {
          "bar": [
           {
            "error_x": {
             "color": "#2a3f5f"
            },
            "error_y": {
             "color": "#2a3f5f"
            },
            "marker": {
             "line": {
              "color": "#E5ECF6",
              "width": 0.5
             }
            },
            "type": "bar"
           }
          ],
          "barpolar": [
           {
            "marker": {
             "line": {
              "color": "#E5ECF6",
              "width": 0.5
             }
            },
            "type": "barpolar"
           }
          ],
          "carpet": [
           {
            "aaxis": {
             "endlinecolor": "#2a3f5f",
             "gridcolor": "white",
             "linecolor": "white",
             "minorgridcolor": "white",
             "startlinecolor": "#2a3f5f"
            },
            "baxis": {
             "endlinecolor": "#2a3f5f",
             "gridcolor": "white",
             "linecolor": "white",
             "minorgridcolor": "white",
             "startlinecolor": "#2a3f5f"
            },
            "type": "carpet"
           }
          ],
          "choropleth": [
           {
            "colorbar": {
             "outlinewidth": 0,
             "ticks": ""
            },
            "type": "choropleth"
           }
          ],
          "contour": [
           {
            "colorbar": {
             "outlinewidth": 0,
             "ticks": ""
            },
            "colorscale": [
             [
              0,
              "#0d0887"
             ],
             [
              0.1111111111111111,
              "#46039f"
             ],
             [
              0.2222222222222222,
              "#7201a8"
             ],
             [
              0.3333333333333333,
              "#9c179e"
             ],
             [
              0.4444444444444444,
              "#bd3786"
             ],
             [
              0.5555555555555556,
              "#d8576b"
             ],
             [
              0.6666666666666666,
              "#ed7953"
             ],
             [
              0.7777777777777778,
              "#fb9f3a"
             ],
             [
              0.8888888888888888,
              "#fdca26"
             ],
             [
              1,
              "#f0f921"
             ]
            ],
            "type": "contour"
           }
          ],
          "contourcarpet": [
           {
            "colorbar": {
             "outlinewidth": 0,
             "ticks": ""
            },
            "type": "contourcarpet"
           }
          ],
          "heatmap": [
           {
            "colorbar": {
             "outlinewidth": 0,
             "ticks": ""
            },
            "colorscale": [
             [
              0,
              "#0d0887"
             ],
             [
              0.1111111111111111,
              "#46039f"
             ],
             [
              0.2222222222222222,
              "#7201a8"
             ],
             [
              0.3333333333333333,
              "#9c179e"
             ],
             [
              0.4444444444444444,
              "#bd3786"
             ],
             [
              0.5555555555555556,
              "#d8576b"
             ],
             [
              0.6666666666666666,
              "#ed7953"
             ],
             [
              0.7777777777777778,
              "#fb9f3a"
             ],
             [
              0.8888888888888888,
              "#fdca26"
             ],
             [
              1,
              "#f0f921"
             ]
            ],
            "type": "heatmap"
           }
          ],
          "heatmapgl": [
           {
            "colorbar": {
             "outlinewidth": 0,
             "ticks": ""
            },
            "colorscale": [
             [
              0,
              "#0d0887"
             ],
             [
              0.1111111111111111,
              "#46039f"
             ],
             [
              0.2222222222222222,
              "#7201a8"
             ],
             [
              0.3333333333333333,
              "#9c179e"
             ],
             [
              0.4444444444444444,
              "#bd3786"
             ],
             [
              0.5555555555555556,
              "#d8576b"
             ],
             [
              0.6666666666666666,
              "#ed7953"
             ],
             [
              0.7777777777777778,
              "#fb9f3a"
             ],
             [
              0.8888888888888888,
              "#fdca26"
             ],
             [
              1,
              "#f0f921"
             ]
            ],
            "type": "heatmapgl"
           }
          ],
          "histogram": [
           {
            "marker": {
             "colorbar": {
              "outlinewidth": 0,
              "ticks": ""
             }
            },
            "type": "histogram"
           }
          ],
          "histogram2d": [
           {
            "colorbar": {
             "outlinewidth": 0,
             "ticks": ""
            },
            "colorscale": [
             [
              0,
              "#0d0887"
             ],
             [
              0.1111111111111111,
              "#46039f"
             ],
             [
              0.2222222222222222,
              "#7201a8"
             ],
             [
              0.3333333333333333,
              "#9c179e"
             ],
             [
              0.4444444444444444,
              "#bd3786"
             ],
             [
              0.5555555555555556,
              "#d8576b"
             ],
             [
              0.6666666666666666,
              "#ed7953"
             ],
             [
              0.7777777777777778,
              "#fb9f3a"
             ],
             [
              0.8888888888888888,
              "#fdca26"
             ],
             [
              1,
              "#f0f921"
             ]
            ],
            "type": "histogram2d"
           }
          ],
          "histogram2dcontour": [
           {
            "colorbar": {
             "outlinewidth": 0,
             "ticks": ""
            },
            "colorscale": [
             [
              0,
              "#0d0887"
             ],
             [
              0.1111111111111111,
              "#46039f"
             ],
             [
              0.2222222222222222,
              "#7201a8"
             ],
             [
              0.3333333333333333,
              "#9c179e"
             ],
             [
              0.4444444444444444,
              "#bd3786"
             ],
             [
              0.5555555555555556,
              "#d8576b"
             ],
             [
              0.6666666666666666,
              "#ed7953"
             ],
             [
              0.7777777777777778,
              "#fb9f3a"
             ],
             [
              0.8888888888888888,
              "#fdca26"
             ],
             [
              1,
              "#f0f921"
             ]
            ],
            "type": "histogram2dcontour"
           }
          ],
          "mesh3d": [
           {
            "colorbar": {
             "outlinewidth": 0,
             "ticks": ""
            },
            "type": "mesh3d"
           }
          ],
          "parcoords": [
           {
            "line": {
             "colorbar": {
              "outlinewidth": 0,
              "ticks": ""
             }
            },
            "type": "parcoords"
           }
          ],
          "pie": [
           {
            "automargin": true,
            "type": "pie"
           }
          ],
          "scatter": [
           {
            "marker": {
             "colorbar": {
              "outlinewidth": 0,
              "ticks": ""
             }
            },
            "type": "scatter"
           }
          ],
          "scatter3d": [
           {
            "line": {
             "colorbar": {
              "outlinewidth": 0,
              "ticks": ""
             }
            },
            "marker": {
             "colorbar": {
              "outlinewidth": 0,
              "ticks": ""
             }
            },
            "type": "scatter3d"
           }
          ],
          "scattercarpet": [
           {
            "marker": {
             "colorbar": {
              "outlinewidth": 0,
              "ticks": ""
             }
            },
            "type": "scattercarpet"
           }
          ],
          "scattergeo": [
           {
            "marker": {
             "colorbar": {
              "outlinewidth": 0,
              "ticks": ""
             }
            },
            "type": "scattergeo"
           }
          ],
          "scattergl": [
           {
            "marker": {
             "colorbar": {
              "outlinewidth": 0,
              "ticks": ""
             }
            },
            "type": "scattergl"
           }
          ],
          "scattermapbox": [
           {
            "marker": {
             "colorbar": {
              "outlinewidth": 0,
              "ticks": ""
             }
            },
            "type": "scattermapbox"
           }
          ],
          "scatterpolar": [
           {
            "marker": {
             "colorbar": {
              "outlinewidth": 0,
              "ticks": ""
             }
            },
            "type": "scatterpolar"
           }
          ],
          "scatterpolargl": [
           {
            "marker": {
             "colorbar": {
              "outlinewidth": 0,
              "ticks": ""
             }
            },
            "type": "scatterpolargl"
           }
          ],
          "scatterternary": [
           {
            "marker": {
             "colorbar": {
              "outlinewidth": 0,
              "ticks": ""
             }
            },
            "type": "scatterternary"
           }
          ],
          "surface": [
           {
            "colorbar": {
             "outlinewidth": 0,
             "ticks": ""
            },
            "colorscale": [
             [
              0,
              "#0d0887"
             ],
             [
              0.1111111111111111,
              "#46039f"
             ],
             [
              0.2222222222222222,
              "#7201a8"
             ],
             [
              0.3333333333333333,
              "#9c179e"
             ],
             [
              0.4444444444444444,
              "#bd3786"
             ],
             [
              0.5555555555555556,
              "#d8576b"
             ],
             [
              0.6666666666666666,
              "#ed7953"
             ],
             [
              0.7777777777777778,
              "#fb9f3a"
             ],
             [
              0.8888888888888888,
              "#fdca26"
             ],
             [
              1,
              "#f0f921"
             ]
            ],
            "type": "surface"
           }
          ],
          "table": [
           {
            "cells": {
             "fill": {
              "color": "#EBF0F8"
             },
             "line": {
              "color": "white"
             }
            },
            "header": {
             "fill": {
              "color": "#C8D4E3"
             },
             "line": {
              "color": "white"
             }
            },
            "type": "table"
           }
          ]
         },
         "layout": {
          "annotationdefaults": {
           "arrowcolor": "#2a3f5f",
           "arrowhead": 0,
           "arrowwidth": 1
          },
          "coloraxis": {
           "colorbar": {
            "outlinewidth": 0,
            "ticks": ""
           }
          },
          "colorscale": {
           "diverging": [
            [
             0,
             "#8e0152"
            ],
            [
             0.1,
             "#c51b7d"
            ],
            [
             0.2,
             "#de77ae"
            ],
            [
             0.3,
             "#f1b6da"
            ],
            [
             0.4,
             "#fde0ef"
            ],
            [
             0.5,
             "#f7f7f7"
            ],
            [
             0.6,
             "#e6f5d0"
            ],
            [
             0.7,
             "#b8e186"
            ],
            [
             0.8,
             "#7fbc41"
            ],
            [
             0.9,
             "#4d9221"
            ],
            [
             1,
             "#276419"
            ]
           ],
           "sequential": [
            [
             0,
             "#0d0887"
            ],
            [
             0.1111111111111111,
             "#46039f"
            ],
            [
             0.2222222222222222,
             "#7201a8"
            ],
            [
             0.3333333333333333,
             "#9c179e"
            ],
            [
             0.4444444444444444,
             "#bd3786"
            ],
            [
             0.5555555555555556,
             "#d8576b"
            ],
            [
             0.6666666666666666,
             "#ed7953"
            ],
            [
             0.7777777777777778,
             "#fb9f3a"
            ],
            [
             0.8888888888888888,
             "#fdca26"
            ],
            [
             1,
             "#f0f921"
            ]
           ],
           "sequentialminus": [
            [
             0,
             "#0d0887"
            ],
            [
             0.1111111111111111,
             "#46039f"
            ],
            [
             0.2222222222222222,
             "#7201a8"
            ],
            [
             0.3333333333333333,
             "#9c179e"
            ],
            [
             0.4444444444444444,
             "#bd3786"
            ],
            [
             0.5555555555555556,
             "#d8576b"
            ],
            [
             0.6666666666666666,
             "#ed7953"
            ],
            [
             0.7777777777777778,
             "#fb9f3a"
            ],
            [
             0.8888888888888888,
             "#fdca26"
            ],
            [
             1,
             "#f0f921"
            ]
           ]
          },
          "colorway": [
           "#636efa",
           "#EF553B",
           "#00cc96",
           "#ab63fa",
           "#FFA15A",
           "#19d3f3",
           "#FF6692",
           "#B6E880",
           "#FF97FF",
           "#FECB52"
          ],
          "font": {
           "color": "#2a3f5f"
          },
          "geo": {
           "bgcolor": "white",
           "lakecolor": "white",
           "landcolor": "#E5ECF6",
           "showlakes": true,
           "showland": true,
           "subunitcolor": "white"
          },
          "hoverlabel": {
           "align": "left"
          },
          "hovermode": "closest",
          "mapbox": {
           "style": "light"
          },
          "paper_bgcolor": "white",
          "plot_bgcolor": "#E5ECF6",
          "polar": {
           "angularaxis": {
            "gridcolor": "white",
            "linecolor": "white",
            "ticks": ""
           },
           "bgcolor": "#E5ECF6",
           "radialaxis": {
            "gridcolor": "white",
            "linecolor": "white",
            "ticks": ""
           }
          },
          "scene": {
           "xaxis": {
            "backgroundcolor": "#E5ECF6",
            "gridcolor": "white",
            "gridwidth": 2,
            "linecolor": "white",
            "showbackground": true,
            "ticks": "",
            "zerolinecolor": "white"
           },
           "yaxis": {
            "backgroundcolor": "#E5ECF6",
            "gridcolor": "white",
            "gridwidth": 2,
            "linecolor": "white",
            "showbackground": true,
            "ticks": "",
            "zerolinecolor": "white"
           },
           "zaxis": {
            "backgroundcolor": "#E5ECF6",
            "gridcolor": "white",
            "gridwidth": 2,
            "linecolor": "white",
            "showbackground": true,
            "ticks": "",
            "zerolinecolor": "white"
           }
          },
          "shapedefaults": {
           "line": {
            "color": "#2a3f5f"
           }
          },
          "ternary": {
           "aaxis": {
            "gridcolor": "white",
            "linecolor": "white",
            "ticks": ""
           },
           "baxis": {
            "gridcolor": "white",
            "linecolor": "white",
            "ticks": ""
           },
           "bgcolor": "#E5ECF6",
           "caxis": {
            "gridcolor": "white",
            "linecolor": "white",
            "ticks": ""
           }
          },
          "title": {
           "x": 0.05
          },
          "xaxis": {
           "automargin": true,
           "gridcolor": "white",
           "linecolor": "white",
           "ticks": "",
           "title": {
            "standoff": 15
           },
           "zerolinecolor": "white",
           "zerolinewidth": 2
          },
          "yaxis": {
           "automargin": true,
           "gridcolor": "white",
           "linecolor": "white",
           "ticks": "",
           "title": {
            "standoff": 15
           },
           "zerolinecolor": "white",
           "zerolinewidth": 2
          }
         }
        }
       }
      },
      "text/html": [
       "<div>\n",
       "        \n",
       "        \n",
       "            <div id=\"c0704c0b-5135-41b7-b205-64f8e140b869\" class=\"plotly-graph-div\" style=\"height:525px; width:100%;\"></div>\n",
       "            <script type=\"text/javascript\">\n",
       "                require([\"plotly\"], function(Plotly) {\n",
       "                    window.PLOTLYENV=window.PLOTLYENV || {};\n",
       "                    \n",
       "                if (document.getElementById(\"c0704c0b-5135-41b7-b205-64f8e140b869\")) {\n",
       "                    Plotly.newPlot(\n",
       "                        'c0704c0b-5135-41b7-b205-64f8e140b869',\n",
       "                        [{\"coloraxis\": \"coloraxis\", \"hovertemplate\": \"latitude=%{lat}<br>longitude=%{lon}<extra></extra>\", \"lat\": [\"40.6760520\", \"40.6675220\", \"40.6664920\", \"40.7444300\", \"40.6765300\", \"40.7245520\", \"40.6153830\", \"40.6666950\", \"40.6763270\", \"40.6835480\", \"40.6723820\", \"40.7491840\", \"40.6641920\", \"40.7622900\", \"40.6183400\", \"40.7240200\", \"40.6675220\", \"40.6153530\", \"40.6661200\", \"40.5311100\", \"40.7906900\", \"40.6022600\", \"40.8459240\", \"40.7259200\", \"40.7045440\", \"40.6360400\", \"40.6670500\", \"40.6096420\", \"40.6872500\", \"40.6804540\", \"40.5869500\", \"40.6771100\", \"40.7508900\", \"40.6806400\", \"40.6193050\", \"40.6046640\", \"40.6867600\", \"40.6680220\", \"40.6649600\", \"40.6804470\", \"40.7892530\", \"40.6744540\", \"40.6707000\", \"40.6666950\", \"40.7243080\", \"40.7878840\", \"40.5438700\", \"40.6649600\", \"40.6711960\", \"40.6555820\", \"40.6674300\", \"40.6657900\", \"40.6701400\", \"40.6737670\", \"40.9040300\", \"40.6822100\", \"40.6810200\", \"40.6609700\", \"40.6818500\", \"40.5739700\", \"40.6840100\", \"40.7816700\", \"40.6833460\", \"40.7598700\", \"40.7432750\", \"40.6051670\", \"40.5969100\", \"40.6503370\", \"40.6765670\", \"40.6664050\", \"40.6731200\", \"40.7466500\", \"40.6851700\", \"40.6753120\", \"40.7217600\", \"40.6663060\", \"40.6670000\", \"40.7595800\", \"40.6657330\", \"40.6518630\", \"40.6801150\", \"40.6813960\", \"40.6760940\", \"40.7582050\", \"40.6030700\", \"40.6513600\", \"40.5607450\", \"40.6714480\", \"40.6847420\", \"40.6816860\", \"40.7693180\", \"40.6156500\", \"40.5928460\", \"40.7259750\", \"40.6950340\", \"40.6141930\", \"40.6915780\", \"40.6084330\", \"40.6052170\", \"40.7448920\", \"40.7018240\", \"40.7687900\", \"40.6741070\", \"40.7125850\", \"40.5469700\", \"40.6771550\", \"40.6710620\", \"40.7428930\", \"40.6912500\", \"40.7343000\", \"40.6829380\", \"40.6931700\", \"40.6446500\", \"40.7209320\", \"40.7583730\", \"40.6885700\", \"40.6169360\", \"40.6833760\", \"40.6957700\", \"40.6661800\", \"40.6791100\", \"40.6044200\", \"40.7715760\", \"40.6245300\", \"40.6809730\", \"40.6078000\", \"40.6796530\", \"40.5709400\", \"40.6817780\", \"40.7108270\", \"40.5716970\", \"40.6667560\", \"40.9016700\", \"40.6046100\", \"40.6839900\", \"40.6883900\", \"40.6806870\", \"40.6127360\", \"40.7397080\", \"40.5183140\", \"40.6160800\", \"40.6379500\", \"40.5120280\", \"40.6152600\", \"40.6672360\", \"40.6083760\", \"40.6647000\", \"40.5839200\", \"40.6643330\", \"40.6324350\", \"40.7031600\", \"40.5607760\", \"40.6035200\", \"40.6761550\", \"40.6266000\", \"40.6569440\", \"40.6649600\", \"40.8078900\", \"40.7663960\", \"40.6249120\", \"40.6076550\", \"40.7837220\", \"40.6649600\", \"40.6762400\", \"40.6958920\", \"40.8057800\", \"40.6038860\", \"40.6652570\", \"40.6792870\", \"40.6775200\", \"40.6810460\", \"40.8825400\", \"40.5607640\", \"40.6721300\", \"40.7071230\", \"40.5985530\", \"40.7199100\", \"40.6783640\", \"40.6804600\", \"40.6625200\", \"40.5950000\", \"40.8749920\", \"40.6111030\", \"40.7177850\", \"40.7299200\", \"40.7894970\", \"40.6625200\", \"40.6653480\", \"40.6597100\", \"40.6865040\", \"40.6885700\", \"40.6995960\", \"40.6127360\", \"40.6663480\", \"40.7448920\", \"40.6664500\", \"40.6670760\", \"40.7215900\", \"40.7138060\", \"40.7876660\", \"40.6133400\", \"40.6661200\", \"40.7832260\", \"40.7786140\", \"40.5842800\", \"40.7838670\", \"40.8565980\", \"40.7446440\", \"40.6664050\", \"40.7217600\", \"40.6513600\", \"40.6797180\", \"40.6864500\", \"40.6844000\", \"40.6728550\", \"40.6348230\", \"40.7674700\", \"40.5837250\", \"40.6121830\", \"40.6796880\", \"40.5850560\", \"40.7028580\", \"40.5955300\", \"40.6651880\", \"40.6718250\", \"40.7206600\", \"40.7693140\", \"40.5560000\", \"40.6932260\", \"40.6170430\", \"40.5890200\", \"40.5795170\", \"40.6151600\", \"40.6018640\", \"40.6995960\", \"40.7010230\", \"40.7956120\", \"40.7162300\", \"40.6077540\", \"40.5428120\", \"40.6675220\", \"40.6844560\", \"40.6178970\", \"40.7774280\", \"40.6167830\", \"40.7498900\", \"40.6663930\", \"40.6572500\", \"40.6656340\", \"40.7109000\", \"40.6820870\", \"40.6661450\", \"40.6982540\", \"40.7030500\", \"40.5372620\", \"40.6551600\", \"40.6089000\", \"40.6513600\", \"40.5555400\", \"40.6668400\", \"40.6905000\", \"40.6923450\", \"40.6662940\", \"40.6749340\", \"40.6229000\", \"40.5889240\", \"40.6811100\", \"40.6914100\", \"40.6732520\", \"40.7615850\", \"40.7821500\", \"40.5948220\", \"40.7636000\", \"40.6597100\", \"40.7074970\", \"40.6100770\", \"40.6920660\", \"40.7144000\", \"40.6979700\", \"40.7591630\", \"40.7029080\", \"40.7467230\", \"40.7816620\", \"40.7502480\", \"40.6652570\", \"40.6663060\", \"40.6663860\", \"40.6663060\", \"40.7047650\", \"40.7582050\", \"40.6832200\", \"40.7887600\", \"40.5899730\", \"40.6856960\", \"40.6722150\", \"40.5921330\", \"40.6667500\", \"40.6071850\", \"40.7834200\", \"40.6687300\", \"40.6183400\", \"40.6256600\", \"40.6663930\", \"40.6859400\", \"40.7663570\", \"40.6860920\", \"40.6675220\", \"40.6836300\", \"40.7103600\", \"40.6995770\", \"40.6192740\", \"40.5353550\", \"40.6651760\", \"40.7121100\", \"40.7022000\", \"40.7734800\", \"40.6670900\", \"40.7068140\", \"40.7116280\", \"40.6581570\", \"40.5931240\", \"40.6402550\", \"40.7200900\", \"40.6675220\", \"40.6793480\", \"40.7121160\", \"40.6850970\", \"40.7138980\", \"40.6916500\", \"40.7153430\", \"40.5890200\", \"40.6273700\", \"40.7630460\", \"40.5816040\", \"40.7063140\", \"40.6202300\", \"40.7362600\", \"40.6816750\", \"40.6837200\", \"40.6570600\", \"40.6763300\", \"40.6785770\", \"40.6670500\", \"40.6915100\", \"40.6799130\", \"40.5636630\", \"40.5639150\", \"40.6820450\", \"40.7594000\", \"40.5635030\", \"40.6440000\", \"40.9084780\", \"40.5912930\", \"40.6806530\", \"40.6779800\", \"40.6024200\", \"40.6042060\", \"40.6665880\", \"40.6654970\", \"40.6784170\", \"40.6769900\", \"40.5848900\", \"40.5857100\", \"40.7109530\", \"40.7786140\", \"40.8198200\", \"40.6680400\", \"40.7650200\", \"40.7832150\", \"40.5965420\", \"40.6512340\", \"40.7059820\", \"40.6889530\", \"40.6591720\", \"40.6648400\", \"40.6647450\", \"40.6774980\", \"40.6848400\", \"40.5950970\", \"40.7151450\", \"40.6638500\", \"40.6174130\", \"40.6068420\", \"40.7264440\", \"40.5888820\", \"40.5842800\", \"40.6652570\", \"40.6927700\", \"40.7893830\", \"40.7459030\", \"40.6797000\", \"40.8213900\", \"40.7168430\", \"40.6425400\", \"40.7816800\", \"40.6662330\", \"40.6804540\", \"40.7055700\", \"40.6152150\", \"40.6722600\", \"40.6841900\", \"40.6782500\", \"40.6886670\", \"40.6857760\", \"40.5837330\", \"40.7636000\", \"40.6959570\", \"40.6055680\", \"40.7653540\", \"40.7448920\", \"40.7365200\", \"40.6023500\", \"40.6816300\", \"40.6718250\", \"40.6552600\", \"40.6906970\", \"40.6897240\", \"40.6719320\", \"40.6664500\", \"40.6793480\", \"40.6800160\", \"40.6561600\", \"40.6673130\", \"40.6797180\", \"40.6932640\", \"40.7622900\", \"40.6918500\", \"40.6649600\", \"40.7138800\", \"40.6869960\", \"40.8123300\", \"40.6654780\", \"40.7277300\", \"40.6361120\", \"40.7531600\", \"40.6076850\", \"40.6568600\", \"40.6716040\", \"40.7801500\", \"40.6042060\", \"40.7453100\", \"40.7504920\", \"40.6726700\", \"40.6934000\", \"40.6113050\", \"40.5865300\", \"40.6837770\", \"40.6819460\", \"40.6661200\", \"40.7048380\", \"40.7127720\", \"40.6880040\", \"40.7280240\", \"40.6830640\", \"40.6664050\", \"40.7092400\", \"40.6790100\", \"40.6067620\", \"40.6009000\", \"40.6755140\", \"40.6041070\", \"40.6820370\", \"40.6927260\", \"40.6524770\", \"40.6692850\", \"40.6425400\", \"40.6961200\", \"40.6664050\", \"40.6654900\", \"40.6659050\", \"40.6817300\", \"40.6102300\", \"40.6574940\", \"40.6513980\", \"40.6918680\", \"40.6655200\", \"40.7832150\", \"40.6063300\", \"40.7241600\", \"40.6664050\", \"40.6617770\", \"40.6655040\", \"40.6308200\", \"40.6672360\", \"40.6780300\", \"40.6901900\", \"40.6797370\", \"40.6702080\", \"40.6595270\", \"40.7377850\", \"40.6667000\", \"40.6672360\", \"40.6768340\", \"40.5110700\", \"40.5639200\", \"40.6729770\", \"40.7897830\", \"40.6769070\", \"40.6703260\", \"40.6741200\", \"40.7314000\", \"40.6707230\", \"40.6599900\", \"40.5864600\", \"40.6994170\", \"40.8656900\", \"40.6663930\", \"40.6654780\", \"40.5444220\", \"40.5902020\", \"40.5768850\", \"40.5966200\", \"40.6708030\", \"40.5726000\", \"40.6947100\", \"40.6673500\", \"40.6063840\", \"40.7453840\", \"40.6745200\", \"40.7485350\", \"40.7663960\", \"40.7453840\", \"40.7171000\", \"40.5495800\", \"40.6972160\", \"40.6754600\", \"40.6744700\", \"40.6909140\", \"40.6048600\", \"40.6267130\", \"40.6790730\", \"40.6857220\", \"40.7858700\", \"40.7470900\", \"40.7261350\", \"40.5354580\", \"40.7448920\", \"40.6598170\", \"40.7434270\", \"40.5928150\", \"40.7430080\", \"40.5873100\", \"40.6727700\", \"40.7610050\", \"40.6912400\", \"40.6929360\", \"40.5527900\", \"40.6253780\", \"40.7339550\", \"40.6797370\", \"40.6593900\", \"40.7386630\", \"40.6775300\", \"40.6766850\", \"40.6907800\", \"40.7885000\", \"40.6986730\", \"40.7227940\", \"40.6660500\", \"40.7007030\", \"40.7909700\", \"40.7890170\", \"40.6712530\", \"40.7237500\", \"40.6672360\", \"40.6837580\", \"40.7079000\", \"40.7376060\", \"40.6255530\", \"40.6304300\", \"40.6561600\", \"40.6596500\", \"40.6237530\", \"40.6654200\", \"40.7464100\", \"40.6851120\", \"40.6653480\", \"40.5584600\", \"40.7731000\", \"40.7130240\", \"40.7933580\", \"40.5305670\", \"40.7549000\", \"40.6763600\", \"40.6569400\", \"40.6802200\", \"40.6781400\", \"40.6009000\", \"40.7246930\", \"40.6771660\", \"40.6713330\", \"40.6936600\", \"40.6677740\", \"40.7343980\", \"40.6311570\", \"40.6682660\", \"40.6736260\", \"40.6696550\", \"40.6657330\", \"40.6656340\", \"40.6778640\", \"40.5579870\", \"40.6695700\", \"40.6697240\", \"40.7354350\", \"40.6756860\", \"40.6100770\", \"40.6663480\", \"40.6770860\", \"40.7887760\", \"40.6756630\", \"40.6670840\", \"40.6924860\", \"40.6085660\", \"40.6655350\", \"40.7832200\", \"40.5317200\", \"40.6656300\", \"40.7050670\", \"40.7015880\", \"40.6163330\", \"40.6654550\", \"40.7638440\", \"40.6440400\", \"40.6591720\", \"40.6051100\", \"40.6668620\", \"40.5850560\", \"40.7864230\", \"40.6779800\", \"40.8162730\", \"40.7602540\", \"40.6705800\", \"40.5610770\", \"40.6833700\", \"40.7609940\", \"40.5900000\", \"40.6508200\", \"40.5798150\", \"40.5847930\", \"40.6089130\", \"40.5950970\", \"40.7088100\", \"40.7689740\", \"40.7108270\", \"40.6266330\", \"40.6931700\", \"40.5504230\", \"40.6734430\", \"40.7000300\", \"40.6714740\", \"40.7622900\", \"40.6669100\", \"40.5163350\", \"40.7230500\", \"40.5931240\", \"40.6819880\", \"40.7918400\", \"40.6653700\", \"40.5209160\", \"40.8204040\", \"40.7115700\", \"40.6782800\", \"40.6263000\", \"40.6679760\", \"40.6806870\", \"40.7113150\", \"40.7157630\", \"40.6823100\", \"40.7138980\", \"40.6802940\", \"40.6667500\", \"40.7266200\", \"40.6683400\", \"40.7816620\", \"40.7167400\", \"40.5896530\", \"40.6589200\", \"40.6671140\", \"40.7861330\", \"40.6847420\", \"40.6715660\", \"40.6927260\", \"40.9063380\", \"40.6750070\", \"40.6848300\", \"40.6918950\", \"40.6661220\", \"40.7872470\", \"40.6647000\", \"40.7632700\", \"40.5429080\", \"40.6012040\", \"40.6042060\", \"40.6772400\", \"40.6124400\", \"40.6072580\", \"40.6682660\", \"40.5741040\", \"40.7399670\", \"40.6912500\", \"40.5886200\", \"40.6653480\", \"40.6095700\", \"40.6749230\", \"40.7423000\", \"40.5854000\", \"40.6249900\", \"40.5978130\", \"40.7615850\", \"40.6790120\", \"40.6723140\", \"40.7615850\", \"40.6984900\", \"40.6664500\", \"40.6265300\", \"40.7783500\", \"40.6068100\", \"40.6050570\", \"40.6113050\", \"40.6978700\", \"40.6679730\", \"40.6784900\", \"40.6762400\", \"40.6248130\", \"40.5928150\", \"40.6776500\", \"40.6053050\", \"40.7715760\", \"40.7897830\", \"40.6663930\", \"40.8071200\", \"40.5997600\", \"40.6892970\", \"40.6695140\", \"40.6680400\", \"40.6923700\", \"40.6661100\", \"40.6670800\", \"40.7265000\", \"40.6775970\", \"40.7255670\", \"40.5705640\", \"40.7244950\", \"40.7816770\", \"40.6692200\", \"40.6303830\", \"40.7893680\", \"40.6685070\", \"40.6518630\", \"40.8861270\", \"40.6690520\", \"40.6040950\", \"40.5748500\", \"40.5875400\", \"40.6652570\", \"40.7849160\", \"40.6672360\", \"40.6869280\", \"40.6742670\", \"40.6685070\", \"40.7832150\", \"40.5966200\", \"40.7059170\", \"40.5774800\", \"40.5777360\", \"40.6654600\", \"40.6226430\", \"40.6631360\", \"40.6813600\", \"40.6847420\", \"40.6855550\", \"40.7201840\", \"40.7245520\", \"40.6083760\", \"40.6859400\", \"40.6648750\", \"40.6854300\", \"40.5428100\", \"40.6663060\", \"40.6846470\", \"40.6746830\", \"40.6966480\", \"40.7432750\", \"40.7507600\", \"40.7864230\", \"40.8793830\", \"40.6304300\", \"40.5840640\", \"40.7874900\", \"40.7029270\", \"40.6652570\", \"40.6797370\", \"40.6663320\", \"40.5885620\", \"40.5926740\", \"40.7326130\", \"40.6727900\", \"40.6670000\", \"40.6735730\", \"40.6674000\", \"40.6719320\", \"40.7715760\", \"40.7116280\", \"40.6082530\", \"40.6751860\", \"40.6891980\", \"40.7241600\", \"40.7851560\", \"40.8205030\", \"40.6692900\", \"40.6620500\", \"40.6940100\", \"40.6616440\", \"40.6254200\", \"40.7816700\", \"40.6249580\", \"40.6706900\", \"40.6675760\", \"40.5949820\", \"40.5465300\", \"40.6737600\", \"40.6723820\", \"40.7351500\", \"40.6368180\", \"40.6660350\", \"40.7869400\", \"40.6656300\", \"40.8093260\", \"40.7932170\", \"40.6820370\", \"40.6735880\", \"40.7657050\", \"40.6574360\", \"40.7116280\", \"40.6945500\", \"40.5415000\", \"40.6823900\", \"40.5134700\", \"40.8841500\", \"40.5985530\", \"40.7431140\", \"40.5972700\", \"40.6800160\", \"40.6824150\", \"40.7444650\", \"40.6804900\", \"40.6947100\", \"40.7852440\", \"40.6804540\", \"40.7266200\", \"40.6799850\", \"40.5811840\", \"40.6656840\", \"40.6661200\", \"40.6662330\", \"40.7374570\", \"40.6707000\", \"40.6700700\", \"40.6805420\", \"40.7023300\", \"40.6652570\", \"40.7503660\", \"40.5888520\", \"40.7556880\", \"40.7619930\", \"40.6659930\", \"40.7283000\", \"40.6754040\", \"40.6632230\", \"40.5947040\", \"40.6665730\", \"40.7476800\", \"40.6543850\", \"40.7150150\", \"40.6647450\", \"40.5419540\", \"40.6742670\", \"40.7757400\", \"40.6035420\", \"40.7047100\", \"40.6842770\", \"40.7784080\", \"40.6367870\", \"40.6724240\", \"40.6088520\", \"40.6668930\", \"40.6673500\", \"40.7576600\", \"40.7424050\", \"40.7832260\", \"40.5735550\", \"40.7341300\", \"40.5014650\", \"40.6945760\", \"40.6731220\", \"40.6708680\", \"40.5810200\", \"40.6105160\", \"40.6675800\", \"40.7814060\", \"40.7894970\", \"40.6661300\", \"40.6823100\", \"40.7325550\", \"40.7137450\", \"40.6889840\", \"40.6831900\", \"40.7804370\", \"40.5850560\", \"40.6348150\", \"40.5896380\", \"40.6599500\", \"40.7065200\", \"40.6518630\", \"40.6530300\", \"40.6107520\", \"40.6114900\", \"40.7356700\", \"40.5931630\", \"40.6664050\", \"40.7560960\", \"40.7633200\", \"40.6114040\", \"40.6540200\", \"40.5847930\", \"40.6068880\", \"40.7841700\", \"40.7816800\", \"40.6827350\", \"40.6665460\", \"40.6677900\", \"40.6076850\", \"40.6914100\", \"40.5786820\", \"40.6762400\", \"40.5720100\", \"40.6723500\", \"40.6655580\", \"40.6654900\", \"40.7494700\", \"40.6796760\", \"40.7756650\", \"40.5857100\", \"40.7631300\", \"40.7210040\", \"40.7250700\", \"40.7879370\", \"40.6673430\", \"40.7829630\", \"40.6513600\", \"40.6008950\", \"40.6734280\", \"40.6718640\", \"40.6961200\", \"40.7024960\", \"40.6358300\", \"40.6712900\", \"40.8219000\", \"40.5610770\", \"40.6808100\", \"40.7890850\", \"40.7629050\", \"40.6047670\", \"40.7368300\", \"40.7056800\", \"40.6231800\", \"40.6975560\", \"40.6803050\", \"40.6769000\", \"40.6703260\", \"40.6923180\", \"40.7203750\", \"40.6925160\", \"40.6608470\", \"40.7841900\", \"40.6059340\", \"40.6848400\", \"40.6856100\", \"40.7120860\", \"40.6044200\", \"40.6919480\", \"40.7154540\", \"40.6440400\", \"40.6683500\", \"40.7108200\", \"40.6007770\", \"40.6663860\", \"40.6832920\", \"40.6611020\", \"40.7153430\", \"40.6951560\", \"40.6779370\", \"40.6723820\", \"40.6752850\", \"40.6837300\", \"40.6797700\", \"40.7860000\", \"40.7239500\", \"40.6794800\", \"40.6876900\", \"40.6596500\", \"40.7448920\", \"40.6305050\", \"40.6561600\", \"40.7262600\", \"40.7317770\", \"40.7897830\", \"40.6881180\", \"40.7703500\", \"40.6947100\", \"40.5488550\", \"40.7122570\", \"40.6346440\", \"40.6932260\", \"40.6093330\", \"40.6125070\", \"40.7644730\", \"40.5564270\", \"40.7858500\", \"40.6091500\", \"40.7655300\", \"40.6918950\", \"40.6060140\", \"40.6660700\", \"40.6026570\", \"40.6537970\", \"40.6735730\", \"40.5602950\", \"40.7166750\", \"40.6596500\", \"40.8181420\", \"40.7361450\", \"40.7633440\", \"40.6057600\", \"40.7816900\", \"40.7161450\", \"40.7210600\", \"40.6650300\", \"40.6663060\", \"40.6979030\", \"40.6859800\", \"40.6427000\", \"40.6925740\", \"40.6962170\", \"40.6077540\", \"40.6072580\", \"40.6659280\", \"40.6896300\", \"40.6715660\", \"0E-7\", \"40.6037300\", \"40.6823900\", \"40.8882870\", \"40.5615960\", \"0E-7\", \"40.6916660\", \"40.7258760\", \"40.6682660\", \"40.6752850\", \"40.7446440\", \"40.6722000\", \"40.6668550\", \"40.5867460\", \"40.7763630\", \"40.7869260\", \"40.6398160\", \"40.6931700\", \"40.6805900\", \"40.6816100\", \"40.6293680\", \"40.5730600\", \"40.6636430\", \"40.6189730\", \"40.6205500\", \"40.6656300\", \"40.6688840\", \"40.6997700\", \"40.6667980\", \"40.6702080\", \"40.7591900\", \"40.6674400\", \"40.5600930\", \"40.5935900\", \"40.6937260\", \"40.6666950\", \"40.6072900\", \"40.8807200\", \"40.5836900\", \"40.6048500\", \"40.6892970\", \"40.5833740\", \"40.6518630\", \"40.7832260\", \"40.6663700\", \"40.7114680\", \"40.7757700\", \"40.7661250\", \"40.6979800\", \"40.6687770\", \"40.8198200\", \"40.6923800\", \"40.7539900\", \"40.6117970\", \"40.6055560\", \"40.6800420\", \"40.7110330\", \"40.6649600\", \"40.6792870\", \"40.7812770\", \"40.6739400\", \"40.6924970\", \"40.7020030\", \"40.6656150\", \"40.5603940\", \"40.6304860\", \"40.7882100\", \"40.6776730\", \"40.7816620\", \"40.7675300\", \"40.6662330\", \"40.7576600\", \"40.6794600\", \"40.6723820\", \"40.7160000\", \"40.6835170\", \"40.6002300\", \"40.6680300\", \"40.6134700\", \"40.5775500\", \"40.6724100\", \"40.6596500\", \"40.6841900\", \"40.6006900\", \"40.6735880\", \"40.7006000\", \"40.6118500\", \"40.6721460\", \"40.6831900\", \"40.6736150\", \"40.5673940\", \"40.6011200\", \"40.6838070\", \"40.7816700\", \"40.6705400\", \"40.6042060\", \"40.6718560\", \"40.6664500\", \"40.6709060\", \"40.5989040\", \"40.6694560\", \"40.7014430\", \"40.7120060\", \"40.7608000\", \"40.7081260\", \"40.7717480\", \"40.6230800\", \"40.6825830\", \"40.6736760\", \"40.6902160\", \"40.6741330\", \"40.6771930\", \"40.6584170\", \"40.6084330\", \"40.6670800\", \"40.6663200\", \"40.7088200\", \"40.6689070\", \"40.7459030\", \"40.6664500\", \"40.7495040\", \"40.6252060\", \"40.6665950\", \"40.7211380\", \"40.6383130\", \"40.8846470\", \"40.7148200\", \"40.6706350\", \"40.6923800\", \"40.6764950\", \"40.6720300\", \"40.6868820\", \"40.6642950\", \"40.7126100\", \"40.6821600\", \"40.6182500\", \"40.5890120\", \"40.7492200\", \"40.6654470\", \"40.5973320\", \"40.6705860\", \"40.7138800\", \"40.6654900\", \"40.6912420\", \"40.6972350\", \"40.6797700\", \"40.6030700\", \"40.7265000\", \"40.5438700\", \"40.6597060\", \"40.8200950\", \"40.7504800\", \"40.6637700\", \"40.7116280\", \"40.6664300\", \"40.7011870\", \"40.7839360\", \"40.7612040\", \"40.6046180\", \"40.6897350\", \"40.5400960\", \"40.6995960\", \"40.6730650\", \"40.6651270\", \"40.6801640\", \"40.6982080\", \"40.6142700\", \"40.6782880\", \"40.6653500\", \"40.7145800\", \"40.5604740\", \"40.6152600\", \"40.6777200\", \"40.7858700\", \"40.7025640\", \"40.6776120\", \"40.6903570\", \"40.9096260\", \"40.7357800\", \"40.6652570\", \"40.5846000\", \"40.6021040\", \"40.5837330\", \"40.6071850\", \"40.6050150\", \"40.7118600\", \"40.7112270\", \"40.6749530\", \"40.6259800\", \"40.6837770\", \"40.5928150\", \"40.6127360\", \"40.6660700\", \"40.6068420\", \"40.6749880\", \"40.6948700\", \"40.6324350\", \"40.6545330\", \"40.7611430\", \"40.6071850\", \"40.6737670\", \"40.5825840\", \"40.6907800\", \"40.6668360\", \"40.6115720\", \"40.8799480\", \"40.7582550\", \"40.6282230\", \"40.6658400\", \"40.5806540\", \"40.7112270\", \"40.5942840\", \"40.6663480\", \"40.5954930\", \"40.6787000\", \"40.6830440\", \"40.6639440\", \"40.6667900\", \"40.7604900\", \"40.6693340\", \"40.6790300\", \"40.6662330\", \"40.7433170\", \"40.5637740\", \"40.7011870\", \"40.6766850\", \"40.5526900\", \"40.6649200\", \"40.7324400\", \"40.6249580\", \"40.6666950\", \"40.6670380\", \"40.7782020\", \"40.6847420\", \"40.6918830\", \"40.6749340\", \"40.6191000\", \"40.7589200\", \"40.6617100\", \"40.7444650\", \"40.6652570\", \"40.6891900\", \"40.6647220\", \"40.7466000\", \"40.6624340\", \"40.7272220\", \"40.5827560\", \"40.6664050\", \"40.7572700\", \"40.6649200\", \"40.6775670\", \"40.7577250\", \"40.7019650\", \"40.6088520\", \"40.6816100\", \"40.6733440\", \"40.6498760\", \"40.6065700\", \"40.7864230\", \"40.6782760\", \"40.6101570\", \"40.6261500\", \"40.6052100\", \"40.6679600\", \"40.7279430\", \"40.6259400\", \"40.6566300\", \"40.6740880\", \"40.5781300\", \"40.7462540\", \"40.7269200\", \"40.7786250\", \"40.5966200\", \"40.6998020\", \"40.6028440\", \"40.5487800\", \"40.6005170\", \"40.6293680\", \"40.6050800\", \"40.6715300\", \"40.6753230\", \"40.7122760\", \"40.6722700\", \"40.5652350\", \"40.7627100\", \"40.7892720\", \"40.6108440\", \"40.6783830\", \"40.7879700\", \"40.6919940\", \"40.5873500\", \"40.7023930\", \"40.6563600\", \"40.6670800\", \"40.6830020\", \"40.6041600\", \"40.6663320\"], \"lon\": [\"-73.7901840\", \"-73.7806300\", \"-73.7653600\", \"-73.7650600\", \"-73.7569300\", \"-73.7245200\", \"-74.0161300\", \"-73.7671360\", \"-73.8654700\", \"-73.8725100\", \"-73.7857400\", \"-73.7581940\", \"-73.8775900\", \"-73.7571100\", \"-74.0319900\", \"-73.7635350\", \"-73.7806300\", \"-73.8970800\", \"-73.8222500\", \"-74.1572340\", \"-73.8408660\", \"-74.0030750\", \"-73.7860100\", \"-73.7243900\", \"-73.7298800\", \"-73.7402900\", \"-73.7741100\", \"-73.8973800\", \"-73.8719800\", \"-73.8761100\", \"-74.1641600\", \"-73.7812900\", \"-73.7511300\", \"-73.8967200\", \"-74.1610100\", \"-74.0218900\", \"-73.7844900\", \"-73.7371100\", \"-73.8222600\", \"-73.8712800\", \"-73.8518200\", \"-73.8026050\", \"-73.7736600\", \"-73.7671360\", \"-73.7247400\", \"-73.8410300\", \"-74.1444500\", \"-73.8222600\", \"-73.8429600\", \"-73.8389900\", \"-73.7667600\", \"-73.8738860\", \"-73.8706400\", \"-73.7638100\", \"-73.9042200\", \"-73.7725700\", \"-73.7586500\", \"-73.7501100\", \"-73.8545000\", \"-74.1699200\", \"-73.8536500\", \"-73.8307600\", \"-73.7347700\", \"-73.7711600\", \"-73.7757200\", \"-73.9930340\", \"-74.1913400\", \"-73.8684900\", \"-73.8576300\", \"-73.8026350\", \"-73.8786540\", \"-73.7692000\", \"-73.8805200\", \"-73.8433100\", \"-73.7600100\", \"-73.7917100\", \"-73.7939450\", \"-73.7689400\", \"-73.7555850\", \"-73.8653600\", \"-73.7532400\", \"-73.8800500\", \"-73.8644500\", \"-73.7774050\", \"-74.0166700\", \"-73.8697100\", \"-73.9110600\", \"-73.7894300\", \"-73.8608100\", \"-73.8715740\", \"-73.8666000\", \"-74.1570900\", \"-73.7961600\", \"-73.7575000\", \"-73.7440100\", \"-73.8972000\", \"-73.7409900\", \"-74.1554400\", \"-74.0083800\", \"-73.7702200\", \"-73.7363000\", \"-73.7747000\", \"-73.8484000\", \"-73.8808400\", \"-74.1530500\", \"-73.8877300\", \"-73.7311250\", \"-73.7791900\", \"-73.8508700\", \"-73.7552000\", \"-73.8671700\", \"-73.7448300\", \"-73.8782200\", \"-73.7437800\", \"-73.7488860\", \"-73.8757000\", \"-74.0237200\", \"-73.7604300\", \"-73.7474600\", \"-73.7405900\", \"-73.8806150\", \"-73.8198400\", \"-73.8761600\", \"-74.1406860\", \"-73.8676800\", \"-73.8193200\", \"-73.7772400\", \"-74.1221800\", \"-73.7815600\", \"-73.7706600\", \"-73.8644600\", \"-73.8365300\", \"-73.9061200\", \"-73.9982600\", \"-73.8900400\", \"-73.8538600\", \"-73.8445900\", \"-74.0117200\", \"-73.7753000\", \"-74.2396100\", \"-74.1528700\", \"-74.1447900\", \"-74.2497600\", \"-73.9048400\", \"-73.7700040\", \"-74.0090900\", \"-73.8714900\", \"-73.8309300\", \"-73.7911900\", \"-73.8881800\", \"-73.7323200\", \"-74.1627300\", \"-74.0115200\", \"-73.7556600\", \"-74.1611900\", \"-73.7687800\", \"-73.8222600\", \"-73.8528440\", \"-73.7809200\", \"-74.1467060\", \"-74.0170300\", \"-73.8086400\", \"-73.8222600\", \"-73.8661040\", \"-73.7469700\", \"-73.8773040\", \"-74.0061800\", \"-73.7395550\", \"-73.8691400\", \"-73.8862800\", \"-73.7759900\", \"-73.8269650\", \"-73.9202900\", \"-73.8012850\", \"-73.7391000\", \"-73.9973450\", \"-73.7622000\", \"-73.7794900\", \"-73.8430900\", \"-73.8407100\", \"-73.7953640\", \"-73.8184600\", \"-73.9860800\", \"-73.7624900\", \"-73.7424300\", \"-73.8841300\", \"-73.8407100\", \"-73.7298600\", \"-73.7636400\", \"-73.8749540\", \"-73.8757000\", \"-73.7632000\", \"-74.0117200\", \"-73.7609300\", \"-73.7702200\", \"-73.7576400\", \"-73.7826600\", \"-73.7310200\", \"-73.7492700\", \"-73.8343300\", \"-74.0110900\", \"-73.8222500\", \"-73.8431300\", \"-73.8388700\", \"-73.9252900\", \"-73.8549700\", \"-73.7896700\", \"-73.7704100\", \"-73.8026350\", \"-73.7600100\", \"-73.8697100\", \"-73.7734760\", \"-73.7611850\", \"-73.7696800\", \"-73.8713100\", \"-74.1602900\", \"-73.7596100\", \"-73.8937200\", \"-74.1803300\", \"-73.7771100\", \"-73.9288940\", \"-73.8636250\", \"-73.9988600\", \"-73.8693900\", \"-73.7745060\", \"-73.7472000\", \"-73.7393950\", \"-74.1947500\", \"-73.7340400\", \"-73.8973300\", \"-74.1386700\", \"-74.0004350\", \"-74.0239640\", \"-74.0023200\", \"-73.7632000\", \"-73.7343800\", \"-73.8021700\", \"-73.7688750\", \"-74.1320500\", \"-74.1749200\", \"-73.7806300\", \"-73.8596600\", \"-74.0293100\", \"-73.7846500\", \"-73.8971600\", \"-73.7743600\", \"-73.7644650\", \"-73.8394000\", \"-73.7581560\", \"-73.7400300\", \"-73.8536700\", \"-73.7778300\", \"-73.8693900\", \"-73.8672560\", \"-74.1505100\", \"-73.8437300\", \"-74.0346500\", \"-73.8697100\", \"-74.1756200\", \"-73.7894100\", \"-73.8709600\", \"-73.8817900\", \"-73.7989900\", \"-73.8018600\", \"-74.1494300\", \"-74.1676250\", \"-73.8809700\", \"-73.7266800\", \"-73.7389900\", \"-73.7608600\", \"-73.8366500\", \"-73.7983400\", \"-73.7709800\", \"-73.7636400\", \"-73.7329250\", \"-74.0109100\", \"-73.7654000\", \"-73.7380300\", \"-73.7537840\", \"-73.7737900\", \"-73.7609600\", \"-73.7580200\", \"-73.8336640\", \"-73.7542800\", \"-73.7395550\", \"-73.7917100\", \"-73.8017800\", \"-73.7917100\", \"-73.7538300\", \"-73.7774050\", \"-73.8737260\", \"-73.8520660\", \"-73.8044400\", \"-73.8716100\", \"-73.7580300\", \"-73.7889560\", \"-73.7799450\", \"-74.1623900\", \"-73.8139200\", \"-73.8558500\", \"-74.0301800\", \"-74.1403600\", \"-73.7517700\", \"-73.8468600\", \"-73.7811000\", \"-73.8748400\", \"-73.7806300\", \"-73.8817300\", \"-73.7299900\", \"-73.8686450\", \"-74.0357200\", \"-74.1559400\", \"-73.7804900\", \"-73.7692700\", \"-73.8774800\", \"-73.7757340\", \"-73.7637600\", \"-73.7509900\", \"-73.7293850\", \"-73.7311500\", \"-73.7914700\", \"-74.1660300\", \"-73.7395550\", \"-73.7806300\", \"-73.7304800\", \"-73.7311800\", \"-73.7607350\", \"-73.7488000\", \"-73.7792050\", \"-73.7484500\", \"-74.1386700\", \"-73.8996900\", \"-73.7682650\", \"-73.8307700\", \"-73.8809100\", \"-74.1653500\", \"-73.7422100\", \"-73.8791350\", \"-73.7846800\", \"-73.8393300\", \"-73.7411000\", \"-73.8679350\", \"-73.7741100\", \"-73.7299000\", \"-73.7710600\", \"-74.1325150\", \"-74.1163700\", \"-73.8832600\", \"-73.7729300\", \"-74.1326500\", \"-73.8758400\", \"-73.8965800\", \"-73.7888640\", \"-73.7528600\", \"-73.8721160\", \"-73.9945900\", \"-73.9914600\", \"-73.8716000\", \"-73.7557300\", \"-73.7292250\", \"-73.7430800\", \"-73.9288500\", \"-73.9127600\", \"-73.7487500\", \"-73.8388700\", \"-73.8128600\", \"-73.8605500\", \"-73.7803960\", \"-73.8485900\", \"-74.0024700\", \"-73.8699100\", \"-73.7395600\", \"-73.7598500\", \"-73.8398740\", \"-73.8222900\", \"-73.7586500\", \"-73.8714900\", \"-73.8725700\", \"-74.0009200\", \"-73.7493500\", \"-73.7685800\", \"-74.1322200\", \"-74.0155000\", \"-73.7657900\", \"-74.1627000\", \"-73.9252900\", \"-73.7353440\", \"-73.8651800\", \"-73.7823260\", \"-73.7670300\", \"-73.8643900\", \"-73.8186340\", \"-73.7419000\", \"-73.8765200\", \"-73.8477700\", \"-73.7610000\", \"-73.8673000\", \"-73.7718050\", \"-74.0302000\", \"-73.8755700\", \"-73.8703000\", \"-73.8761100\", \"-73.8754800\", \"-73.7609500\", \"-73.9196900\", \"-73.7709800\", \"-73.7427440\", \"-74.0311800\", \"-73.7820100\", \"-73.7702200\", \"-73.9283400\", \"-74.1896060\", \"-73.7655700\", \"-73.7745060\", \"-73.7516000\", \"-73.7547300\", \"-73.7348560\", \"-73.8516500\", \"-73.7576400\", \"-73.7503360\", \"-73.8774300\", \"-73.7673600\", \"-73.7392600\", \"-73.7734760\", \"-73.8532400\", \"-73.7571100\", \"-73.7639400\", \"-73.8222600\", \"-73.7540400\", \"-73.8750900\", \"-73.8618000\", \"-73.7487950\", \"-73.7327300\", \"-73.7403000\", \"-73.7601900\", \"-74.1389200\", \"-73.8393000\", \"-73.8690700\", \"-73.8424100\", \"-73.9914600\", \"-73.7705500\", \"-73.7512050\", \"-73.7773800\", \"-73.7560200\", \"-74.1412100\", \"-73.9112240\", \"-73.7697500\", \"-73.7382700\", \"-73.8222500\", \"-73.7598500\", \"-73.7338940\", \"-73.7569000\", \"-73.7476400\", \"-73.7417300\", \"-73.8026350\", \"-73.7569350\", \"-73.8810000\", \"-74.1658300\", \"-73.9127040\", \"-73.8681200\", \"-74.0182400\", \"-73.8778800\", \"-73.8555800\", \"-73.8679800\", \"-73.8453200\", \"-73.8765200\", \"-73.7461900\", \"-73.7466100\", \"-73.7523600\", \"-73.8777800\", \"-73.7895500\", \"-74.1465400\", \"-73.7318340\", \"-73.7588800\", \"-73.8638460\", \"-73.7446700\", \"-73.8485900\", \"-74.1705800\", \"-73.7549740\", \"-73.8026350\", \"-73.8506900\", \"-73.7569400\", \"-73.8863600\", \"-73.7700040\", \"-73.8639900\", \"-73.7771000\", \"-73.7616200\", \"-73.8190200\", \"-73.7657700\", \"-73.9226300\", \"-73.7798840\", \"-73.7700040\", \"-73.7607040\", \"-74.2466900\", \"-74.1872400\", \"-73.8373500\", \"-73.8141900\", \"-73.7400700\", \"-73.7924400\", \"-73.8808100\", \"-73.9260940\", \"-73.8751900\", \"-73.7656560\", \"-73.8154400\", \"-73.7348600\", \"-73.8051600\", \"-73.7517700\", \"-73.7487950\", \"-74.1950450\", \"-73.7959440\", \"-74.0032300\", \"-74.0023100\", \"-73.7626200\", \"-74.1666900\", \"-73.7513050\", \"-73.7591250\", \"-74.0012100\", \"-73.7687900\", \"-73.8780440\", \"-73.7737200\", \"-73.7809200\", \"-73.7687900\", \"-73.7407700\", \"-74.1373750\", \"-73.8729550\", \"-73.7338500\", \"-73.8027000\", \"-73.7281900\", \"-73.9944000\", \"-73.8916550\", \"-73.8632900\", \"-73.7730500\", \"-73.8495500\", \"-73.7632500\", \"-73.7631800\", \"-74.1526260\", \"-73.7702200\", \"-73.7304700\", \"-73.7754750\", \"-73.9080800\", \"-73.7799600\", \"-74.1599800\", \"-73.8848400\", \"-73.7782800\", \"-73.7528300\", \"-73.8777700\", \"-74.1914400\", \"-74.1439400\", \"-73.9217200\", \"-73.7616200\", \"-73.7531900\", \"-73.7791200\", \"-73.7308500\", \"-73.8437100\", \"-73.7272800\", \"-73.8191000\", \"-73.7510900\", \"-73.7354700\", \"-73.8152500\", \"-73.7520000\", \"-73.8837600\", \"-73.8186500\", \"-73.7381500\", \"-73.7264900\", \"-73.7700040\", \"-73.8643000\", \"-73.7494800\", \"-73.7407300\", \"-74.1613400\", \"-73.8859300\", \"-73.7673600\", \"-73.7648240\", \"-74.1662450\", \"-73.7459950\", \"-73.7802300\", \"-73.8827200\", \"-73.7298600\", \"-74.1247250\", \"-73.8456600\", \"-73.7349200\", \"-73.8077850\", \"-74.1585160\", \"-73.7454800\", \"-73.8664300\", \"-73.7450100\", \"-73.8837900\", \"-73.8488500\", \"-73.9127040\", \"-73.7541000\", \"-73.8777500\", \"-73.8709500\", \"-73.8521700\", \"-73.7770200\", \"-73.9223000\", \"-74.1469200\", \"-73.8421400\", \"-73.7638400\", \"-73.8614000\", \"-73.7555850\", \"-73.7581560\", \"-73.8725740\", \"-74.1523800\", \"-73.8796900\", \"-73.8609700\", \"-73.7742160\", \"-73.7486300\", \"-74.0073200\", \"-73.7609300\", \"-73.7388700\", \"-73.7913500\", \"-73.7524800\", \"-73.7752400\", \"-73.7624300\", \"-74.1668900\", \"-73.7762900\", \"-73.8476800\", \"-74.1612550\", \"-73.7392100\", \"-73.7619550\", \"-73.7486500\", \"-74.0263060\", \"-73.7772800\", \"-73.7694550\", \"-73.8775250\", \"-73.8398740\", \"-73.9977600\", \"-73.7783700\", \"-73.9288940\", \"-73.8239400\", \"-73.8721160\", \"-73.8147400\", \"-73.7693500\", \"-73.8825800\", \"-74.1698400\", \"-73.8552860\", \"-73.7776300\", \"-73.8142900\", \"-73.8705500\", \"-73.8422300\", \"-74.1603400\", \"-74.1530800\", \"-74.0009200\", \"-73.7587300\", \"-73.7737660\", \"-73.7706600\", \"-73.9014050\", \"-73.7448300\", \"-74.1361000\", \"-73.7610900\", \"-73.7458950\", \"-73.8154800\", \"-73.7571100\", \"-73.8220140\", \"-74.2328300\", \"-73.7375300\", \"-73.7914700\", \"-73.7663400\", \"-73.8235240\", \"-73.7325400\", \"-74.2351150\", \"-73.8148200\", \"-73.7446700\", \"-73.8809000\", \"-73.9006700\", \"-73.7981400\", \"-73.8445900\", \"-73.7394000\", \"-73.7465400\", \"-73.8449500\", \"-73.7488000\", \"-73.7628200\", \"-73.7799450\", \"-73.7573240\", \"-73.7709400\", \"-73.8336640\", \"-73.7423250\", \"-73.8150300\", \"-73.8398200\", \"-73.8346560\", \"-73.8243560\", \"-73.8608100\", \"-73.7903100\", \"-73.8555800\", \"-73.8965000\", \"-73.8837300\", \"-73.7812800\", \"-73.7782200\", \"-73.8517600\", \"-73.8205640\", \"-73.8714900\", \"-73.7588700\", \"-74.1557900\", \"-73.9130300\", \"-73.9914600\", \"-73.7303200\", \"-74.1323100\", \"-74.0026500\", \"-73.8421400\", \"-74.1309500\", \"-73.7609560\", \"-73.8508700\", \"-73.8170200\", \"-73.7298600\", \"-73.8190500\", \"-73.7369400\", \"-73.7812350\", \"-74.1685000\", \"-74.1440300\", \"-74.1670800\", \"-73.7608600\", \"-73.7492800\", \"-73.8036000\", \"-73.7608600\", \"-73.7605000\", \"-73.7576400\", \"-74.1605100\", \"-73.7770400\", \"-74.0031050\", \"-73.9990000\", \"-74.1412100\", \"-73.7430340\", \"-73.7508240\", \"-73.8936900\", \"-73.8661040\", \"-73.8944600\", \"-73.9080800\", \"-73.8705800\", \"-73.9962700\", \"-73.8761600\", \"-73.8141900\", \"-73.7517700\", \"-73.8824900\", \"-73.9033360\", \"-73.8740600\", \"-73.8806100\", \"-73.8605500\", \"-73.7436500\", \"-73.8271200\", \"-73.8103300\", \"-73.7557100\", \"-73.8526600\", \"-73.7512200\", \"-74.1380400\", \"-73.7246900\", \"-73.8387100\", \"-73.7629500\", \"-73.8950040\", \"-73.8488850\", \"-73.7796250\", \"-73.8653600\", \"-73.8153200\", \"-73.8126450\", \"-74.0203550\", \"-74.0028460\", \"-73.8113900\", \"-73.7353440\", \"-73.8421300\", \"-73.7700040\", \"-73.8531400\", \"-73.8706900\", \"-73.7796250\", \"-73.8485900\", \"-74.0023100\", \"-73.7523650\", \"-73.8557740\", \"-73.8492900\", \"-73.7472840\", \"-73.8965000\", \"-73.8691800\", \"-73.8727600\", \"-73.8608100\", \"-73.7837900\", \"-73.7479300\", \"-73.7245200\", \"-74.0090900\", \"-73.8468600\", \"-73.7335050\", \"-73.8662340\", \"-74.1602000\", \"-73.7917100\", \"-73.8687000\", \"-73.8768600\", \"-73.7693000\", \"-73.7757200\", \"-73.7578350\", \"-73.8239400\", \"-73.8254400\", \"-73.8859300\", \"-73.9197100\", \"-73.8244250\", \"-73.7492600\", \"-73.7353440\", \"-73.7616200\", \"-73.8105600\", \"-74.1458400\", \"-73.7990900\", \"-73.9251560\", \"-73.8432700\", \"-73.7939450\", \"-73.7925800\", \"-73.7736360\", \"-73.8516500\", \"-73.8761600\", \"-73.7293850\", \"-73.8978350\", \"-73.8734360\", \"-73.7331160\", \"-73.7549740\", \"-73.8412200\", \"-73.8127300\", \"-73.8424450\", \"-73.7460500\", \"-73.7786400\", \"-73.8541200\", \"-74.1440900\", \"-73.8307600\", \"-74.1457750\", \"-73.8012400\", \"-73.7295100\", \"-73.7974000\", \"-74.1804350\", \"-73.7343100\", \"-73.7857400\", \"-73.7434800\", \"-74.1579400\", \"-73.7592000\", \"-73.7755800\", \"-73.7392100\", \"-73.8553200\", \"-73.8240050\", \"-73.8778800\", \"-73.7335100\", \"-73.7412640\", \"-73.7461850\", \"-73.7293850\", \"-73.7441600\", \"-74.1625400\", \"-73.8766250\", \"-74.2488900\", \"-73.8260700\", \"-73.9973450\", \"-73.7711400\", \"-73.9986800\", \"-73.8774300\", \"-73.8445100\", \"-73.7717900\", \"-73.7747040\", \"-73.7513050\", \"-73.8411800\", \"-73.8761100\", \"-73.7573240\", \"-73.8644560\", \"-73.8250960\", \"-73.8204350\", \"-73.8222500\", \"-73.7610000\", \"-73.7410900\", \"-73.7736600\", \"-73.7637100\", \"-73.8666600\", \"-73.7661300\", \"-73.7395550\", \"-73.7528100\", \"-73.8994200\", \"-73.7521800\", \"-73.7584900\", \"-73.8733700\", \"-73.7471900\", \"-73.8719200\", \"-73.7335100\", \"-74.1590700\", \"-73.7863200\", \"-73.7594600\", \"-73.8445000\", \"-73.7416460\", \"-73.8353900\", \"-74.1453550\", \"-73.7807540\", \"-73.7798600\", \"-74.1733860\", \"-73.7696900\", \"-73.7830200\", \"-73.7767900\", \"-73.7405700\", \"-73.8833540\", \"-74.1533400\", \"-73.8054600\", \"-73.7699400\", \"-73.7798900\", \"-73.7534800\", \"-73.8413240\", \"-74.1216100\", \"-73.7645200\", \"-74.2452300\", \"-73.8541950\", \"-73.7853300\", \"-73.7814250\", \"-73.8328900\", \"-73.9988900\", \"-73.7374040\", \"-73.7781750\", \"-73.7822500\", \"-73.8261500\", \"-73.8449500\", \"-73.9250900\", \"-73.7400700\", \"-73.8685700\", \"-73.8663000\", \"-73.7940200\", \"-73.9288940\", \"-73.8809400\", \"-73.7990200\", \"-73.7329800\", \"-73.7605800\", \"-73.8653600\", \"-73.7386400\", \"-73.9846400\", \"-74.1402500\", \"-73.9247360\", \"-73.9086000\", \"-73.8026350\", \"-73.7465500\", \"-73.7738500\", \"-74.0095200\", \"-73.8396300\", \"-74.1603400\", \"-73.9958900\", \"-73.8467500\", \"-73.8459500\", \"-73.8628300\", \"-73.7880800\", \"-73.8793950\", \"-74.1389200\", \"-73.7266800\", \"-74.0059500\", \"-73.8661040\", \"-74.1469960\", \"-73.8026800\", \"-73.7298500\", \"-73.7523600\", \"-73.7564000\", \"-73.8786300\", \"-73.8453700\", \"-73.9127600\", \"-73.7757600\", \"-73.7511000\", \"-73.7443400\", \"-73.8176800\", \"-73.8723300\", \"-73.8386500\", \"-73.8697100\", \"-74.1767350\", \"-73.7572000\", \"-73.8783400\", \"-73.7461900\", \"-73.7480100\", \"-74.1580050\", \"-73.8380660\", \"-73.8185400\", \"-74.1698400\", \"-73.8849000\", \"-73.7804640\", \"-73.7539750\", \"-74.0076300\", \"-73.7783500\", \"-73.7414800\", \"-74.1492500\", \"-73.8527760\", \"-73.8445360\", \"-73.7815800\", \"-73.8779600\", \"-73.8609000\", \"-73.7322600\", \"-73.8591100\", \"-73.8403000\", \"-73.8458200\", \"-74.0004650\", \"-73.8680500\", \"-73.7502700\", \"-73.7310400\", \"-73.8198400\", \"-73.7306750\", \"-73.7310000\", \"-73.8775250\", \"-73.7381060\", \"-73.7317900\", \"-73.9126000\", \"-73.8017800\", \"-73.8494300\", \"-73.8660500\", \"-73.7484500\", \"-73.7617650\", \"-73.8718800\", \"-73.7857400\", \"-73.8524900\", \"-73.7512700\", \"-73.8782400\", \"-73.8457400\", \"-73.7607960\", \"-73.7574100\", \"-73.8504400\", \"-73.7738340\", \"-73.7702200\", \"-74.1862300\", \"-73.7673600\", \"-73.7238540\", \"-73.7701100\", \"-73.8141900\", \"-73.7832100\", \"-73.8708400\", \"-73.7513050\", \"-74.2001700\", \"-73.7411650\", \"-73.8809050\", \"-73.7340400\", \"-73.9969250\", \"-74.0313900\", \"-73.7470860\", \"-74.1977300\", \"-73.8383560\", \"-74.1498700\", \"-73.7421500\", \"-73.7782200\", \"-74.0139160\", \"-73.7617500\", \"-74.1304550\", \"-73.7393800\", \"-73.7925800\", \"-74.1604600\", \"-73.7550200\", \"-73.7738340\", \"-73.8193200\", \"-73.9265100\", \"-73.7579100\", \"-74.1317900\", \"-73.8414150\", \"-73.7688300\", \"-73.7594500\", \"-73.8186300\", \"-73.7917100\", \"-73.7271000\", \"-73.8748400\", \"-73.8766100\", \"-73.8581850\", \"-73.7436000\", \"-74.1320500\", \"-74.0026500\", \"-73.8379200\", \"-73.8596000\", \"-73.7846600\", \"0E-7\", \"-73.9968000\", \"-73.8766250\", \"-73.8180300\", \"-74.1946200\", \"0E-7\", \"-73.7623900\", \"-73.7600700\", \"-73.8421400\", \"-73.8524900\", \"-73.7704100\", \"-73.7346040\", \"-73.8042500\", \"-73.8171200\", \"-73.7713400\", \"-73.8310300\", \"-74.1799000\", \"-73.7568800\", \"-73.8431550\", \"-73.7722100\", \"-73.8847700\", \"-74.1483150\", \"-73.8739500\", \"-74.0299150\", \"-74.1691900\", \"-73.7392100\", \"-73.8117300\", \"-73.7555850\", \"-73.7609560\", \"-73.8190200\", \"-73.7736500\", \"-73.8648700\", \"-74.1732800\", \"-73.7972600\", \"-73.7548500\", \"-73.7671360\", \"-74.1408600\", \"-73.8265840\", \"-73.9215700\", \"-74.0255900\", \"-73.8740600\", \"-74.1576700\", \"-73.8657700\", \"-73.8431300\", \"-73.7796000\", \"-73.7315000\", \"-73.8480500\", \"-73.7615360\", \"-73.7269700\", \"-73.7787550\", \"-73.8128600\", \"-73.7624360\", \"-73.7761300\", \"-74.0055300\", \"-73.9936900\", \"-73.8773500\", \"-73.7281000\", \"-73.8222600\", \"-73.8691400\", \"-73.8032500\", \"-73.8459800\", \"-73.8795400\", \"-73.7657550\", \"-73.8175700\", \"-74.1200560\", \"-74.1459500\", \"-73.7907000\", \"-73.7627700\", \"-73.8336640\", \"-73.7666700\", \"-73.7610000\", \"-73.7798900\", \"-73.7611700\", \"-73.7857400\", \"-73.7454600\", \"-73.7553200\", \"-73.9956000\", \"-73.8728500\", \"-73.9854600\", \"-74.1272600\", \"-73.8635560\", \"-73.7738340\", \"-73.8703000\", \"-74.0100560\", \"-73.7335100\", \"-73.7610700\", \"-74.0102540\", \"-73.8431800\", \"-73.8663000\", \"-73.7614200\", \"-74.1522900\", \"-74.1635100\", \"-73.7843900\", \"-73.8292160\", \"-73.8208850\", \"-73.9914600\", \"-73.8175500\", \"-73.7576400\", \"-73.8809360\", \"-74.0071200\", \"-73.8628400\", \"-73.7413400\", \"-73.7581100\", \"-73.7657000\", \"-73.7326300\", \"-73.7837140\", \"-74.1759000\", \"-73.7888640\", \"-73.7937600\", \"-73.7427100\", \"-73.8716050\", \"-73.7972800\", \"-73.7676800\", \"-74.1554400\", \"-73.8103300\", \"-73.8503500\", \"-73.7518540\", \"-73.8767800\", \"-73.7670300\", \"-73.7576400\", \"-73.7623600\", \"-74.1495600\", \"-73.8717600\", \"-73.7593300\", \"-74.1627000\", \"-73.8266200\", \"-73.7409500\", \"-73.8428040\", \"-73.7624360\", \"-73.8460850\", \"-73.8184600\", \"-73.8790800\", \"-73.8393800\", \"-73.7384200\", \"-73.8738600\", \"-74.0263700\", \"-73.7882460\", \"-73.7560900\", \"-73.8157100\", \"-74.1638950\", \"-73.7650900\", \"-73.7540400\", \"-73.8195340\", \"-73.8677400\", \"-73.8733140\", \"-73.8782400\", \"-74.0166700\", \"-73.7557100\", \"-74.1444500\", \"-73.7435460\", \"-73.8108600\", \"-73.7588040\", \"-73.7688100\", \"-73.7293850\", \"-73.7298100\", \"-73.7414800\", \"-73.8531700\", \"-73.7553900\", \"-74.0277100\", \"-73.7267400\", \"-74.1690200\", \"-73.7632000\", \"-73.8479300\", \"-73.8448600\", \"-73.8409500\", \"-73.7528840\", \"-74.1566540\", \"-73.7794340\", \"-73.8169500\", \"-73.7310800\", \"-74.1668900\", \"-74.1601700\", \"-73.8496200\", \"-73.8495500\", \"-73.7663700\", \"-73.8732760\", \"-73.7631700\", \"-73.8966000\", \"-73.7465440\", \"-73.7353440\", \"-73.9160300\", \"-74.0027600\", \"-73.9196900\", \"-74.1623900\", \"-74.0292900\", \"-73.7355400\", \"-73.7282600\", \"-73.8020500\", \"-73.8930740\", \"-73.7697500\", \"-73.9080800\", \"-74.0117200\", \"-73.7617500\", \"-74.0155000\", \"-73.8565440\", \"-73.8579100\", \"-73.8881800\", \"-73.8609160\", \"-73.7554900\", \"-74.1623900\", \"-73.7495100\", \"-73.8302200\", \"-73.7272800\", \"-73.7429800\", \"-74.0322000\", \"-73.8233900\", \"-73.7772000\", \"-74.1446800\", \"-73.7555100\", \"-73.8302600\", \"-73.7282600\", \"-73.7962950\", \"-73.7609300\", \"-73.9999540\", \"-73.8843460\", \"-73.8617200\", \"-73.8410500\", \"-73.8583200\", \"-73.7675250\", \"-73.8738100\", \"-73.7784300\", \"-73.7610000\", \"-73.7778240\", \"-74.1558600\", \"-73.7414800\", \"-73.8437100\", \"-74.2018600\", \"-73.7350400\", \"-73.9252550\", \"-74.1457750\", \"-73.7671360\", \"-73.7682000\", \"-73.7775650\", \"-73.8608100\", \"-73.7641200\", \"-73.8018600\", \"-74.1596150\", \"-73.7747000\", \"-73.7679000\", \"-73.7717900\", \"-73.7395550\", \"-73.8686140\", \"-73.7690700\", \"-73.7650300\", \"-73.7491600\", \"-73.7468100\", \"-74.1304100\", \"-73.7453800\", \"-73.7476500\", \"-73.7350400\", \"-73.7318800\", \"-73.7792740\", \"-73.8805000\", \"-74.1533400\", \"-73.7722100\", \"-73.7536200\", \"-73.8443200\", \"-73.8981000\", \"-73.8239400\", \"-73.7623440\", \"-74.0120300\", \"-74.1574100\", \"-73.9976350\", \"-73.7715500\", \"-73.7523700\", \"-74.1414400\", \"-73.8334600\", \"-73.7983700\", \"-74.1628600\", \"-73.7512600\", \"-73.9380500\", \"-73.7758700\", \"-74.0023100\", \"-73.7739640\", \"-73.8200760\", \"-74.1970500\", \"-74.1629640\", \"-73.8847700\", \"-73.9977600\", \"-73.8263900\", \"-73.8633200\", \"-73.7286700\", \"-73.7558400\", \"-74.1814040\", \"-73.7624050\", \"-73.8094200\", \"-73.9917760\", \"-73.8751900\", \"-73.8437960\", \"-73.7611100\", \"-73.8193700\", \"-73.8753000\", \"-73.7295800\", \"-73.8103300\", \"-73.8835140\", \"-73.9975200\", \"-73.8105600\"], \"name\": \"\", \"radius\": 8, \"subplot\": \"mapbox\", \"type\": \"densitymapbox\"}, {\"hovertemplate\": \"capacity=%{marker.size}<br>name=%{text}<br>latitude=%{lat}<br>longitude=%{lon}<extra></extra>\", \"lat\": [40.84348984739682, 40.83142876488179, 40.848059524296055, 40.85568655396233, 40.81675769880821, 40.8498496292291, 40.880828056610234, 40.840707344128425, 40.893517718763405, 40.88048615007653, 40.85337772916848, 40.65491846463238, 40.69057965481238, 40.585645970507926, 40.67843021053433, 40.656686551383224, 40.659574215904684, 40.64667161679278, 40.63950693380259, 40.61873121403783, 40.61391396173966, 40.66782845166711, 40.690002595723904, 40.69043352049397, 40.655089742874665, 40.699488036608805, 40.70420197722319, 40.73874694182294, 40.75760723115322, 40.814123532751616, 40.80299712174222, 40.765108666479435, 40.73771480651282, 40.77365334626779, 40.764374674631455, 40.78505397397865, 40.73332734064887, 40.78987464729508, 40.76969584616553, 40.80569555361154, 40.73188392497343, 40.873227421595, 40.840696082969366, 40.764453245236844, 40.710357701836905, 40.73439514871634, 40.742139177884276, 40.76254627225295, 40.74512101423679, 40.75561323005755, 40.72903352450227, 40.7005057752842, 40.75292723318126, 40.76805542814507, 40.747180508981685, 40.7177364216317, 40.59865531058224, 40.635876540798016, 40.62257417575695, 40.60284640058876, 40.58451612059963, 40.516978800451795], \"legendgroup\": \"\", \"lon\": [-73.9110103877187, -73.90317782803042, -73.84365561299151, -73.84531138280727, -73.92447845294292, -73.84610932136209, -73.87994733604533, -73.8484434844751, -73.86122475983386, -73.88108707078342, -73.89037489167946, -73.9123791741448, -73.97793163176702, -73.96486850038322, -73.93759250176674, -73.94383353874257, -73.93380403563673, -74.02122142087823, -73.99870645745953, -73.94297936911907, -73.9484978425456, -73.97913592381343, -73.99743259117099, -73.99725588378374, -73.94518999648369, -73.9427660419906, -73.91756211820649, -73.9753427823785, -73.95260272039623, -73.93976651076436, -73.94112025542181, -73.9527273412189, -74.00087325540062, -73.96085559969245, -73.95679987256894, -73.94496023523027, -73.98234480428712, -73.95326589972156, -73.98688765825308, -73.96147972367363, -73.98461112231631, -73.91294845848223, -73.94163622952348, -73.9541429039059, -74.00501014024093, -73.98300123444983, -73.97408207907505, -73.95573615593123, -73.88564131742412, -73.81687376203057, -73.85154781041423, -73.81632908384934, -73.70931586733064, -73.92484415217665, -73.8251651922932, -73.80567939252272, -73.75348752144086, -74.10556032526767, -74.07561522684486, -74.09195676300882, -74.08549793485295, -74.19614316989768], \"marker\": {\"color\": \"#636efa\", \"opacity\": 0.9, \"size\": [415.0, 164.0, 225.0, 457.0, 362.0, 424.0, 779.0, 373.5, 309.0, 213.0, 422.0, 530.0, 464.0, 371.0, 287.0, 639.0, 318.0, 450.0, 711.0, 212.0, 134.0, 591.0, 373.5, 506.0, 376.0, 388.0, 324.0, 912.0, 210.0, 282.0, 201.0, 205.0, 2.0, 632.0, 514.0, 338.0, 856.0, 1171.0, 514.0, 478.0, 69.0, 201.0, 995.0, 862.0, 180.0, 225.0, 844.0, 40.0, 545.0, 299.0, 312.0, 431.0, 1025.0, 235.0, 535.0, 247.0, 257.0, 448.0, 25.0, 51.0, 508.0, 206.0], \"sizemode\": \"area\", \"sizeref\": 2.9275}, \"mode\": \"markers+text\", \"name\": \"\", \"showlegend\": false, \"subplot\": \"mapbox\", \"text\": [\"Bronx-Lebanon Hospital Center - Concourse Division\", \"Bronx-Lebanon Hospital Center - Fulton Division\", \"Calvary Hospital Inc\", \"Jacobi Medical Center\", \"Lincoln Medical & Mental Health Center\", \"Montefiore Med Center - Jack D Weiler Hosp Of A Einstein College Div\", \"Montefiore Medical Center - Henry & Lucy Moses Div\", \"Montefiore Medical Center - Montefiore Westchester Square\", \"Montefiore Medical Center-Wakefield Hospital\", \"North Central Bronx Hospital\", \"Sbh Health System\", \"Brookdale Hospital Medical Center\", \"Brooklyn Hospital Center - Downtown Campus\", \"Coney Island Hospital\", \"Interfaith Medical Center\", \"Kings County Hospital Center\", \"Kingsbrook Jewish Medical Center\", \"Lutheran Medical Center\", \"Maimonides Medical Center\", \"Mount Sinai Beth Israel Brooklyn\", \"New York Community Hospital Of Brooklyn, Inc\", \"New York Methodist Hospital\", \"Nyulmc - Cobble Hill\", \"Suny Downstate Medical Center At Lich\", \"University Hospital Of Brooklyn\", \"Woodhull Medical & Mental Health Center\", \"Wyckoff Heights Medical Center\", \"Bellevue Hospital Center\", \"Coler-Goldwater Specialty Hospital & Nursing Facility - Coler Hospital Site\", \"Harlem Hospital Center\", \"Henry J. Carter Specialty Hospital\", \"Hospital For Special Surgery\", \"Lenox Hill Healthplex\", \"Lenox Hill Hospital\", \"Memorial Hospital For Cancer And Allied Diseases\", \"Metropolitan Hospital Center\", \"Mount Sinai Beth Israel\", \"Mount Sinai Hospital\", \"Mount Sinai Roosevelt\", \"Mount Sinai St. Luke'S\", \"New York Eye And Ear Infirmary Of Mount Sinai\", \"New York Presbyterian Hospital - Allen Hospital\", \"New York Presbyterian Hospital - Columbia Presbyterian Center\", \"New York Presbyterian Hospital - New York Weill Cornell Center\", \"New York-Presbyterian/Lower Manhattan Hospital\", \"Nyu Hospital For Joint Diseases\", \"Nyu Hospitals Center\", \"Rockefeller University Hospital\", \"Elmhurst Hospital Center\", \"Flushing Hospital Medical Center\", \"Forest Hills Hospital\", \"Jamaica Hospital Medical Center\", \"Long Island Jewish Medical Center\", \"Mount Sinai Hospital - Mount Sinai Hospital Of Queens\", \"New York Hospital Medical Center Of Queens\", \"Queens Hospital Center\", \"St Johns Episcopal Hospital So Shore\", \"Richmond University Medical Center\", \"Rumc-Bayley Seton\", \"Staten Island Univ Hosp-Concord Div\", \"Staten Island University Hosp-North\", \"Staten Island University Hosp-South\"], \"type\": \"scattermapbox\"}],\n",
       "                        {\"coloraxis\": {\"cmax\": 5, \"cmin\": 0, \"colorscale\": [[0.0, \"#0d0887\"], [0.1111111111111111, \"#46039f\"], [0.2222222222222222, \"#7201a8\"], [0.3333333333333333, \"#9c179e\"], [0.4444444444444444, \"#bd3786\"], [0.5555555555555556, \"#d8576b\"], [0.6666666666666666, \"#ed7953\"], [0.7777777777777778, \"#fb9f3a\"], [0.8888888888888888, \"#fdca26\"], [1.0, \"#f0f921\"]]}, \"legend\": {\"tracegroupgap\": 0}, \"mapbox\": {\"center\": {\"lat\": 40.71, \"lon\": -74}, \"domain\": {\"x\": [0.0, 1.0], \"y\": [0.0, 1.0]}, \"style\": \"open-street-map\", \"zoom\": 8.9}, \"margin\": {\"t\": 60}, \"template\": {\"data\": {\"bar\": [{\"error_x\": {\"color\": \"#2a3f5f\"}, \"error_y\": {\"color\": \"#2a3f5f\"}, \"marker\": {\"line\": {\"color\": \"#E5ECF6\", \"width\": 0.5}}, \"type\": \"bar\"}], \"barpolar\": [{\"marker\": {\"line\": {\"color\": \"#E5ECF6\", \"width\": 0.5}}, \"type\": \"barpolar\"}], \"carpet\": [{\"aaxis\": {\"endlinecolor\": \"#2a3f5f\", \"gridcolor\": \"white\", \"linecolor\": \"white\", \"minorgridcolor\": \"white\", \"startlinecolor\": \"#2a3f5f\"}, \"baxis\": {\"endlinecolor\": \"#2a3f5f\", \"gridcolor\": \"white\", \"linecolor\": \"white\", \"minorgridcolor\": \"white\", \"startlinecolor\": \"#2a3f5f\"}, \"type\": \"carpet\"}], \"choropleth\": [{\"colorbar\": {\"outlinewidth\": 0, \"ticks\": \"\"}, \"type\": \"choropleth\"}], \"contour\": [{\"colorbar\": {\"outlinewidth\": 0, \"ticks\": \"\"}, \"colorscale\": [[0.0, \"#0d0887\"], [0.1111111111111111, \"#46039f\"], [0.2222222222222222, \"#7201a8\"], [0.3333333333333333, \"#9c179e\"], [0.4444444444444444, \"#bd3786\"], [0.5555555555555556, \"#d8576b\"], [0.6666666666666666, \"#ed7953\"], [0.7777777777777778, \"#fb9f3a\"], [0.8888888888888888, \"#fdca26\"], [1.0, \"#f0f921\"]], \"type\": \"contour\"}], \"contourcarpet\": [{\"colorbar\": {\"outlinewidth\": 0, \"ticks\": \"\"}, \"type\": \"contourcarpet\"}], \"heatmap\": [{\"colorbar\": {\"outlinewidth\": 0, \"ticks\": \"\"}, \"colorscale\": [[0.0, \"#0d0887\"], [0.1111111111111111, \"#46039f\"], [0.2222222222222222, \"#7201a8\"], [0.3333333333333333, \"#9c179e\"], [0.4444444444444444, \"#bd3786\"], [0.5555555555555556, \"#d8576b\"], [0.6666666666666666, \"#ed7953\"], [0.7777777777777778, \"#fb9f3a\"], [0.8888888888888888, \"#fdca26\"], [1.0, \"#f0f921\"]], \"type\": \"heatmap\"}], \"heatmapgl\": [{\"colorbar\": {\"outlinewidth\": 0, \"ticks\": \"\"}, \"colorscale\": [[0.0, \"#0d0887\"], [0.1111111111111111, \"#46039f\"], [0.2222222222222222, \"#7201a8\"], [0.3333333333333333, \"#9c179e\"], [0.4444444444444444, \"#bd3786\"], [0.5555555555555556, \"#d8576b\"], [0.6666666666666666, \"#ed7953\"], [0.7777777777777778, \"#fb9f3a\"], [0.8888888888888888, \"#fdca26\"], [1.0, \"#f0f921\"]], \"type\": \"heatmapgl\"}], \"histogram\": [{\"marker\": {\"colorbar\": {\"outlinewidth\": 0, \"ticks\": \"\"}}, \"type\": \"histogram\"}], \"histogram2d\": [{\"colorbar\": {\"outlinewidth\": 0, \"ticks\": \"\"}, \"colorscale\": [[0.0, \"#0d0887\"], [0.1111111111111111, \"#46039f\"], [0.2222222222222222, \"#7201a8\"], [0.3333333333333333, \"#9c179e\"], [0.4444444444444444, \"#bd3786\"], [0.5555555555555556, \"#d8576b\"], [0.6666666666666666, \"#ed7953\"], [0.7777777777777778, \"#fb9f3a\"], [0.8888888888888888, \"#fdca26\"], [1.0, \"#f0f921\"]], \"type\": \"histogram2d\"}], \"histogram2dcontour\": [{\"colorbar\": {\"outlinewidth\": 0, \"ticks\": \"\"}, \"colorscale\": [[0.0, \"#0d0887\"], [0.1111111111111111, \"#46039f\"], [0.2222222222222222, \"#7201a8\"], [0.3333333333333333, \"#9c179e\"], [0.4444444444444444, \"#bd3786\"], [0.5555555555555556, \"#d8576b\"], [0.6666666666666666, \"#ed7953\"], [0.7777777777777778, \"#fb9f3a\"], [0.8888888888888888, \"#fdca26\"], [1.0, \"#f0f921\"]], \"type\": \"histogram2dcontour\"}], \"mesh3d\": [{\"colorbar\": {\"outlinewidth\": 0, \"ticks\": \"\"}, \"type\": \"mesh3d\"}], \"parcoords\": [{\"line\": {\"colorbar\": {\"outlinewidth\": 0, \"ticks\": \"\"}}, \"type\": \"parcoords\"}], \"pie\": [{\"automargin\": true, \"type\": \"pie\"}], \"scatter\": [{\"marker\": {\"colorbar\": {\"outlinewidth\": 0, \"ticks\": \"\"}}, \"type\": \"scatter\"}], \"scatter3d\": [{\"line\": {\"colorbar\": {\"outlinewidth\": 0, \"ticks\": \"\"}}, \"marker\": {\"colorbar\": {\"outlinewidth\": 0, \"ticks\": \"\"}}, \"type\": \"scatter3d\"}], \"scattercarpet\": [{\"marker\": {\"colorbar\": {\"outlinewidth\": 0, \"ticks\": \"\"}}, \"type\": \"scattercarpet\"}], \"scattergeo\": [{\"marker\": {\"colorbar\": {\"outlinewidth\": 0, \"ticks\": \"\"}}, \"type\": \"scattergeo\"}], \"scattergl\": [{\"marker\": {\"colorbar\": {\"outlinewidth\": 0, \"ticks\": \"\"}}, \"type\": \"scattergl\"}], \"scattermapbox\": [{\"marker\": {\"colorbar\": {\"outlinewidth\": 0, \"ticks\": \"\"}}, \"type\": \"scattermapbox\"}], \"scatterpolar\": [{\"marker\": {\"colorbar\": {\"outlinewidth\": 0, \"ticks\": \"\"}}, \"type\": \"scatterpolar\"}], \"scatterpolargl\": [{\"marker\": {\"colorbar\": {\"outlinewidth\": 0, \"ticks\": \"\"}}, \"type\": \"scatterpolargl\"}], \"scatterternary\": [{\"marker\": {\"colorbar\": {\"outlinewidth\": 0, \"ticks\": \"\"}}, \"type\": \"scatterternary\"}], \"surface\": [{\"colorbar\": {\"outlinewidth\": 0, \"ticks\": \"\"}, \"colorscale\": [[0.0, \"#0d0887\"], [0.1111111111111111, \"#46039f\"], [0.2222222222222222, \"#7201a8\"], [0.3333333333333333, \"#9c179e\"], [0.4444444444444444, \"#bd3786\"], [0.5555555555555556, \"#d8576b\"], [0.6666666666666666, \"#ed7953\"], [0.7777777777777778, \"#fb9f3a\"], [0.8888888888888888, \"#fdca26\"], [1.0, \"#f0f921\"]], \"type\": \"surface\"}], \"table\": [{\"cells\": {\"fill\": {\"color\": \"#EBF0F8\"}, \"line\": {\"color\": \"white\"}}, \"header\": {\"fill\": {\"color\": \"#C8D4E3\"}, \"line\": {\"color\": \"white\"}}, \"type\": \"table\"}]}, \"layout\": {\"annotationdefaults\": {\"arrowcolor\": \"#2a3f5f\", \"arrowhead\": 0, \"arrowwidth\": 1}, \"coloraxis\": {\"colorbar\": {\"outlinewidth\": 0, \"ticks\": \"\"}}, \"colorscale\": {\"diverging\": [[0, \"#8e0152\"], [0.1, \"#c51b7d\"], [0.2, \"#de77ae\"], [0.3, \"#f1b6da\"], [0.4, \"#fde0ef\"], [0.5, \"#f7f7f7\"], [0.6, \"#e6f5d0\"], [0.7, \"#b8e186\"], [0.8, \"#7fbc41\"], [0.9, \"#4d9221\"], [1, \"#276419\"]], \"sequential\": [[0.0, \"#0d0887\"], [0.1111111111111111, \"#46039f\"], [0.2222222222222222, \"#7201a8\"], [0.3333333333333333, \"#9c179e\"], [0.4444444444444444, \"#bd3786\"], [0.5555555555555556, \"#d8576b\"], [0.6666666666666666, \"#ed7953\"], [0.7777777777777778, \"#fb9f3a\"], [0.8888888888888888, \"#fdca26\"], [1.0, \"#f0f921\"]], \"sequentialminus\": [[0.0, \"#0d0887\"], [0.1111111111111111, \"#46039f\"], [0.2222222222222222, \"#7201a8\"], [0.3333333333333333, \"#9c179e\"], [0.4444444444444444, \"#bd3786\"], [0.5555555555555556, \"#d8576b\"], [0.6666666666666666, \"#ed7953\"], [0.7777777777777778, \"#fb9f3a\"], [0.8888888888888888, \"#fdca26\"], [1.0, \"#f0f921\"]]}, \"colorway\": [\"#636efa\", \"#EF553B\", \"#00cc96\", \"#ab63fa\", \"#FFA15A\", \"#19d3f3\", \"#FF6692\", \"#B6E880\", \"#FF97FF\", \"#FECB52\"], \"font\": {\"color\": \"#2a3f5f\"}, \"geo\": {\"bgcolor\": \"white\", \"lakecolor\": \"white\", \"landcolor\": \"#E5ECF6\", \"showlakes\": true, \"showland\": true, \"subunitcolor\": \"white\"}, \"hoverlabel\": {\"align\": \"left\"}, \"hovermode\": \"closest\", \"mapbox\": {\"style\": \"light\"}, \"paper_bgcolor\": \"white\", \"plot_bgcolor\": \"#E5ECF6\", \"polar\": {\"angularaxis\": {\"gridcolor\": \"white\", \"linecolor\": \"white\", \"ticks\": \"\"}, \"bgcolor\": \"#E5ECF6\", \"radialaxis\": {\"gridcolor\": \"white\", \"linecolor\": \"white\", \"ticks\": \"\"}}, \"scene\": {\"xaxis\": {\"backgroundcolor\": \"#E5ECF6\", \"gridcolor\": \"white\", \"gridwidth\": 2, \"linecolor\": \"white\", \"showbackground\": true, \"ticks\": \"\", \"zerolinecolor\": \"white\"}, \"yaxis\": {\"backgroundcolor\": \"#E5ECF6\", \"gridcolor\": \"white\", \"gridwidth\": 2, \"linecolor\": \"white\", \"showbackground\": true, \"ticks\": \"\", \"zerolinecolor\": \"white\"}, \"zaxis\": {\"backgroundcolor\": \"#E5ECF6\", \"gridcolor\": \"white\", \"gridwidth\": 2, \"linecolor\": \"white\", \"showbackground\": true, \"ticks\": \"\", \"zerolinecolor\": \"white\"}}, \"shapedefaults\": {\"line\": {\"color\": \"#2a3f5f\"}}, \"ternary\": {\"aaxis\": {\"gridcolor\": \"white\", \"linecolor\": \"white\", \"ticks\": \"\"}, \"baxis\": {\"gridcolor\": \"white\", \"linecolor\": \"white\", \"ticks\": \"\"}, \"bgcolor\": \"#E5ECF6\", \"caxis\": {\"gridcolor\": \"white\", \"linecolor\": \"white\", \"ticks\": \"\"}}, \"title\": {\"x\": 0.05}, \"xaxis\": {\"automargin\": true, \"gridcolor\": \"white\", \"linecolor\": \"white\", \"ticks\": \"\", \"title\": {\"standoff\": 15}, \"zerolinecolor\": \"white\", \"zerolinewidth\": 2}, \"yaxis\": {\"automargin\": true, \"gridcolor\": \"white\", \"linecolor\": \"white\", \"ticks\": \"\", \"title\": {\"standoff\": 15}, \"zerolinecolor\": \"white\", \"zerolinewidth\": 2}}}},\n",
       "                        {\"responsive\": true}\n",
       "                    ).then(function(){\n",
       "                            \n",
       "var gd = document.getElementById('c0704c0b-5135-41b7-b205-64f8e140b869');\n",
       "var x = new MutationObserver(function (mutations, observer) {{\n",
       "        var display = window.getComputedStyle(gd).display;\n",
       "        if (!display || display === 'none') {{\n",
       "            console.log([gd, 'removed!']);\n",
       "            Plotly.purge(gd);\n",
       "            observer.disconnect();\n",
       "        }}\n",
       "}});\n",
       "\n",
       "// Listen for the removal of the full notebook cells\n",
       "var notebookContainer = gd.closest('#notebook-container');\n",
       "if (notebookContainer) {{\n",
       "    x.observe(notebookContainer, {childList: true});\n",
       "}}\n",
       "\n",
       "// Listen for the clearing of the current output cell\n",
       "var outputEl = gd.closest('.output');\n",
       "if (outputEl) {{\n",
       "    x.observe(outputEl, {childList: true});\n",
       "}}\n",
       "\n",
       "                        })\n",
       "                };\n",
       "                });\n",
       "            </script>\n",
       "        </div>"
      ]
     },
     "metadata": {},
     "output_type": "display_data"
    }
   ],
   "source": [
    "# Plot the uncovered collisions along with the hospital locations\n",
    "fig3 = px.density_mapbox(outside_range\n",
    "                         , lat='latitude'\n",
    "                         , lon='longitude'\n",
    "                         , radius=8\n",
    "                         , center=dict(lat=40.71, lon=-74)\n",
    "                         , zoom=8.9\n",
    "                         , mapbox_style=\"open-street-map\"\n",
    "                         , range_color=(0,5))\n",
    "\n",
    "fig3.add_trace(fig2.data[0])\n",
    "fig3.show()"
   ]
  },
  {
   "cell_type": "code",
   "execution_count": null,
   "metadata": {},
   "outputs": [],
   "source": []
  }
 ],
 "metadata": {
  "kernelspec": {
   "display_name": "Python 3",
   "language": "python",
   "name": "python3"
  },
  "language_info": {
   "codemirror_mode": {
    "name": "ipython",
    "version": 3
   },
   "file_extension": ".py",
   "mimetype": "text/x-python",
   "name": "python",
   "nbconvert_exporter": "python",
   "pygments_lexer": "ipython3",
   "version": "3.7.3"
  }
 },
 "nbformat": 4,
 "nbformat_minor": 2
}
